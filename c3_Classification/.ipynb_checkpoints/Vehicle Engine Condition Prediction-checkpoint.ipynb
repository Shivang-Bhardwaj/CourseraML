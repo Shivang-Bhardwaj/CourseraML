{
 "cells": [
  {
   "cell_type": "markdown",
   "id": "2a31c674",
   "metadata": {},
   "source": [
    "### Importing Necessary libraries"
   ]
  },
  {
   "cell_type": "code",
   "execution_count": 126,
   "id": "a7f6e12f",
   "metadata": {},
   "outputs": [],
   "source": [
    "import numpy as np\n",
    "import pandas as pd\n",
    "import matplotlib.pyplot as plt\n",
    "import seaborn as sns"
   ]
  },
  {
   "cell_type": "markdown",
   "id": "8ad7f32c",
   "metadata": {},
   "source": [
    "### Goal"
   ]
  },
  {
   "cell_type": "markdown",
   "id": "d87916ab",
   "metadata": {},
   "source": [
    "To check whether our vehicle need maintainance or not. If we can somehow check it then it can prevent severe accidents."
   ]
  },
  {
   "cell_type": "markdown",
   "id": "a5f653c7",
   "metadata": {},
   "source": [
    "Let's go ahead by importing the dataset "
   ]
  },
  {
   "cell_type": "markdown",
   "id": "67106243",
   "metadata": {},
   "source": [
    "### Importing \"Vehicle Engine Data\""
   ]
  },
  {
   "cell_type": "code",
   "execution_count": 129,
   "id": "55f041dc",
   "metadata": {},
   "outputs": [
    {
     "data": {
      "text/html": [
       "<div>\n",
       "<style scoped>\n",
       "    .dataframe tbody tr th:only-of-type {\n",
       "        vertical-align: middle;\n",
       "    }\n",
       "\n",
       "    .dataframe tbody tr th {\n",
       "        vertical-align: top;\n",
       "    }\n",
       "\n",
       "    .dataframe thead th {\n",
       "        text-align: right;\n",
       "    }\n",
       "</style>\n",
       "<table border=\"1\" class=\"dataframe\">\n",
       "  <thead>\n",
       "    <tr style=\"text-align: right;\">\n",
       "      <th></th>\n",
       "      <th>Engine rpm</th>\n",
       "      <th>Lub oil pressure</th>\n",
       "      <th>Fuel pressure</th>\n",
       "      <th>Coolant pressure</th>\n",
       "      <th>lub oil temp</th>\n",
       "      <th>Coolant temp</th>\n",
       "      <th>Engine Condition</th>\n",
       "    </tr>\n",
       "  </thead>\n",
       "  <tbody>\n",
       "    <tr>\n",
       "      <th>0</th>\n",
       "      <td>700</td>\n",
       "      <td>2.493592</td>\n",
       "      <td>11.790927</td>\n",
       "      <td>3.178981</td>\n",
       "      <td>84.144163</td>\n",
       "      <td>81.632187</td>\n",
       "      <td>1</td>\n",
       "    </tr>\n",
       "    <tr>\n",
       "      <th>1</th>\n",
       "      <td>876</td>\n",
       "      <td>2.941606</td>\n",
       "      <td>16.193866</td>\n",
       "      <td>2.464504</td>\n",
       "      <td>77.640934</td>\n",
       "      <td>82.445724</td>\n",
       "      <td>0</td>\n",
       "    </tr>\n",
       "    <tr>\n",
       "      <th>2</th>\n",
       "      <td>520</td>\n",
       "      <td>2.961746</td>\n",
       "      <td>6.553147</td>\n",
       "      <td>1.064347</td>\n",
       "      <td>77.752266</td>\n",
       "      <td>79.645777</td>\n",
       "      <td>1</td>\n",
       "    </tr>\n",
       "    <tr>\n",
       "      <th>3</th>\n",
       "      <td>473</td>\n",
       "      <td>3.707835</td>\n",
       "      <td>19.510172</td>\n",
       "      <td>3.727455</td>\n",
       "      <td>74.129907</td>\n",
       "      <td>71.774629</td>\n",
       "      <td>1</td>\n",
       "    </tr>\n",
       "    <tr>\n",
       "      <th>4</th>\n",
       "      <td>619</td>\n",
       "      <td>5.672919</td>\n",
       "      <td>15.738871</td>\n",
       "      <td>2.052251</td>\n",
       "      <td>78.396989</td>\n",
       "      <td>87.000225</td>\n",
       "      <td>0</td>\n",
       "    </tr>\n",
       "  </tbody>\n",
       "</table>\n",
       "</div>"
      ],
      "text/plain": [
       "   Engine rpm  Lub oil pressure  Fuel pressure  Coolant pressure  \\\n",
       "0         700          2.493592      11.790927          3.178981   \n",
       "1         876          2.941606      16.193866          2.464504   \n",
       "2         520          2.961746       6.553147          1.064347   \n",
       "3         473          3.707835      19.510172          3.727455   \n",
       "4         619          5.672919      15.738871          2.052251   \n",
       "\n",
       "   lub oil temp  Coolant temp  Engine Condition  \n",
       "0     84.144163     81.632187                 1  \n",
       "1     77.640934     82.445724                 0  \n",
       "2     77.752266     79.645777                 1  \n",
       "3     74.129907     71.774629                 1  \n",
       "4     78.396989     87.000225                 0  "
      ]
     },
     "execution_count": 129,
     "metadata": {},
     "output_type": "execute_result"
    }
   ],
   "source": [
    "data = pd.read_csv(r\"C:\\Users\\Shivang\\Downloads\\archive\\vehicle_engine_data.csv\")\n",
    "data.head()"
   ]
  },
  {
   "cell_type": "markdown",
   "id": "583c09fb",
   "metadata": {},
   "source": [
    "\"1\" denotes Engine health is good"
   ]
  },
  {
   "cell_type": "markdown",
   "id": "1e85f3ee",
   "metadata": {},
   "source": [
    "\"0\" denotes Engine health is not good so need maintainance"
   ]
  },
  {
   "cell_type": "markdown",
   "id": "a392f47d",
   "metadata": {},
   "source": [
    "All other features are our Input variables to our model except \"Engine Condition\". \"Engine Condition\" is our target Variable"
   ]
  },
  {
   "cell_type": "code",
   "execution_count": 99,
   "id": "13c45045",
   "metadata": {},
   "outputs": [
    {
     "data": {
      "text/plain": [
       "(19535, 7)"
      ]
     },
     "execution_count": 99,
     "metadata": {},
     "output_type": "execute_result"
    }
   ],
   "source": [
    "data.shape"
   ]
  },
  {
   "cell_type": "markdown",
   "id": "a9d5a621",
   "metadata": {},
   "source": [
    "19535 --> no. of rows    7--> no. of columns"
   ]
  },
  {
   "cell_type": "markdown",
   "id": "9808f72b",
   "metadata": {},
   "source": [
    "#### Let's get schema details"
   ]
  },
  {
   "cell_type": "code",
   "execution_count": 100,
   "id": "5afa4871",
   "metadata": {},
   "outputs": [
    {
     "name": "stdout",
     "output_type": "stream",
     "text": [
      "<class 'pandas.core.frame.DataFrame'>\n",
      "RangeIndex: 19535 entries, 0 to 19534\n",
      "Data columns (total 7 columns):\n",
      " #   Column            Non-Null Count  Dtype  \n",
      "---  ------            --------------  -----  \n",
      " 0   Engine rpm        19535 non-null  int64  \n",
      " 1   Lub oil pressure  19535 non-null  float64\n",
      " 2   Fuel pressure     19535 non-null  float64\n",
      " 3   Coolant pressure  19535 non-null  float64\n",
      " 4   lub oil temp      19535 non-null  float64\n",
      " 5   Coolant temp      19535 non-null  float64\n",
      " 6   Engine Condition  19535 non-null  int64  \n",
      "dtypes: float64(5), int64(2)\n",
      "memory usage: 1.0 MB\n"
     ]
    }
   ],
   "source": [
    "data.info()"
   ]
  },
  {
   "cell_type": "code",
   "execution_count": 101,
   "id": "53137a48",
   "metadata": {},
   "outputs": [
    {
     "data": {
      "text/plain": [
       "Engine Condition\n",
       "1    12317\n",
       "0     7218\n",
       "Name: count, dtype: int64"
      ]
     },
     "execution_count": 101,
     "metadata": {},
     "output_type": "execute_result"
    }
   ],
   "source": [
    "data['Engine Condition'].value_counts()    # to get total no. of values in our target variable"
   ]
  },
  {
   "cell_type": "code",
   "execution_count": 102,
   "id": "d314a86e",
   "metadata": {},
   "outputs": [
    {
     "data": {
      "text/plain": [
       "Engine rpm          0\n",
       "Lub oil pressure    0\n",
       "Fuel pressure       0\n",
       "Coolant pressure    0\n",
       "lub oil temp        0\n",
       "Coolant temp        0\n",
       "Engine Condition    0\n",
       "dtype: int64"
      ]
     },
     "execution_count": 102,
     "metadata": {},
     "output_type": "execute_result"
    }
   ],
   "source": [
    "data.isnull().sum()  # no missing values so data is already cleansed"
   ]
  },
  {
   "cell_type": "code",
   "execution_count": 103,
   "id": "06e4e88a",
   "metadata": {},
   "outputs": [
    {
     "data": {
      "text/plain": [
       "Engine rpm         -0.268201\n",
       "Lub oil pressure    0.060904\n",
       "Fuel pressure       0.116259\n",
       "Coolant pressure   -0.024054\n",
       "lub oil temp       -0.093635\n",
       "Coolant temp       -0.046326\n",
       "Engine Condition    1.000000\n",
       "Name: Engine Condition, dtype: float64"
      ]
     },
     "execution_count": 103,
     "metadata": {},
     "output_type": "execute_result"
    }
   ],
   "source": [
    "data.corr()[\"Engine Condition\"]"
   ]
  },
  {
   "cell_type": "markdown",
   "id": "ff575c4d",
   "metadata": {},
   "source": [
    "Here we are checking the correlation of our target variable \"Engine Condition\" with other Input variables"
   ]
  },
  {
   "cell_type": "code",
   "execution_count": 104,
   "id": "7da41799",
   "metadata": {},
   "outputs": [
    {
     "data": {
      "text/plain": [
       "<Axes: >"
      ]
     },
     "execution_count": 104,
     "metadata": {},
     "output_type": "execute_result"
    },
    {
     "data": {
      "image/png": "[encoded data removed]",
      "text/plain": [
       "<Figure size 640x480 with 2 Axes>"
      ]
     },
     "metadata": {},
     "output_type": "display_data"
    }
   ],
   "source": [
    "sns.heatmap(data.corr(), annot=True) # Heat map showing the correlation matrix in a beautified manner."
   ]
  },
  {
   "cell_type": "markdown",
   "id": "ae00bd83",
   "metadata": {},
   "source": [
    "### Separating the Input Variables & Output variable"
   ]
  },
  {
   "cell_type": "code",
   "execution_count": 105,
   "id": "8d9b424f",
   "metadata": {},
   "outputs": [],
   "source": [
    "X = data.drop(columns=[\"Engine Condition\"])   # getting Input data\n",
    "y = data[\"Engine Condition\"]    # getting target variable"
   ]
  },
  {
   "cell_type": "markdown",
   "id": "c058019a",
   "metadata": {},
   "source": [
    "### Scaling the dataset"
   ]
  },
  {
   "cell_type": "code",
   "execution_count": 106,
   "id": "1fb73122",
   "metadata": {},
   "outputs": [],
   "source": [
    "# scaling the data for better performance\n",
    "\n",
    "from sklearn.preprocessing import MinMaxScaler\n",
    "mms = MinMaxScaler()\n",
    "mms = mms.fit(X)\n",
    "X_transformed = mms.transform(X)"
   ]
  },
  {
   "cell_type": "markdown",
   "id": "cef6e12b",
   "metadata": {},
   "source": [
    "### Splitting the dataset into training & test dataset"
   ]
  },
  {
   "cell_type": "code",
   "execution_count": 107,
   "id": "c271cc5e",
   "metadata": {},
   "outputs": [],
   "source": [
    "from sklearn.model_selection import train_test_split\n",
    "X_train, X_test, y_train, y_test = train_test_split(X_transformed, y, stratify=y, random_state=58)"
   ]
  },
  {
   "cell_type": "markdown",
   "id": "17f12b9a",
   "metadata": {},
   "source": [
    "### Defining the helper function for our models"
   ]
  },
  {
   "cell_type": "code",
   "execution_count": 108,
   "id": "cea20f58",
   "metadata": {},
   "outputs": [],
   "source": [
    "from sklearn.metrics import precision_score, recall_score, f1_score, confusion_matrix"
   ]
  },
  {
   "cell_type": "code",
   "execution_count": 109,
   "id": "320f0d69",
   "metadata": {},
   "outputs": [],
   "source": [
    "# helper function  to get the necessary performance scores for our model\n",
    "def getScores(y_true, y_pred):\n",
    "    pre = precision_score(y_true, y_pred)\n",
    "    rec = recall_score(y_true, y_pred)\n",
    "    f1 = f1_score(y_true, y_pred)\n",
    "    return [pre, rec, f1]"
   ]
  },
  {
   "cell_type": "markdown",
   "id": "aad060ab",
   "metadata": {},
   "source": [
    "### 1. Applying Logistic Regression"
   ]
  },
  {
   "cell_type": "code",
   "execution_count": 110,
   "id": "9802e02a",
   "metadata": {},
   "outputs": [],
   "source": [
    "from sklearn.linear_model import LogisticRegression\n",
    "model1 = LogisticRegression()\n",
    "model1 =model1.fit(X_train, y_train)\n",
    "y_pred1 = model1.predict(X_test)"
   ]
  },
  {
   "cell_type": "code",
   "execution_count": 111,
   "id": "28764166",
   "metadata": {},
   "outputs": [
    {
     "data": {
      "text/plain": [
       "Text(50.722222222222214, 0.5, 'Truth')"
      ]
     },
     "execution_count": 111,
     "metadata": {},
     "output_type": "execute_result"
    },
    {
     "data": {
      "image/png": "[encoded data removed]",
      "text/plain": [
       "<Figure size 640x480 with 2 Axes>"
      ]
     },
     "metadata": {},
     "output_type": "display_data"
    }
   ],
   "source": [
    "# creating confusion matrix for showing TP(True positives), FP(Flase Positives), TN(True Negatives), FN(False Negatives)\n",
    "\n",
    "cm = confusion_matrix(y_test, y_pred1)\n",
    "sns.heatmap(cm,annot=True,fmt='d')\n",
    "plt.xlabel('Predicted')\n",
    "plt.ylabel('Truth')"
   ]
  },
  {
   "cell_type": "code",
   "execution_count": 112,
   "id": "cf224cac",
   "metadata": {},
   "outputs": [
    {
     "data": {
      "text/plain": [
       "[0.6787525354969574, 0.8694381292627477, 0.7623522711092126]"
      ]
     },
     "execution_count": 112,
     "metadata": {},
     "output_type": "execute_result"
    }
   ],
   "source": [
    "# scores are shown as [Precison, Recall, F1 Score]\n",
    "\n",
    "score1 = getScores(y_test, y_pred1)\n",
    "score1"
   ]
  },
  {
   "cell_type": "markdown",
   "id": "b80062c0",
   "metadata": {},
   "source": [
    "### 2. Applying Support Vector Classifier(SVC)"
   ]
  },
  {
   "cell_type": "code",
   "execution_count": 113,
   "id": "b98b114f",
   "metadata": {},
   "outputs": [],
   "source": [
    "from sklearn.svm import SVC\n",
    "model2 = SVC(kernel='rbf', gamma=1.0, C=10.0)\n",
    "model2 = model2.fit(X_train, y_train)\n",
    "y_pred2 = model2.predict(X_test)"
   ]
  },
  {
   "cell_type": "code",
   "execution_count": 114,
   "id": "5f42fce5",
   "metadata": {},
   "outputs": [
    {
     "data": {
      "text/plain": [
       "Text(50.722222222222214, 0.5, 'Truth')"
      ]
     },
     "execution_count": 114,
     "metadata": {},
     "output_type": "execute_result"
    },
    {
     "data": {
      "image/png": "[encoded data removed]",
      "text/plain": [
       "<Figure size 640x480 with 2 Axes>"
      ]
     },
     "metadata": {},
     "output_type": "display_data"
    }
   ],
   "source": [
    "# creating confusion matrix for showing TP(True positives), FP(Flase Positives), TN(True Negatives), FN(False Negatives)\n",
    "\n",
    "cm = confusion_matrix(y_test, y_pred2)\n",
    "sns.heatmap(cm,annot=True,fmt='d')\n",
    "plt.xlabel('Predicted')\n",
    "plt.ylabel('Truth')"
   ]
  },
  {
   "cell_type": "code",
   "execution_count": 115,
   "id": "ea880a50",
   "metadata": {},
   "outputs": [
    {
     "data": {
      "text/plain": [
       "[0.6693245778611632, 0.926924326079896, 0.7773389622769985]"
      ]
     },
     "execution_count": 115,
     "metadata": {},
     "output_type": "execute_result"
    }
   ],
   "source": [
    "# scores are shown as [Precison, Recall, F1 Score]\n",
    "\n",
    "score2 = getScores(y_test, y_pred2)\n",
    "score2"
   ]
  },
  {
   "cell_type": "markdown",
   "id": "3b70c9c1",
   "metadata": {},
   "source": [
    "### Splitting the ORIGINAL 'X' into training & test data"
   ]
  },
  {
   "cell_type": "markdown",
   "id": "9b27dd75",
   "metadata": {},
   "source": [
    "But Why are we doing this ???"
   ]
  },
  {
   "cell_type": "markdown",
   "id": "2abd8476",
   "metadata": {},
   "source": [
    "Because Decision tree & Random Forest doesn't need scaled data"
   ]
  },
  {
   "cell_type": "code",
   "execution_count": 116,
   "id": "77774a80",
   "metadata": {},
   "outputs": [],
   "source": [
    "from sklearn.model_selection import train_test_split\n",
    "X_train2, X_test2, y_train2, y_test2 = train_test_split(X, y, stratify=y, random_state=58)"
   ]
  },
  {
   "cell_type": "markdown",
   "id": "6a8d6f12",
   "metadata": {},
   "source": [
    "### 3. Applying Decision Tree"
   ]
  },
  {
   "cell_type": "code",
   "execution_count": 117,
   "id": "dfebc35c",
   "metadata": {},
   "outputs": [],
   "source": [
    "from sklearn.tree import DecisionTreeClassifier\n",
    "model3 = DecisionTreeClassifier(criterion=\"gini\", max_depth=5)\n",
    "model3 = model3.fit(X_train2, y_train2)\n",
    "y_pred3 = model3.predict(X_test2)"
   ]
  },
  {
   "cell_type": "code",
   "execution_count": 118,
   "id": "99bbad6f",
   "metadata": {},
   "outputs": [
    {
     "data": {
      "text/plain": [
       "Text(50.722222222222214, 0.5, 'Truth')"
      ]
     },
     "execution_count": 118,
     "metadata": {},
     "output_type": "execute_result"
    },
    {
     "data": {
      "image/png": "[encoded data removed]",
      "text/plain": [
       "<Figure size 640x480 with 2 Axes>"
      ]
     },
     "metadata": {},
     "output_type": "display_data"
    }
   ],
   "source": [
    "# creating confusion matrix for showing TP(True positives), FP(Flase Positives), TN(True Negatives), FN(False Negatives)\n",
    "\n",
    "cm = confusion_matrix(y_test2, y_pred3)\n",
    "sns.heatmap(cm,annot=True,fmt='d')\n",
    "plt.xlabel('Predicted')\n",
    "plt.ylabel('Truth')"
   ]
  },
  {
   "cell_type": "code",
   "execution_count": 119,
   "id": "5dd4a489",
   "metadata": {},
   "outputs": [
    {
     "data": {
      "text/plain": [
       "[0.6977401129943502, 0.802208509256252, 0.7463363045777308]"
      ]
     },
     "execution_count": 119,
     "metadata": {},
     "output_type": "execute_result"
    }
   ],
   "source": [
    "# scores are shown as [Precison, Recall, F1 Score]\n",
    "\n",
    "score3 = getScores(y_test2, y_pred3)\n",
    "score3"
   ]
  },
  {
   "cell_type": "markdown",
   "id": "2a1800b9",
   "metadata": {},
   "source": [
    "### 4. Applying Random Forest"
   ]
  },
  {
   "cell_type": "code",
   "execution_count": 120,
   "id": "c0811165",
   "metadata": {},
   "outputs": [],
   "source": [
    "from sklearn.ensemble import RandomForestClassifier\n",
    "model4 = RandomForestClassifier()\n",
    "model4 = model4.fit(X_train2, y_train2)\n",
    "y_pred4 = model4.predict(X_test2)"
   ]
  },
  {
   "cell_type": "code",
   "execution_count": 121,
   "id": "b8d36a03",
   "metadata": {},
   "outputs": [
    {
     "data": {
      "text/plain": [
       "Text(50.722222222222214, 0.5, 'Truth')"
      ]
     },
     "execution_count": 121,
     "metadata": {},
     "output_type": "execute_result"
    },
    {
     "data": {
      "image/png": "[encoded data removed]",
      "text/plain": [
       "<Figure size 640x480 with 2 Axes>"
      ]
     },
     "metadata": {},
     "output_type": "display_data"
    }
   ],
   "source": [
    "# creating confusion matrix for showing TP(True positives), FP(Flase Positives), TN(True Negatives), FN(False Negatives)\n",
    "\n",
    "cm = confusion_matrix(y_test2, y_pred4)\n",
    "sns.heatmap(cm,annot=True,fmt='d')\n",
    "plt.xlabel('Predicted')\n",
    "plt.ylabel('Truth')"
   ]
  },
  {
   "cell_type": "code",
   "execution_count": 122,
   "id": "42cca6b8",
   "metadata": {},
   "outputs": [
    {
     "data": {
      "text/plain": [
       "[0.6954898017810974, 0.7862942513803183, 0.738109756097561]"
      ]
     },
     "execution_count": 122,
     "metadata": {},
     "output_type": "execute_result"
    }
   ],
   "source": [
    "# scores are shown as [Precison, Recall, F1 Score]\n",
    "\n",
    "score4 = getScores(y_test2, y_pred4)\n",
    "score4"
   ]
  },
  {
   "cell_type": "markdown",
   "id": "dce4f9f4",
   "metadata": {},
   "source": [
    "### Getting scores for all models in a compiled way"
   ]
  },
  {
   "cell_type": "code",
   "execution_count": 123,
   "id": "d03bc5b2",
   "metadata": {},
   "outputs": [
    {
     "data": {
      "text/html": [
       "<div>\n",
       "<style scoped>\n",
       "    .dataframe tbody tr th:only-of-type {\n",
       "        vertical-align: middle;\n",
       "    }\n",
       "\n",
       "    .dataframe tbody tr th {\n",
       "        vertical-align: top;\n",
       "    }\n",
       "\n",
       "    .dataframe thead th {\n",
       "        text-align: right;\n",
       "    }\n",
       "</style>\n",
       "<table border=\"1\" class=\"dataframe\">\n",
       "  <thead>\n",
       "    <tr style=\"text-align: right;\">\n",
       "      <th></th>\n",
       "      <th>Precision</th>\n",
       "      <th>Recall</th>\n",
       "      <th>F1 Score</th>\n",
       "    </tr>\n",
       "  </thead>\n",
       "  <tbody>\n",
       "    <tr>\n",
       "      <th>Logistic Reg.</th>\n",
       "      <td>0.679</td>\n",
       "      <td>0.869</td>\n",
       "      <td>0.762</td>\n",
       "    </tr>\n",
       "    <tr>\n",
       "      <th>SVM</th>\n",
       "      <td>0.669</td>\n",
       "      <td>0.927</td>\n",
       "      <td>0.777</td>\n",
       "    </tr>\n",
       "    <tr>\n",
       "      <th>Decision Tree</th>\n",
       "      <td>0.698</td>\n",
       "      <td>0.802</td>\n",
       "      <td>0.746</td>\n",
       "    </tr>\n",
       "    <tr>\n",
       "      <th>Random Forest</th>\n",
       "      <td>0.695</td>\n",
       "      <td>0.786</td>\n",
       "      <td>0.738</td>\n",
       "    </tr>\n",
       "  </tbody>\n",
       "</table>\n",
       "</div>"
      ],
      "text/plain": [
       "               Precision  Recall  F1 Score\n",
       "Logistic Reg.      0.679   0.869     0.762\n",
       "SVM                0.669   0.927     0.777\n",
       "Decision Tree      0.698   0.802     0.746\n",
       "Random Forest      0.695   0.786     0.738"
      ]
     },
     "execution_count": 123,
     "metadata": {},
     "output_type": "execute_result"
    }
   ],
   "source": [
    "d = [score1, score2, score3, score4]\n",
    "models = [\"Logistic Reg.\", \"SVM\", \"Decision Tree\", \"Random Forest\"]\n",
    "df = pd.DataFrame(d, index=models,\n",
    "            columns=[\"Precision\", \"Recall\", \"F1 Score\"])\n",
    "round(df, 3)"
   ]
  },
  {
   "cell_type": "markdown",
   "id": "12a1269e",
   "metadata": {},
   "source": [
    "Approximately SVM has done well "
   ]
  },
  {
   "cell_type": "code",
   "execution_count": 125,
   "id": "b5bd8fa8",
   "metadata": {},
   "outputs": [
    {
     "data": {
      "image/png": "[encoded data removed]",
      "text/plain": [
       "<Figure size 640x480 with 1 Axes>"
      ]
     },
     "metadata": {},
     "output_type": "display_data"
    }
   ],
   "source": [
    "x = [model1.score(X_test, y_test),\n",
    "     model2.score(X_test, y_test),\n",
    "    model3.score(X_test2, y_test2),\n",
    "    model4.score(X_test2, y_test2)]\n",
    "plt.barh(models, x)\n",
    "plt.xlabel(\"Accuracy\")\n",
    "plt.ylabel(\"Models\")\n",
    "plt.title(\"Accuracy Bar graph\")\n",
    "plt.show()"
   ]
  },
  {
   "cell_type": "markdown",
   "id": "28e455e5",
   "metadata": {},
   "source": [
    "Here from Accuracy score, SVM has done well"
   ]
  },
  {
   "cell_type": "markdown",
   "id": "ef59a3a2",
   "metadata": {},
   "source": [
    "From above \"Accuracy bar graph\" and \"Score DataFrame\", it is clear that \"SVC\"(or SVM) is performing well. "
   ]
  },
  {
   "cell_type": "markdown",
   "id": "3c012b01",
   "metadata": {},
   "source": [
    "### Further improvement in models"
   ]
  },
  {
   "cell_type": "markdown",
   "id": "4e9168dd",
   "metadata": {},
   "source": [
    "1. we can balance the imbalaced dataset to increase the accuracy(performance) of our models.\n",
    "2. we can use cross-validation to get the best hyper-parameters for our models.\n",
    "3. we can also use other performance metrics like roc auc curve to further define the performance of model.\n",
    "4. using other algos like XGboost, AdaBoost, etc"
   ]
  },
  {
   "cell_type": "code",
   "execution_count": null,
   "id": "c535fff6",
   "metadata": {},
   "outputs": [],
   "source": []
  },
  {
   "cell_type": "code",
   "execution_count": null,
   "id": "bcc45405",
   "metadata": {},
   "outputs": [],
   "source": []
  },
  {
   "cell_type": "code",
   "execution_count": 68,
   "id": "9cac4cbd",
   "metadata": {},
   "outputs": [
    {
     "data": {
      "text/html": [
       "<style>#sk-container-id-1 {color: black;background-color: white;}#sk-container-id-1 pre{padding: 0;}#sk-container-id-1 div.sk-toggleable {background-color: white;}#sk-container-id-1 label.sk-toggleable__label {cursor: pointer;display: block;width: 100%;margin-bottom: 0;padding: 0.3em;box-sizing: border-box;text-align: center;}#sk-container-id-1 label.sk-toggleable__label-arrow:before {content: \"▸\";float: left;margin-right: 0.25em;color: #696969;}#sk-container-id-1 label.sk-toggleable__label-arrow:hover:before {color: black;}#sk-container-id-1 div.sk-estimator:hover label.sk-toggleable__label-arrow:before {color: black;}#sk-container-id-1 div.sk-toggleable__content {max-height: 0;max-width: 0;overflow: hidden;text-align: left;background-color: #f0f8ff;}#sk-container-id-1 div.sk-toggleable__content pre {margin: 0.2em;color: black;border-radius: 0.25em;background-color: #f0f8ff;}#sk-container-id-1 input.sk-toggleable__control:checked~div.sk-toggleable__content {max-height: 200px;max-width: 100%;overflow: auto;}#sk-container-id-1 input.sk-toggleable__control:checked~label.sk-toggleable__label-arrow:before {content: \"▾\";}#sk-container-id-1 div.sk-estimator input.sk-toggleable__control:checked~label.sk-toggleable__label {background-color: #d4ebff;}#sk-container-id-1 div.sk-label input.sk-toggleable__control:checked~label.sk-toggleable__label {background-color: #d4ebff;}#sk-container-id-1 input.sk-hidden--visually {border: 0;clip: rect(1px 1px 1px 1px);clip: rect(1px, 1px, 1px, 1px);height: 1px;margin: -1px;overflow: hidden;padding: 0;position: absolute;width: 1px;}#sk-container-id-1 div.sk-estimator {font-family: monospace;background-color: #f0f8ff;border: 1px dotted black;border-radius: 0.25em;box-sizing: border-box;margin-bottom: 0.5em;}#sk-container-id-1 div.sk-estimator:hover {background-color: #d4ebff;}#sk-container-id-1 div.sk-parallel-item::after {content: \"\";width: 100%;border-bottom: 1px solid gray;flex-grow: 1;}#sk-container-id-1 div.sk-label:hover label.sk-toggleable__label {background-color: #d4ebff;}#sk-container-id-1 div.sk-serial::before {content: \"\";position: absolute;border-left: 1px solid gray;box-sizing: border-box;top: 0;bottom: 0;left: 50%;z-index: 0;}#sk-container-id-1 div.sk-serial {display: flex;flex-direction: column;align-items: center;background-color: white;padding-right: 0.2em;padding-left: 0.2em;position: relative;}#sk-container-id-1 div.sk-item {position: relative;z-index: 1;}#sk-container-id-1 div.sk-parallel {display: flex;align-items: stretch;justify-content: center;background-color: white;position: relative;}#sk-container-id-1 div.sk-item::before, #sk-container-id-1 div.sk-parallel-item::before {content: \"\";position: absolute;border-left: 1px solid gray;box-sizing: border-box;top: 0;bottom: 0;left: 50%;z-index: -1;}#sk-container-id-1 div.sk-parallel-item {display: flex;flex-direction: column;z-index: 1;position: relative;background-color: white;}#sk-container-id-1 div.sk-parallel-item:first-child::after {align-self: flex-end;width: 50%;}#sk-container-id-1 div.sk-parallel-item:last-child::after {align-self: flex-start;width: 50%;}#sk-container-id-1 div.sk-parallel-item:only-child::after {width: 0;}#sk-container-id-1 div.sk-dashed-wrapped {border: 1px dashed gray;margin: 0 0.4em 0.5em 0.4em;box-sizing: border-box;padding-bottom: 0.4em;background-color: white;}#sk-container-id-1 div.sk-label label {font-family: monospace;font-weight: bold;display: inline-block;line-height: 1.2em;}#sk-container-id-1 div.sk-label-container {text-align: center;}#sk-container-id-1 div.sk-container {/* jupyter's `normalize.less` sets `[hidden] { display: none; }` but bootstrap.min.css set `[hidden] { display: none !important; }` so we also need the `!important` here to be able to override the default hidden behavior on the sphinx rendered scikit-learn.org. See: https://github.com/scikit-learn/scikit-learn/issues/21755 */display: inline-block !important;position: relative;}#sk-container-id-1 div.sk-text-repr-fallback {display: none;}</style><div id=\"sk-container-id-1\" class=\"sk-top-container\"><div class=\"sk-text-repr-fallback\"><pre>SVC(C=10.0, gamma=1.0)</pre><b>In a Jupyter environment, please rerun this cell to show the HTML representation or trust the notebook. <br />On GitHub, the HTML representation is unable to render, please try loading this page with nbviewer.org.</b></div><div class=\"sk-container\" hidden><div class=\"sk-item\"><div class=\"sk-estimator sk-toggleable\"><input class=\"sk-toggleable__control sk-hidden--visually\" id=\"sk-estimator-id-1\" type=\"checkbox\" checked><label for=\"sk-estimator-id-1\" class=\"sk-toggleable__label sk-toggleable__label-arrow\">SVC</label><div class=\"sk-toggleable__content\"><pre>SVC(C=10.0, gamma=1.0)</pre></div></div></div></div></div>"
      ],
      "text/plain": [
       "SVC(C=10.0, gamma=1.0)"
      ]
     },
     "execution_count": 68,
     "metadata": {},
     "output_type": "execute_result"
    }
   ],
   "source": [
    "model2"
   ]
  },
  {
   "cell_type": "code",
   "execution_count": 93,
   "id": "1fbea733",
   "metadata": {},
   "outputs": [],
   "source": [
    "l = [1500, 2.493592, 11.790927, 3.178981, 84.144163, 81.632187]"
   ]
  },
  {
   "cell_type": "code",
   "execution_count": 94,
   "id": "e97fa4d4",
   "metadata": {},
   "outputs": [
    {
     "name": "stderr",
     "output_type": "stream",
     "text": [
      "D:\\Users\\DELL PC\\AppData\\Local\\Programs\\Python\\Python39\\lib\\site-packages\\sklearn\\base.py:439: UserWarning: X does not have valid feature names, but MinMaxScaler was fitted with feature names\n",
      "  warnings.warn(\n"
     ]
    },
    {
     "data": {
      "text/plain": [
       "array([[0.66069789, 0.34290081, 0.55773185, 0.4248915 , 0.70224626,\n",
       "        0.14910854]])"
      ]
     },
     "execution_count": 94,
     "metadata": {},
     "output_type": "execute_result"
    }
   ],
   "source": [
    "l_trans = mms.transform([l])\n",
    "l_trans"
   ]
  },
  {
   "cell_type": "code",
   "execution_count": 95,
   "id": "eb5889fe",
   "metadata": {},
   "outputs": [
    {
     "data": {
      "text/plain": [
       "array([0], dtype=int64)"
      ]
     },
     "execution_count": 95,
     "metadata": {},
     "output_type": "execute_result"
    }
   ],
   "source": [
    "model2.predict(l_trans)"
   ]
  },
  {
   "cell_type": "code",
   "execution_count": 85,
   "id": "b69bdf16",
   "metadata": {},
   "outputs": [
    {
     "data": {
      "text/plain": [
       "2239"
      ]
     },
     "execution_count": 85,
     "metadata": {},
     "output_type": "execute_result"
    }
   ],
   "source": [
    "data[\"Engine rpm\"].max()"
   ]
  }
 ],
 "metadata": {
  "kernelspec": {
   "display_name": "Python 3 (ipykernel)",
   "language": "python",
   "name": "python3"
  },
  "language_info": {
   "codemirror_mode": {
    "name": "ipython",
    "version": 3
   },
   "file_extension": ".py",
   "mimetype": "text/x-python",
   "name": "python",
   "nbconvert_exporter": "python",
   "pygments_lexer": "ipython3",
   "version": "3.9.0"
  }
 },
 "nbformat": 4,
 "nbformat_minor": 5
}
