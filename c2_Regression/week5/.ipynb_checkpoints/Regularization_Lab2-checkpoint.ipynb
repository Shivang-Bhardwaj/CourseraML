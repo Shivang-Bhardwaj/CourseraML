{
 "cells": [
  {
   "cell_type": "markdown",
   "metadata": {},
   "source": [
    "<center>\n",
    "    <img src=\"https://cf-courses-data.s3.us.cloud-object-storage.appdomain.cloud/assets/logos/SN_web_lightmode.png\" width=\"300\" alt=\"cognitiveclass.ai logo\"  />\n",
    "</center>\n"
   ]
  },
  {
   "cell_type": "markdown",
   "metadata": {},
   "source": [
    "# Regularization Techniques\n",
    "\n",
    "Estimated time needed: **60** minutes\n",
    "\n",
    "The purpose of Regularization techniques is to reduce the degree of overfitting that can occur in Regression models. Overfitting leads to poor ability of the model to make predictions on the new, unseen data. As we saw in the previous Regression Lessons, with a creation of extra features, such as through polynomial regression, a model can become easily overfit. To reduce the overfitting, we can regularize the model, or in other words, we can decrease its degrees of freedom. A simple way to regularize polynomial model is to reduce the number of polynomial degrees. For a linear regression model, regularization is typically achieved by constraining the weights of the model. Regularizer imposes a penalty on the size of the coefficients of the model.\n",
    "\n",
    "In this lab, we will cover three types of regularizers:\n",
    "\n",
    "*   Ridge regression\n",
    "*   Lasso regression\n",
    "*   Elastic Net\n",
    "\n",
    "Each one has its own advantages and disadvantages. Lasso will eliminate many features and reduce overfitting in your linear model. Ridge will reduce the impact of the features that are not important in predicting your target. Elastic Net combines feature elimination from Lasso and feature coefficient reduction from the Ridge model to improve your model’s predictions.\n",
    "\n",
    "The common features of all these regularizers include using cross-validation to select hyperparameters and applying data normalization to improve the performance.\n",
    "\n",
    "## Objectives\n",
    "\n",
    "After completing this lab you will be able to:\n",
    "\n",
    "*   Understand the advantages and disadvantages of Ridge, Lasso and Elastic Net Regressions\n",
    "*   Apply Ridge, Lasso and Elastic Net Regressions\n",
    "*   Perform  hyperparameters Grid Search on a model using validation data\n"
   ]
  },
  {
   "cell_type": "markdown",
   "metadata": {},
   "source": [
    "***\n"
   ]
  },
  {
   "cell_type": "markdown",
   "metadata": {},
   "source": [
    "## **Setup**\n"
   ]
  },
  {
   "cell_type": "markdown",
   "metadata": {},
   "source": [
    "For this lab, we will be using the following libraries:\n",
    "\n",
    "*   [`pandas`](https://pandas.pydata.org/?utm_medium=Exinfluencer&utm_source=Exinfluencer&utm_content=000026UJ&utm_term=10006555&utm_id=NA-SkillsNetwork-Channel-SkillsNetworkCoursesIBMML240ENSkillsNetwork34171862-2022-01-01) for managing the data.\n",
    "*   [`numpy`](https://numpy.org/?utm_medium=Exinfluencer&utm_source=Exinfluencer&utm_content=000026UJ&utm_term=10006555&utm_id=NA-SkillsNetwork-Channel-SkillsNetworkCoursesIBMML240ENSkillsNetwork34171862-2022-01-01) for mathematical operations.\n",
    "*   [`seaborn`](https://seaborn.pydata.org/?utm_medium=Exinfluencer&utm_source=Exinfluencer&utm_content=000026UJ&utm_term=10006555&utm_id=NA-SkillsNetwork-Channel-SkillsNetworkCoursesIBMML240ENSkillsNetwork34171862-2022-01-01) for visualizing the data.\n",
    "*   [`matplotlib`](https://matplotlib.org/?utm_medium=Exinfluencer&utm_source=Exinfluencer&utm_content=000026UJ&utm_term=10006555&utm_id=NA-SkillsNetwork-Channel-SkillsNetworkCoursesIBMML240ENSkillsNetwork34171862-2022-01-01) for visualizing the data.\n",
    "*   [`sklearn`](https://scikit-learn.org/stable/?utm_medium=Exinfluencer&utm_source=Exinfluencer&utm_content=000026UJ&utm_term=10006555&utm_id=NA-SkillsNetwork-Channel-SkillsNetworkCoursesIBMML240ENSkillsNetwork34171862-2022-01-01) for machine learning and machine-learning-pipeline related functions.\n",
    "*   [`scipy`](https://docs.scipy.org/doc/scipy/tutorial/stats.html/?utm_medium=Exinfluencer&utm_source=Exinfluencer&utm_content=000026UJ&utm_term=10006555&utm_id=NA-SkillsNetwork-Channel-SkillsNetworkCoursesIBMML240ENSkillsNetwork34171862-2022-01-01) for statistical computations.\n"
   ]
  },
  {
   "cell_type": "markdown",
   "metadata": {},
   "source": [
    "## **Import the required libraries**\n"
   ]
  },
  {
   "cell_type": "markdown",
   "metadata": {},
   "source": [
    "The following required modules are pre-installed in the Skills Network Labs environment. However if you run this notebook commands in a different Jupyter environment (e.g. Watson Studio or Ananconda) you will need to install these libraries by removing the `#` sign before `!mamba` in the code cell below.\n"
   ]
  },
  {
   "cell_type": "code",
   "execution_count": null,
   "metadata": {},
   "outputs": [],
   "source": [
    "# All Libraries required for this lab are listed below. The libraries pre-installed on Skills Network Labs are commented.\n",
    "# !mamba install -qy pandas==1.3.4 numpy==1.21.4 seaborn==0.9.0 matplotlib==3.5.0 scikit-learn==0.20.1\n",
    "# Note: If your environment doesn't support \"!mamba install\", use \"!pip install\""
   ]
  },
  {
   "cell_type": "code",
   "execution_count": null,
   "metadata": {},
   "outputs": [],
   "source": [
    "!pip install -U scikit-learn"
   ]
  },
  {
   "cell_type": "code",
   "execution_count": null,
   "metadata": {},
   "outputs": [],
   "source": [
    "#import sklearn; print(\"Scikit-Learn\", sklearn.__version__)"
   ]
  },
  {
   "cell_type": "code",
   "execution_count": 1,
   "metadata": {},
   "outputs": [],
   "source": [
    "# Surpress warnings:\n",
    "def warn(*args, **kwargs):\n",
    "    pass\n",
    "import warnings\n",
    "warnings.warn = warn"
   ]
  },
  {
   "cell_type": "code",
   "execution_count": 6,
   "metadata": {
    "tags": []
   },
   "outputs": [],
   "source": [
    "import pandas as pd\n",
    "import numpy as np \n",
    "\n",
    "import seaborn as sns \n",
    "import matplotlib.pylab as plt\n",
    "%matplotlib inline\n",
    "\n",
    "from sklearn.model_selection import train_test_split\n",
    "from sklearn.linear_model import LinearRegression,Ridge,Lasso,ElasticNet\n",
    "from sklearn.metrics import r2_score \n",
    "from sklearn.preprocessing import PolynomialFeatures\n",
    "from sklearn.metrics import mean_squared_error\n",
    "from sklearn.preprocessing import scale\n",
    "from sklearn.preprocessing import StandardScaler\n",
    "from sklearn.preprocessing import MinMaxScaler\n",
    "from sklearn.feature_selection import SelectKBest, f_regression\n",
    "from sklearn.pipeline import Pipeline\n",
    "from sklearn.model_selection import GridSearchCV\n",
    "from sklearn.decomposition import PCA\n",
    "\n"
   ]
  },
  {
   "cell_type": "markdown",
   "metadata": {},
   "source": [
    "First, let's define some functions that will help us in the future analysis.\n",
    "\n",
    "Below function will calculate the $R^{2}$ on each feature given the input of the model.\n"
   ]
  },
  {
   "cell_type": "code",
   "execution_count": 2,
   "metadata": {},
   "outputs": [],
   "source": [
    "def get_R2_features(model,test=True): \n",
    "    #X: global  \n",
    "    features=list(X)\n",
    "    features.remove(\"three\")\n",
    "    \n",
    "    R_2_train=[]\n",
    "    R_2_test=[]\n",
    "\n",
    "    for feature in features:\n",
    "        model.fit(X_train[[feature]],y_train)\n",
    "        \n",
    "        R_2_test.append(model.score(X_test[[feature]],y_test))\n",
    "        R_2_train.append(model.score(X_train[[feature]],y_train))\n",
    "        \n",
    "    plt.bar(features,R_2_train,label=\"Train\")\n",
    "    plt.bar(features,R_2_test,label=\"Test\")\n",
    "    plt.xticks(rotation=90)\n",
    "    plt.ylabel(\"$R^2$\")\n",
    "    plt.legend()\n",
    "    plt.show()\n",
    "    print(\"Training R^2 mean value {} Testing R^2 mean value {} \".format(str(np.mean(R_2_train)),str(np.mean(R_2_test))) )\n",
    "    print(\"Training R^2 max value {} Testing R^2 max value {} \".format(str(np.max(R_2_train)),str(np.max(R_2_test))) )"
   ]
  },
  {
   "cell_type": "markdown",
   "metadata": {},
   "source": [
    "Below function will plot the estimated coefficients for each feature and find $R^{2}$ on training and testing sets.\n"
   ]
  },
  {
   "cell_type": "code",
   "execution_count": 3,
   "metadata": {},
   "outputs": [],
   "source": [
    "def plot_coef(X,model,name=None):\n",
    "    \n",
    "\n",
    "    plt.bar(X.columns[2:],abs(model.coef_[2:]))\n",
    "    plt.xticks(rotation=90)\n",
    "    plt.ylabel(\"$coefficients$\")\n",
    "    plt.title(name)\n",
    "    plt.show()\n",
    "    print(\"R^2 on training  data \",model.score(X_train, y_train))\n",
    "    print(\"R^2 on testing data \",model.score(X_test,y_test))\n",
    "    "
   ]
  },
  {
   "cell_type": "markdown",
   "metadata": {},
   "source": [
    "Below function plots the distribution of two inputs.\n"
   ]
  },
  {
   "cell_type": "code",
   "execution_count": 4,
   "metadata": {
    "tags": []
   },
   "outputs": [],
   "source": [
    "def  plot_dis(y,yhat):\n",
    "    \n",
    "    plt.figure()\n",
    "    ax1 = sns.distplot(y, hist=False, color=\"r\", label=\"Actual Value\")\n",
    "    sns.distplot(yhat, hist=False, color=\"b\", label=\"Fitted Values\" , ax=ax1)\n",
    "    plt.legend()\n",
    "\n",
    "    plt.title('Actual vs Fitted Values')\n",
    "    plt.xlabel('Price (in dollars)')\n",
    "    plt.ylabel('Proportion of Cars')\n",
    "\n",
    "    plt.show()\n",
    "    plt.close()"
   ]
  },
  {
   "cell_type": "markdown",
   "metadata": {},
   "source": [
    "## **Reading and understanding our data**\n"
   ]
  },
  {
   "cell_type": "markdown",
   "metadata": {},
   "source": [
    "For this lab, we will be using the car sales dataset, hosted on IBM Cloud object storage. The dataset contains all the information about cars, the name of the manufacturer, the year it was launched, all car technical parameters, and the sale price. This dataset has already been pre-cleaned and encoded (using one-hot and label encoders) in the Linear Regression Notebook.\n"
   ]
  },
  {
   "cell_type": "markdown",
   "metadata": {},
   "source": [
    "Let's read the data into *pandas* data frame and look at the first 5 rows using the `head()` method.\n"
   ]
  },
  {
   "cell_type": "code",
   "execution_count": 7,
   "metadata": {},
   "outputs": [
    {
     "data": {
      "text/html": [
       "<div>\n",
       "<style scoped>\n",
       "    .dataframe tbody tr th:only-of-type {\n",
       "        vertical-align: middle;\n",
       "    }\n",
       "\n",
       "    .dataframe tbody tr th {\n",
       "        vertical-align: top;\n",
       "    }\n",
       "\n",
       "    .dataframe thead th {\n",
       "        text-align: right;\n",
       "    }\n",
       "</style>\n",
       "<table border=\"1\" class=\"dataframe\">\n",
       "  <thead>\n",
       "    <tr style=\"text-align: right;\">\n",
       "      <th></th>\n",
       "      <th>diesel</th>\n",
       "      <th>gas</th>\n",
       "      <th>std</th>\n",
       "      <th>turbo</th>\n",
       "      <th>convertible</th>\n",
       "      <th>hardtop</th>\n",
       "      <th>hatchback</th>\n",
       "      <th>sedan</th>\n",
       "      <th>wagon</th>\n",
       "      <th>4wd</th>\n",
       "      <th>...</th>\n",
       "      <th>wheelbase</th>\n",
       "      <th>curbweight</th>\n",
       "      <th>enginesize</th>\n",
       "      <th>boreratio</th>\n",
       "      <th>horsepower</th>\n",
       "      <th>carlength</th>\n",
       "      <th>carwidth</th>\n",
       "      <th>citympg</th>\n",
       "      <th>highwaympg</th>\n",
       "      <th>price</th>\n",
       "    </tr>\n",
       "  </thead>\n",
       "  <tbody>\n",
       "    <tr>\n",
       "      <th>0</th>\n",
       "      <td>0.0</td>\n",
       "      <td>1.0</td>\n",
       "      <td>1.0</td>\n",
       "      <td>0.0</td>\n",
       "      <td>1.0</td>\n",
       "      <td>0.0</td>\n",
       "      <td>0.0</td>\n",
       "      <td>0.0</td>\n",
       "      <td>0.0</td>\n",
       "      <td>0.0</td>\n",
       "      <td>...</td>\n",
       "      <td>88.6</td>\n",
       "      <td>2548.0</td>\n",
       "      <td>130.0</td>\n",
       "      <td>3.47</td>\n",
       "      <td>111.0</td>\n",
       "      <td>168.8</td>\n",
       "      <td>64.1</td>\n",
       "      <td>21.0</td>\n",
       "      <td>27.0</td>\n",
       "      <td>13495.0</td>\n",
       "    </tr>\n",
       "    <tr>\n",
       "      <th>1</th>\n",
       "      <td>0.0</td>\n",
       "      <td>1.0</td>\n",
       "      <td>1.0</td>\n",
       "      <td>0.0</td>\n",
       "      <td>1.0</td>\n",
       "      <td>0.0</td>\n",
       "      <td>0.0</td>\n",
       "      <td>0.0</td>\n",
       "      <td>0.0</td>\n",
       "      <td>0.0</td>\n",
       "      <td>...</td>\n",
       "      <td>88.6</td>\n",
       "      <td>2548.0</td>\n",
       "      <td>130.0</td>\n",
       "      <td>3.47</td>\n",
       "      <td>111.0</td>\n",
       "      <td>168.8</td>\n",
       "      <td>64.1</td>\n",
       "      <td>21.0</td>\n",
       "      <td>27.0</td>\n",
       "      <td>16500.0</td>\n",
       "    </tr>\n",
       "    <tr>\n",
       "      <th>2</th>\n",
       "      <td>0.0</td>\n",
       "      <td>1.0</td>\n",
       "      <td>1.0</td>\n",
       "      <td>0.0</td>\n",
       "      <td>0.0</td>\n",
       "      <td>0.0</td>\n",
       "      <td>1.0</td>\n",
       "      <td>0.0</td>\n",
       "      <td>0.0</td>\n",
       "      <td>0.0</td>\n",
       "      <td>...</td>\n",
       "      <td>94.5</td>\n",
       "      <td>2823.0</td>\n",
       "      <td>152.0</td>\n",
       "      <td>2.68</td>\n",
       "      <td>154.0</td>\n",
       "      <td>171.2</td>\n",
       "      <td>65.5</td>\n",
       "      <td>19.0</td>\n",
       "      <td>26.0</td>\n",
       "      <td>16500.0</td>\n",
       "    </tr>\n",
       "    <tr>\n",
       "      <th>3</th>\n",
       "      <td>0.0</td>\n",
       "      <td>1.0</td>\n",
       "      <td>1.0</td>\n",
       "      <td>0.0</td>\n",
       "      <td>0.0</td>\n",
       "      <td>0.0</td>\n",
       "      <td>0.0</td>\n",
       "      <td>1.0</td>\n",
       "      <td>0.0</td>\n",
       "      <td>0.0</td>\n",
       "      <td>...</td>\n",
       "      <td>99.8</td>\n",
       "      <td>2337.0</td>\n",
       "      <td>109.0</td>\n",
       "      <td>3.19</td>\n",
       "      <td>102.0</td>\n",
       "      <td>176.6</td>\n",
       "      <td>66.2</td>\n",
       "      <td>24.0</td>\n",
       "      <td>30.0</td>\n",
       "      <td>13950.0</td>\n",
       "    </tr>\n",
       "    <tr>\n",
       "      <th>4</th>\n",
       "      <td>0.0</td>\n",
       "      <td>1.0</td>\n",
       "      <td>1.0</td>\n",
       "      <td>0.0</td>\n",
       "      <td>0.0</td>\n",
       "      <td>0.0</td>\n",
       "      <td>0.0</td>\n",
       "      <td>1.0</td>\n",
       "      <td>0.0</td>\n",
       "      <td>1.0</td>\n",
       "      <td>...</td>\n",
       "      <td>99.4</td>\n",
       "      <td>2824.0</td>\n",
       "      <td>136.0</td>\n",
       "      <td>3.19</td>\n",
       "      <td>115.0</td>\n",
       "      <td>176.6</td>\n",
       "      <td>66.4</td>\n",
       "      <td>18.0</td>\n",
       "      <td>22.0</td>\n",
       "      <td>17450.0</td>\n",
       "    </tr>\n",
       "  </tbody>\n",
       "</table>\n",
       "<p>5 rows × 36 columns</p>\n",
       "</div>"
      ],
      "text/plain": [
       "   diesel  gas  std  turbo  convertible  hardtop  hatchback  sedan  wagon  \\\n",
       "0     0.0  1.0  1.0    0.0          1.0      0.0        0.0    0.0    0.0   \n",
       "1     0.0  1.0  1.0    0.0          1.0      0.0        0.0    0.0    0.0   \n",
       "2     0.0  1.0  1.0    0.0          0.0      0.0        1.0    0.0    0.0   \n",
       "3     0.0  1.0  1.0    0.0          0.0      0.0        0.0    1.0    0.0   \n",
       "4     0.0  1.0  1.0    0.0          0.0      0.0        0.0    1.0    0.0   \n",
       "\n",
       "   4wd  ...  wheelbase  curbweight  enginesize  boreratio  horsepower  \\\n",
       "0  0.0  ...       88.6      2548.0       130.0       3.47       111.0   \n",
       "1  0.0  ...       88.6      2548.0       130.0       3.47       111.0   \n",
       "2  0.0  ...       94.5      2823.0       152.0       2.68       154.0   \n",
       "3  0.0  ...       99.8      2337.0       109.0       3.19       102.0   \n",
       "4  1.0  ...       99.4      2824.0       136.0       3.19       115.0   \n",
       "\n",
       "   carlength  carwidth  citympg  highwaympg    price  \n",
       "0      168.8      64.1     21.0        27.0  13495.0  \n",
       "1      168.8      64.1     21.0        27.0  16500.0  \n",
       "2      171.2      65.5     19.0        26.0  16500.0  \n",
       "3      176.6      66.2     24.0        30.0  13950.0  \n",
       "4      176.6      66.4     18.0        22.0  17450.0  \n",
       "\n",
       "[5 rows x 36 columns]"
      ]
     },
     "execution_count": 7,
     "metadata": {},
     "output_type": "execute_result"
    }
   ],
   "source": [
    "data = pd.read_csv('https://cf-courses-data.s3.us.cloud-object-storage.appdomain.cloud/IBM-ML240EN-SkillsNetwork/labs/encoded_car_data.csv')\n",
    "data.head()"
   ]
  },
  {
   "cell_type": "markdown",
   "metadata": {},
   "source": [
    "We can find more information about the features and types using the `info()`  method.\n"
   ]
  },
  {
   "cell_type": "code",
   "execution_count": 8,
   "metadata": {
    "scrolled": true
   },
   "outputs": [
    {
     "name": "stdout",
     "output_type": "stream",
     "text": [
      "<class 'pandas.core.frame.DataFrame'>\n",
      "RangeIndex: 205 entries, 0 to 204\n",
      "Data columns (total 36 columns):\n",
      " #   Column       Non-Null Count  Dtype  \n",
      "---  ------       --------------  -----  \n",
      " 0   diesel       205 non-null    float64\n",
      " 1   gas          205 non-null    float64\n",
      " 2   std          205 non-null    float64\n",
      " 3   turbo        205 non-null    float64\n",
      " 4   convertible  205 non-null    float64\n",
      " 5   hardtop      205 non-null    float64\n",
      " 6   hatchback    205 non-null    float64\n",
      " 7   sedan        205 non-null    float64\n",
      " 8   wagon        205 non-null    float64\n",
      " 9   4wd          205 non-null    float64\n",
      " 10  fwd          205 non-null    float64\n",
      " 11  rwd          205 non-null    float64\n",
      " 12  dohc         205 non-null    float64\n",
      " 13  dohcv        205 non-null    float64\n",
      " 14  l            205 non-null    float64\n",
      " 15  ohc          205 non-null    float64\n",
      " 16  ohcf         205 non-null    float64\n",
      " 17  ohcv         205 non-null    float64\n",
      " 18  rotor        205 non-null    float64\n",
      " 19  eight        205 non-null    float64\n",
      " 20  five         205 non-null    float64\n",
      " 21  four         205 non-null    float64\n",
      " 22  six          205 non-null    float64\n",
      " 23  three        205 non-null    float64\n",
      " 24  twelve       205 non-null    float64\n",
      " 25  two          205 non-null    float64\n",
      " 26  wheelbase    205 non-null    float64\n",
      " 27  curbweight   205 non-null    float64\n",
      " 28  enginesize   205 non-null    float64\n",
      " 29  boreratio    205 non-null    float64\n",
      " 30  horsepower   205 non-null    float64\n",
      " 31  carlength    205 non-null    float64\n",
      " 32  carwidth     205 non-null    float64\n",
      " 33  citympg      205 non-null    float64\n",
      " 34  highwaympg   205 non-null    float64\n",
      " 35  price        205 non-null    float64\n",
      "dtypes: float64(36)\n",
      "memory usage: 57.8 KB\n"
     ]
    }
   ],
   "source": [
    "data.info()"
   ]
  },
  {
   "cell_type": "markdown",
   "metadata": {},
   "source": [
    "## Data Preparation\n",
    "\n",
    "Let's first split our data into `X` features and `y` target.\n"
   ]
  },
  {
   "cell_type": "code",
   "execution_count": 9,
   "metadata": {},
   "outputs": [],
   "source": [
    "X = data.drop('price', axis=1)\n",
    "y = data.price"
   ]
  },
  {
   "cell_type": "markdown",
   "metadata": {},
   "source": [
    "Now that we have split our data into training and testing sets, the training data is used for your model to recognize patterns using some criteria,the test data set it used to evaluate your model, as shown in the following image:\n"
   ]
  },
  {
   "cell_type": "markdown",
   "metadata": {},
   "source": [
    "<center>\n",
    "    <img src=\"https://cf-courses-data.s3.us.cloud-object-storage.appdomain.cloud/IBM-ML240EN-SkillsNetwork/images/trin-test.png\"  />\n",
    "</center>\n",
    "<center>source scikit-learn.org</center>\n"
   ]
  },
  {
   "cell_type": "markdown",
   "metadata": {},
   "source": [
    "Now, we split our data, using <code>train_test_split</code> function, into the training and testing sets, allocating 30% of the data for testing.\n"
   ]
  },
  {
   "cell_type": "code",
   "execution_count": 10,
   "metadata": {},
   "outputs": [
    {
     "name": "stdout",
     "output_type": "stream",
     "text": [
      "number of test samples : 21\n",
      "number of training samples: 184\n"
     ]
    }
   ],
   "source": [
    "X_train, X_test, y_train, y_test = train_test_split(X,y, test_size=0.1, random_state=42)\n",
    "print(\"number of test samples :\", X_test.shape[0])\n",
    "print(\"number of training samples:\",X_train.shape[0])\n"
   ]
  },
  {
   "cell_type": "markdown",
   "metadata": {},
   "source": [
    "## Linear Regression\n",
    "\n",
    "In linear  regression we are trying to find the value of $\\textbf{w}$ that  minimizes the Mean Squared Error (MSE), we can represent this using the following expression:\n"
   ]
  },
  {
   "cell_type": "markdown",
   "metadata": {},
   "source": [
    "$\\hat{\\textbf{w}}= \\underset{\\textbf{w}}{\\mathrm{argmin}} {\n",
    "||\\textbf{y}  - \\textbf{Xw} ||^2\\_2}$\n"
   ]
  },
  {
   "cell_type": "markdown",
   "metadata": {},
   "source": [
    "Where $\\textbf{y}$ is the target, $\\textbf{X}$ is the training set and $\\textbf{w}$ is the parameter weights. The resulting $\\hat{\\textbf{w}}$ is the best value to minimize the MSE, i.e., the distance between the target $\\textbf{y}$ and the estimate $\\textbf{Xw}$. We do this by fitting the model.\n"
   ]
  },
  {
   "cell_type": "markdown",
   "metadata": {},
   "source": [
    "Let's create a <code>LinearRegression</code> object, called `lm`.\n"
   ]
  },
  {
   "cell_type": "code",
   "execution_count": 11,
   "metadata": {},
   "outputs": [],
   "source": [
    "lm = LinearRegression()"
   ]
  },
  {
   "cell_type": "markdown",
   "metadata": {},
   "source": [
    "Now, let's fit the model with multiple features on our X_train and y_train data.\n"
   ]
  },
  {
   "cell_type": "code",
   "execution_count": 12,
   "metadata": {},
   "outputs": [
    {
     "data": {
      "text/plain": [
       "LinearRegression()"
      ]
     },
     "execution_count": 12,
     "metadata": {},
     "output_type": "execute_result"
    }
   ],
   "source": [
    "lm.fit(X_train, y_train)"
   ]
  },
  {
   "cell_type": "markdown",
   "metadata": {},
   "source": [
    "We apply `predict(`) function on the testing data set.\n"
   ]
  },
  {
   "cell_type": "code",
   "execution_count": 13,
   "metadata": {},
   "outputs": [],
   "source": [
    "predicted = lm.predict(X_test)"
   ]
  },
  {
   "cell_type": "markdown",
   "metadata": {},
   "source": [
    "Let's calculate the `$R^2$` on both, training and testing data sets.\n"
   ]
  },
  {
   "cell_type": "code",
   "execution_count": 14,
   "metadata": {},
   "outputs": [
    {
     "name": "stdout",
     "output_type": "stream",
     "text": [
      "R^2 on training  data  0.9092101381197338\n",
      "R^2 on testing data  0.9472499250320834\n"
     ]
    }
   ],
   "source": [
    "print(\"R^2 on training  data \",lm.score(X_train, y_train))\n",
    "print(\"R^2 on testing data \",lm.score(X_test,y_test))"
   ]
  },
  {
   "cell_type": "markdown",
   "metadata": {},
   "source": [
    "We can plot a distribution of the predicted values vs the actual values.\n"
   ]
  },
  {
   "cell_type": "code",
   "execution_count": 15,
   "metadata": {},
   "outputs": [
    {
     "data": {
      "image/png": "[encoded data removed]",
      "text/plain": [
       "<Figure size 432x288 with 1 Axes>"
      ]
     },
     "metadata": {
      "needs_background": "light"
     },
     "output_type": "display_data"
    }
   ],
   "source": [
    "plot_dis(y_test,predicted)"
   ]
  },
  {
   "cell_type": "markdown",
   "metadata": {},
   "source": [
    "We can view the estimated coefficients for the linear regression problem and drop the top two coefficients, as they are two large.\n"
   ]
  },
  {
   "cell_type": "code",
   "execution_count": 16,
   "metadata": {},
   "outputs": [
    {
     "data": {
      "image/png": "[encoded data removed]",
      "text/plain": [
       "<Figure size 432x288 with 1 Axes>"
      ]
     },
     "metadata": {
      "needs_background": "light"
     },
     "output_type": "display_data"
    },
    {
     "name": "stdout",
     "output_type": "stream",
     "text": [
      "R^2 on training  data  0.9092101381197338\n",
      "R^2 on testing data  0.9472499250320834\n"
     ]
    }
   ],
   "source": [
    "plot_coef(X,lm,name=\"Linear Regression\")"
   ]
  },
  {
   "cell_type": "markdown",
   "metadata": {},
   "source": [
    "## Ridge Regression\n"
   ]
  },
  {
   "cell_type": "markdown",
   "metadata": {},
   "source": [
    "Let's review the Ridge Regression. Ridge Regression makes the prior assumption that our coefficients are normally distributed around zero. A regularization term, alpha, is added to the cost function. This forces the learning algorithm to not only fit the data but also keep the model weights as small as possible. The variance of the distribution is inversely proportional to the parameter alpha. This is also called the  L2 regularizer , as it adds a L2 penalty to the minimization term, as shown here:\n",
    "\n",
    "$\\hat{\\textbf{w}}= \\underset{\\textbf{w}}{\\mathrm{argmin}} {\n",
    "||\\textbf{y}  - \\textbf{Xw} ||^2\\_2+ \\alpha  ||\\textbf{w}||\\_2 }$\n",
    "\n",
    "We minimize the MSE, but we also penalize large weights by including their magnitude $||\\textbf{w}||\\_2$ in the minimization term. This additional minimization term makes the model less susceptible to noise and makes the weights smaller. Alpha controls the takeoff between MSE and penalization or regularization term and is chosen via cross-validation.\n"
   ]
  },
  {
   "cell_type": "markdown",
   "metadata": {},
   "source": [
    "Let's see  how the parameter alpha changes the model. Note, here our test data will be used as validation data. Also, the regularization term should only be added to the cost function during the training.\n",
    "\n",
    "Let's create a Ridge Regression object, setting the regularization parameter (alpha) to 0.01.\n"
   ]
  },
  {
   "cell_type": "code",
   "execution_count": 17,
   "metadata": {},
   "outputs": [
    {
     "data": {
      "text/plain": [
       "Ridge(alpha=0.01)"
      ]
     },
     "execution_count": 17,
     "metadata": {},
     "output_type": "execute_result"
    }
   ],
   "source": [
    "rr = Ridge(alpha=0.01)\n",
    "rr"
   ]
  },
  {
   "cell_type": "markdown",
   "metadata": {},
   "source": [
    "Like regular regression, you can fit the model using the `fit()` method.\n"
   ]
  },
  {
   "cell_type": "code",
   "execution_count": 18,
   "metadata": {},
   "outputs": [
    {
     "data": {
      "text/plain": [
       "Ridge(alpha=0.01)"
      ]
     },
     "execution_count": 18,
     "metadata": {},
     "output_type": "execute_result"
    }
   ],
   "source": [
    "rr.fit(X_train, y_train)"
   ]
  },
  {
   "cell_type": "markdown",
   "metadata": {},
   "source": [
    "Similarly, you can obtain a prediction:\n"
   ]
  },
  {
   "cell_type": "code",
   "execution_count": 19,
   "metadata": {},
   "outputs": [
    {
     "data": {
      "text/plain": [
       "array([30178.77172992, 22179.93145434, 11229.58960483, 11790.40337149,\n",
       "       26348.13785546,  5439.13547145,  9054.02541015,  7265.36558563,\n",
       "       10591.48456189, 10390.82134687, 17471.12024994,  7010.47430228,\n",
       "       16547.06078383, 10468.27937016, 41540.38102791,  5390.34659152,\n",
       "        5109.76377302, 15373.1930261 , 10703.56615831, 11448.33242702,\n",
       "       10565.49269055])"
      ]
     },
     "execution_count": 19,
     "metadata": {},
     "output_type": "execute_result"
    }
   ],
   "source": [
    "rr.predict(X_test)"
   ]
  },
  {
   "cell_type": "markdown",
   "metadata": {},
   "source": [
    "We can calculate the $R^2$ on the training and testing data.\n"
   ]
  },
  {
   "cell_type": "code",
   "execution_count": 20,
   "metadata": {},
   "outputs": [
    {
     "name": "stdout",
     "output_type": "stream",
     "text": [
      "R^2 on training  data  0.9091956531801182\n",
      "R^2 on testing data  0.9478784615596496\n"
     ]
    }
   ],
   "source": [
    "print(\"R^2 on training  data \",rr.score(X_train, y_train))\n",
    "print(\"R^2 on testing data \",rr.score(X_test,y_test))"
   ]
  },
  {
   "cell_type": "markdown",
   "metadata": {},
   "source": [
    "Now let's compare the Ridge Regression and the Linear Regression  models. The results on the $R^2$ are about the same, and the coefficients seem to be smaller.\n"
   ]
  },
  {
   "cell_type": "code",
   "execution_count": 21,
   "metadata": {},
   "outputs": [
    {
     "data": {
      "image/png": "[encoded data removed]",
      "text/plain": [
       "<Figure size 432x288 with 1 Axes>"
      ]
     },
     "metadata": {
      "needs_background": "light"
     },
     "output_type": "display_data"
    },
    {
     "name": "stdout",
     "output_type": "stream",
     "text": [
      "R^2 on training  data  0.9092101381197338\n",
      "R^2 on testing data  0.9472499250320834\n"
     ]
    },
    {
     "data": {
      "image/png": "[encoded data removed]",
      "text/plain": [
       "<Figure size 432x288 with 1 Axes>"
      ]
     },
     "metadata": {
      "needs_background": "light"
     },
     "output_type": "display_data"
    },
    {
     "name": "stdout",
     "output_type": "stream",
     "text": [
      "R^2 on training  data  0.9091956531801182\n",
      "R^2 on testing data  0.9478784615596496\n"
     ]
    }
   ],
   "source": [
    "plot_coef(X,lm,name=\"Linear Regression\")\n",
    "plot_coef(X,rr,name=\"Ridge Regression\")"
   ]
  },
  {
   "cell_type": "markdown",
   "metadata": {},
   "source": [
    "If we increase alpha, the coefficients get smaller, but the results are not as good as our previous value of alpha.\n"
   ]
  },
  {
   "cell_type": "code",
   "execution_count": 22,
   "metadata": {},
   "outputs": [
    {
     "data": {
      "image/png": "[encoded data removed]",
      "text/plain": [
       "<Figure size 432x288 with 1 Axes>"
      ]
     },
     "metadata": {
      "needs_background": "light"
     },
     "output_type": "display_data"
    },
    {
     "name": "stdout",
     "output_type": "stream",
     "text": [
      "R^2 on training  data  0.8991374778636106\n",
      "R^2 on testing data  0.9446031107273959\n"
     ]
    }
   ],
   "source": [
    "rr = Ridge(alpha=1)\n",
    "rr.fit(X_train, y_train)\n",
    "plot_coef(X,rr)"
   ]
  },
  {
   "cell_type": "markdown",
   "metadata": {},
   "source": [
    "In general, we see that if we increase alpha, the coefficients get smaller, but the model performance relationship gets more complex. As a result, we use the validation data to select a value for alpha. Here, we plot the coefficients and $R^2$ of the test data on the vertical axes and alpha on the horizontal axis, as well the $R^2$ using the test data.\n"
   ]
  },
  {
   "cell_type": "code",
   "execution_count": 23,
   "metadata": {
    "tags": []
   },
   "outputs": [
    {
     "data": {
      "image/png": "[encoded data removed]",
      "text/plain": [
       "<Figure size 432x288 with 1 Axes>"
      ]
     },
     "metadata": {
      "needs_background": "light"
     },
     "output_type": "display_data"
    }
   ],
   "source": [
    "alphas = [0.00001,0.0001,0.001,0.01,0.1,1,10,100]\n",
    "R_2=[]\n",
    "coefs = []\n",
    "for alpha in alphas:\n",
    "    ridge = Ridge(alpha=alpha)\n",
    "    ridge.fit(X_train, y_train)\n",
    "    coefs.append(abs(ridge.coef_))\n",
    "    R_2.append(ridge.score(X_test,y_test))\n",
    "\n",
    "\n",
    "ax = plt.gca()\n",
    "ax.plot(alphas, coefs)\n",
    "ax.set_xscale(\"log\")\n",
    "plt.xlabel(\"alpha\")\n",
    "plt.ylabel(\"weights\")\n",
    "plt.title(\"Ridge coefficients as a function of the regularization (regularization path)\")\n",
    "plt.show()        "
   ]
  },
  {
   "cell_type": "code",
   "execution_count": 26,
   "metadata": {},
   "outputs": [
    {
     "data": {
      "image/png": "[encoded data removed]",
      "text/plain": [
       "<Figure size 432x288 with 1 Axes>"
      ]
     },
     "metadata": {
      "needs_background": "light"
     },
     "output_type": "display_data"
    }
   ],
   "source": [
    "ax = plt.gca()\n",
    "ax.plot(alphas, R_2)\n",
    "ax.set_xscale(\"log\")\n",
    "plt.xlabel(\"alpha\")\n",
    "plt.ylabel(\"$R^2$\")\n",
    "plt.title(\"$R^2$ as a function of the regularization\")\n",
    "plt.show()  "
   ]
  },
  {
   "cell_type": "markdown",
   "metadata": {},
   "source": [
    "As we increase alpha, the coefficients get smaller but the $R^2$ peaks when alpha is 1.\n"
   ]
  },
  {
   "cell_type": "markdown",
   "metadata": {},
   "source": [
    "## Exercise 1\n",
    "\n",
    "In this Exercise, plot the MSE as a function of alpha. What pattern do you notice?\n"
   ]
  },
  {
   "cell_type": "code",
   "execution_count": 28,
   "metadata": {},
   "outputs": [
    {
     "data": {
      "image/png": "[encoded data removed]",
      "text/plain": [
       "<Figure size 432x288 with 1 Axes>"
      ]
     },
     "metadata": {
      "needs_background": "light"
     },
     "output_type": "display_data"
    }
   ],
   "source": [
    "# Enter your code and run the cell\n",
    "alphas = [0.00001,0.0001,0.001,0.01,0.1,1,10]\n",
    "MEAN_SQE=[]\n",
    "\n",
    "for alpha in alphas:\n",
    "    ridge = Ridge(alpha=alpha)\n",
    "    ridge.fit(X_train, y_train)\n",
    "    MEAN_SQE.append(mean_squared_error(ridge.predict(X_test),y_test))\n",
    "\n",
    "ax = plt.gca()\n",
    "ax.plot(alphas, MEAN_SQE)\n",
    "ax.set_xscale(\"log\")\n",
    "plt.xlabel(\"alpha\")\n",
    "plt.ylabel(\"MSE\")\n",
    "plt.title(\"$MSE$ as a function of the regularization\")\n",
    "plt.show()"
   ]
  },
  {
   "cell_type": "markdown",
   "metadata": {},
   "source": [
    "<details>\n",
    "    <summary>Click here for Solution</summary>\n",
    "\n",
    "```python\n",
    "alphas = [0.00001,0.0001,0.001,0.01,0.1,1,10]\n",
    "MEAN_SQE=[]\n",
    "\n",
    "for alpha in alphas:\n",
    "    ridge = Ridge(alpha=alpha)\n",
    "    ridge.fit(X_train, y_train)\n",
    "    MEAN_SQE.append(mean_squared_error(ridge.predict(X_test),y_test))\n",
    "\n",
    "ax = plt.gca()\n",
    "ax.plot(alphas, MEAN_SQE)\n",
    "ax.set_xscale(\"log\")\n",
    "plt.xlabel(\"alpha\")\n",
    "plt.ylabel(\"MSE\")\n",
    "plt.title(\"$MSE$ as a function of the regularization\")\n",
    "plt.show()\n",
    "```\n",
    "\n",
    "</details>\n"
   ]
  },
  {
   "cell_type": "markdown",
   "metadata": {},
   "source": [
    "<details>\n",
    "    <summary><strong>Answers</strong> (Click Here)</summary>\n",
    "A small alpha leads to over-fitting but as alpha gets larger the MSE decreases. When alpha gets too large the MSE increases leading to underfitting. The optimal point seems to be in the middle .\n",
    "</details>\n"
   ]
  },
  {
   "cell_type": "markdown",
   "metadata": {},
   "source": [
    "## Pipeline\n"
   ]
  },
  {
   "cell_type": "markdown",
   "metadata": {},
   "source": [
    "We can also create a Pipeline object and apply a set of transforms sequentially. Then, we can apply Polynomial Features, perform data standardization then apply Ridge regression.  Data Pipelines simplify the steps of processing the data. We use the module `Pipeline` to create a pipeline. We also use `StandardScaler` step in our pipeline. Scaling our data is necessary step in Ridge regression as it will penalize features with a large magnitude.\n",
    "\n",
    "Now, we create a pipeline object.\n"
   ]
  },
  {
   "cell_type": "code",
   "execution_count": 29,
   "metadata": {},
   "outputs": [],
   "source": [
    "Input=[ ('polynomial', PolynomialFeatures(include_bias=False,degree=2)),('ss',StandardScaler() ), ('model',Ridge(alpha=1))]\n",
    "pipe = Pipeline(Input)"
   ]
  },
  {
   "cell_type": "markdown",
   "metadata": {},
   "source": [
    "We fit the object.\n"
   ]
  },
  {
   "cell_type": "code",
   "execution_count": 30,
   "metadata": {},
   "outputs": [
    {
     "data": {
      "text/plain": [
       "Pipeline(steps=[('polynomial', PolynomialFeatures(include_bias=False)),\n",
       "                ('ss', StandardScaler()), ('model', Ridge(alpha=1))])"
      ]
     },
     "execution_count": 30,
     "metadata": {},
     "output_type": "execute_result"
    }
   ],
   "source": [
    "pipe.fit(X_train, y_train)"
   ]
  },
  {
   "cell_type": "markdown",
   "metadata": {},
   "source": [
    "We can calculate the score on the test data.\n"
   ]
  },
  {
   "cell_type": "code",
   "execution_count": 31,
   "metadata": {},
   "outputs": [
    {
     "data": {
      "text/plain": [
       "0.9075262214621574"
      ]
     },
     "execution_count": 31,
     "metadata": {},
     "output_type": "execute_result"
    }
   ],
   "source": [
    "predicted=pipe.predict(X_test)\n",
    "pipe.score(X_test, y_test)"
   ]
  },
  {
   "cell_type": "markdown",
   "metadata": {},
   "source": [
    "Looking for hyperparameters can get difficult with loops. The problem will get worse as we add more transforms such as polynomial transform. Therefore, we can use `GridSearchCV` to make things simpler.\n"
   ]
  },
  {
   "cell_type": "markdown",
   "metadata": {},
   "source": [
    "## GridSearchCV\n"
   ]
  },
  {
   "cell_type": "markdown",
   "metadata": {},
   "source": [
    "To search for the best combination of hyperparameters we can create a  `GridSearchCV()` function as a dictionary of parameter values. The parameters of pipelines can be set by using the name of the key, separated by \"\\__\", then the parameter. Here, we look for different polynomial degrees and different values of alpha.\n"
   ]
  },
  {
   "cell_type": "code",
   "execution_count": 32,
   "metadata": {},
   "outputs": [],
   "source": [
    "param_grid = {\n",
    "    \"polynomial__degree\": [1,2,3,4],\n",
    "    \"model__alpha\":[0.0001,0.001,0.01,0.1,1,10]\n",
    "}"
   ]
  },
  {
   "cell_type": "markdown",
   "metadata": {},
   "source": [
    "Keys of the dictionary are the model \"key name \\__\" followed by the parameter as an attribute.\n"
   ]
  },
  {
   "cell_type": "markdown",
   "metadata": {},
   "source": [
    "<b>polynomial\\_\\_degree</b>: is the degree of the polynomial; in this case 1, 2, 3, 4 and 5.\n",
    "\n",
    "<b>model\\_\\_alpha </b>: Regularization strength; must be a positive float.\n"
   ]
  },
  {
   "cell_type": "markdown",
   "metadata": {},
   "source": [
    "We create a `GridSearchCV` object and fit it. The method trains the model and the hyperparameters are selected via exhaustive search over the specified values.\n"
   ]
  },
  {
   "cell_type": "code",
   "execution_count": 33,
   "metadata": {},
   "outputs": [
    {
     "data": {
      "text/plain": [
       "GridSearchCV(estimator=Pipeline(steps=[('polynomial',\n",
       "                                        PolynomialFeatures(include_bias=False)),\n",
       "                                       ('ss', StandardScaler()),\n",
       "                                       ('model', Ridge(alpha=1))]),\n",
       "             n_jobs=2,\n",
       "             param_grid={'model__alpha': [0.0001, 0.001, 0.01, 0.1, 1, 10],\n",
       "                         'polynomial__degree': [1, 2, 3, 4]})"
      ]
     },
     "execution_count": 33,
     "metadata": {},
     "output_type": "execute_result"
    }
   ],
   "source": [
    "search = GridSearchCV(pipe, param_grid, n_jobs=2)\n",
    "\n",
    "search.fit(X_train, y_train)\n",
    "search"
   ]
  },
  {
   "cell_type": "markdown",
   "metadata": {},
   "source": [
    "We can input the results into *pandas* `DataFrame()` as a dictionary with keys as column headers and values as columns and display the results.\n"
   ]
  },
  {
   "cell_type": "code",
   "execution_count": 34,
   "metadata": {},
   "outputs": [
    {
     "data": {
      "text/html": [
       "<div>\n",
       "<style scoped>\n",
       "    .dataframe tbody tr th:only-of-type {\n",
       "        vertical-align: middle;\n",
       "    }\n",
       "\n",
       "    .dataframe tbody tr th {\n",
       "        vertical-align: top;\n",
       "    }\n",
       "\n",
       "    .dataframe thead th {\n",
       "        text-align: right;\n",
       "    }\n",
       "</style>\n",
       "<table border=\"1\" class=\"dataframe\">\n",
       "  <thead>\n",
       "    <tr style=\"text-align: right;\">\n",
       "      <th></th>\n",
       "      <th>mean_fit_time</th>\n",
       "      <th>std_fit_time</th>\n",
       "      <th>mean_score_time</th>\n",
       "      <th>std_score_time</th>\n",
       "      <th>param_model__alpha</th>\n",
       "      <th>param_polynomial__degree</th>\n",
       "      <th>params</th>\n",
       "      <th>split0_test_score</th>\n",
       "      <th>split1_test_score</th>\n",
       "      <th>split2_test_score</th>\n",
       "      <th>split3_test_score</th>\n",
       "      <th>split4_test_score</th>\n",
       "      <th>mean_test_score</th>\n",
       "      <th>std_test_score</th>\n",
       "      <th>rank_test_score</th>\n",
       "    </tr>\n",
       "  </thead>\n",
       "  <tbody>\n",
       "    <tr>\n",
       "      <th>0</th>\n",
       "      <td>0.021270</td>\n",
       "      <td>0.015862</td>\n",
       "      <td>0.004147</td>\n",
       "      <td>0.000209</td>\n",
       "      <td>0.0001</td>\n",
       "      <td>1</td>\n",
       "      <td>{'model__alpha': 0.0001, 'polynomial__degree': 1}</td>\n",
       "      <td>0.770265</td>\n",
       "      <td>0.766681</td>\n",
       "      <td>0.844321</td>\n",
       "      <td>0.873196</td>\n",
       "      <td>0.612164</td>\n",
       "      <td>0.773325</td>\n",
       "      <td>0.090599</td>\n",
       "      <td>9</td>\n",
       "    </tr>\n",
       "    <tr>\n",
       "      <th>1</th>\n",
       "      <td>0.016755</td>\n",
       "      <td>0.000747</td>\n",
       "      <td>0.004505</td>\n",
       "      <td>0.000531</td>\n",
       "      <td>0.0001</td>\n",
       "      <td>2</td>\n",
       "      <td>{'model__alpha': 0.0001, 'polynomial__degree': 2}</td>\n",
       "      <td>-0.910593</td>\n",
       "      <td>0.084489</td>\n",
       "      <td>-0.549646</td>\n",
       "      <td>-0.705327</td>\n",
       "      <td>-2.630419</td>\n",
       "      <td>-0.942299</td>\n",
       "      <td>0.907235</td>\n",
       "      <td>21</td>\n",
       "    </tr>\n",
       "    <tr>\n",
       "      <th>2</th>\n",
       "      <td>0.101433</td>\n",
       "      <td>0.015125</td>\n",
       "      <td>0.012002</td>\n",
       "      <td>0.001979</td>\n",
       "      <td>0.0001</td>\n",
       "      <td>3</td>\n",
       "      <td>{'model__alpha': 0.0001, 'polynomial__degree': 3}</td>\n",
       "      <td>-3.774944</td>\n",
       "      <td>-2.241587</td>\n",
       "      <td>-0.830641</td>\n",
       "      <td>-2.048391</td>\n",
       "      <td>-9.065623</td>\n",
       "      <td>-3.592237</td>\n",
       "      <td>2.892247</td>\n",
       "      <td>23</td>\n",
       "    </tr>\n",
       "    <tr>\n",
       "      <th>3</th>\n",
       "      <td>0.765128</td>\n",
       "      <td>0.055971</td>\n",
       "      <td>0.055640</td>\n",
       "      <td>0.004753</td>\n",
       "      <td>0.0001</td>\n",
       "      <td>4</td>\n",
       "      <td>{'model__alpha': 0.0001, 'polynomial__degree': 4}</td>\n",
       "      <td>-6.799155</td>\n",
       "      <td>-9.100389</td>\n",
       "      <td>-0.935754</td>\n",
       "      <td>-3.845688</td>\n",
       "      <td>-8.975313</td>\n",
       "      <td>-5.931260</td>\n",
       "      <td>3.142215</td>\n",
       "      <td>24</td>\n",
       "    </tr>\n",
       "    <tr>\n",
       "      <th>4</th>\n",
       "      <td>0.009995</td>\n",
       "      <td>0.002256</td>\n",
       "      <td>0.003602</td>\n",
       "      <td>0.000656</td>\n",
       "      <td>0.001</td>\n",
       "      <td>1</td>\n",
       "      <td>{'model__alpha': 0.001, 'polynomial__degree': 1}</td>\n",
       "      <td>0.770258</td>\n",
       "      <td>0.766696</td>\n",
       "      <td>0.844330</td>\n",
       "      <td>0.873212</td>\n",
       "      <td>0.612239</td>\n",
       "      <td>0.773347</td>\n",
       "      <td>0.090577</td>\n",
       "      <td>8</td>\n",
       "    </tr>\n",
       "  </tbody>\n",
       "</table>\n",
       "</div>"
      ],
      "text/plain": [
       "   mean_fit_time  std_fit_time  mean_score_time  std_score_time  \\\n",
       "0       0.021270      0.015862         0.004147        0.000209   \n",
       "1       0.016755      0.000747         0.004505        0.000531   \n",
       "2       0.101433      0.015125         0.012002        0.001979   \n",
       "3       0.765128      0.055971         0.055640        0.004753   \n",
       "4       0.009995      0.002256         0.003602        0.000656   \n",
       "\n",
       "  param_model__alpha param_polynomial__degree  \\\n",
       "0             0.0001                        1   \n",
       "1             0.0001                        2   \n",
       "2             0.0001                        3   \n",
       "3             0.0001                        4   \n",
       "4              0.001                        1   \n",
       "\n",
       "                                              params  split0_test_score  \\\n",
       "0  {'model__alpha': 0.0001, 'polynomial__degree': 1}           0.770265   \n",
       "1  {'model__alpha': 0.0001, 'polynomial__degree': 2}          -0.910593   \n",
       "2  {'model__alpha': 0.0001, 'polynomial__degree': 3}          -3.774944   \n",
       "3  {'model__alpha': 0.0001, 'polynomial__degree': 4}          -6.799155   \n",
       "4   {'model__alpha': 0.001, 'polynomial__degree': 1}           0.770258   \n",
       "\n",
       "   split1_test_score  split2_test_score  split3_test_score  split4_test_score  \\\n",
       "0           0.766681           0.844321           0.873196           0.612164   \n",
       "1           0.084489          -0.549646          -0.705327          -2.630419   \n",
       "2          -2.241587          -0.830641          -2.048391          -9.065623   \n",
       "3          -9.100389          -0.935754          -3.845688          -8.975313   \n",
       "4           0.766696           0.844330           0.873212           0.612239   \n",
       "\n",
       "   mean_test_score  std_test_score  rank_test_score  \n",
       "0         0.773325        0.090599                9  \n",
       "1        -0.942299        0.907235               21  \n",
       "2        -3.592237        2.892247               23  \n",
       "3        -5.931260        3.142215               24  \n",
       "4         0.773347        0.090577                8  "
      ]
     },
     "execution_count": 34,
     "metadata": {},
     "output_type": "execute_result"
    }
   ],
   "source": [
    "pd.DataFrame(search.cv_results_).head()"
   ]
  },
  {
   "cell_type": "markdown",
   "metadata": {},
   "source": [
    "There are some other useful attributes:\n"
   ]
  },
  {
   "cell_type": "markdown",
   "metadata": {},
   "source": [
    "`best_score_`: mean cross-validated score of the `best_estimator`.\n",
    "\n",
    "`best_params_dict`: parameter setting that gives the best results on the hold-out data.\n"
   ]
  },
  {
   "cell_type": "code",
   "execution_count": 35,
   "metadata": {},
   "outputs": [
    {
     "name": "stdout",
     "output_type": "stream",
     "text": [
      "best_score_:  0.8681282282391244\n",
      "best_params_:  {'model__alpha': 10, 'polynomial__degree': 2}\n"
     ]
    }
   ],
   "source": [
    "print(\"best_score_: \",search.best_score_)\n",
    "print(\"best_params_: \",search.best_params_)"
   ]
  },
  {
   "cell_type": "markdown",
   "metadata": {},
   "source": [
    "We can call `predict()` on the estimator with the best found parameters.\n"
   ]
  },
  {
   "cell_type": "code",
   "execution_count": 36,
   "metadata": {},
   "outputs": [
    {
     "data": {
      "text/plain": [
       "array([34464.68303015, 23419.34979609,  9723.38208924, 13433.42551625,\n",
       "       25239.67969507,  6532.54733115,  7468.55986929,  7687.50892226,\n",
       "        9114.59988701,  9541.72323357, 15453.55023026,  6815.64031583,\n",
       "       16958.71711106, 10290.1730189 , 42072.30176794,  6356.53352923,\n",
       "        1536.17210277, 13705.75183086,  9758.24171738,  9210.40054167,\n",
       "        9999.70716056])"
      ]
     },
     "execution_count": 36,
     "metadata": {},
     "output_type": "execute_result"
    }
   ],
   "source": [
    "predict = search.predict(X_test)\n",
    "\n",
    "predict "
   ]
  },
  {
   "cell_type": "markdown",
   "metadata": {},
   "source": [
    "We can find the best model.\n"
   ]
  },
  {
   "cell_type": "code",
   "execution_count": 41,
   "metadata": {},
   "outputs": [
    {
     "data": {
      "text/plain": [
       "Pipeline(steps=[('polynomial', PolynomialFeatures(include_bias=False)),\n",
       "                ('ss', StandardScaler()), ('model', Ridge(alpha=10))])"
      ]
     },
     "execution_count": 41,
     "metadata": {},
     "output_type": "execute_result"
    }
   ],
   "source": [
    "best=search.best_estimator_\n",
    "best"
   ]
  },
  {
   "cell_type": "markdown",
   "metadata": {},
   "source": [
    "As we can see from the above output, it is two degree polynomial with alpha value of 10.\n",
    "Now, let's make a prediction.\n"
   ]
  },
  {
   "cell_type": "code",
   "execution_count": 45,
   "metadata": {},
   "outputs": [
    {
     "data": {
      "text/plain": [
       "array([34464.68303015, 23419.34979609,  9723.38208924, 13433.42551625,\n",
       "       25239.67969507,  6532.54733115,  7468.55986929,  7687.50892226,\n",
       "        9114.59988701,  9541.72323357, 15453.55023026,  6815.64031583,\n",
       "       16958.71711106, 10290.1730189 , 42072.30176794,  6356.53352923,\n",
       "        1536.17210277, 13705.75183086,  9758.24171738,  9210.40054167,\n",
       "        9999.70716056])"
      ]
     },
     "execution_count": 45,
     "metadata": {},
     "output_type": "execute_result"
    }
   ],
   "source": [
    "predict = best.predict(X_test)\n",
    "predict"
   ]
  },
  {
   "cell_type": "markdown",
   "metadata": {},
   "source": [
    "We can calculate the $R^2$ on the test data.\n"
   ]
  },
  {
   "cell_type": "code",
   "execution_count": 46,
   "metadata": {},
   "outputs": [
    {
     "data": {
      "text/plain": [
       "0.9441203657848731"
      ]
     },
     "execution_count": 46,
     "metadata": {},
     "output_type": "execute_result"
    }
   ],
   "source": [
    "best.score(X_test, y_test)"
   ]
  },
  {
   "cell_type": "markdown",
   "metadata": {},
   "source": [
    "As we see, using Ridge Regression polynomial function works better than all other models. Finely, we can train our model on the entire data set!\n"
   ]
  },
  {
   "cell_type": "code",
   "execution_count": 47,
   "metadata": {},
   "outputs": [
    {
     "data": {
      "text/plain": [
       "Pipeline(steps=[('polynomial', PolynomialFeatures(include_bias=False)),\n",
       "                ('ss', StandardScaler()), ('model', Ridge(alpha=10))])"
      ]
     },
     "execution_count": 47,
     "metadata": {},
     "output_type": "execute_result"
    }
   ],
   "source": [
    "best.fit(X,y)"
   ]
  },
  {
   "cell_type": "markdown",
   "metadata": {},
   "source": [
    "## Exercise 2\n",
    "\n",
    "Perform grid search on the following features and plot the results by completing the following lines of code:\n"
   ]
  },
  {
   "cell_type": "code",
   "execution_count": 48,
   "metadata": {},
   "outputs": [],
   "source": [
    "# Run the cell\n",
    "columns=['wheelbase', 'curbweight', 'enginesize', 'boreratio', 'horsepower',\n",
    "       'carlength', 'carwidth', 'citympg']\n"
   ]
  },
  {
   "cell_type": "code",
   "execution_count": 49,
   "metadata": {
    "scrolled": true
   },
   "outputs": [
    {
     "data": {
      "image/png": "[encoded data removed]",
      "text/plain": [
       "<Figure size 432x288 with 1 Axes>"
      ]
     },
     "metadata": {
      "needs_background": "light"
     },
     "output_type": "display_data"
    },
    {
     "data": {
      "image/png": "[encoded data removed]",
      "text/plain": [
       "<Figure size 432x288 with 1 Axes>"
      ]
     },
     "metadata": {
      "needs_background": "light"
     },
     "output_type": "display_data"
    },
    {
     "data": {
      "image/png": "[encoded data removed]",
      "text/plain": [
       "<Figure size 432x288 with 1 Axes>"
      ]
     },
     "metadata": {
      "needs_background": "light"
     },
     "output_type": "display_data"
    },
    {
     "data": {
      "image/png": "[encoded data removed]",
      "text/plain": [
       "<Figure size 432x288 with 1 Axes>"
      ]
     },
     "metadata": {
      "needs_background": "light"
     },
     "output_type": "display_data"
    },
    {
     "data": {
      "image/png": "[encoded data removed]",
      "text/plain": [
       "<Figure size 432x288 with 1 Axes>"
      ]
     },
     "metadata": {
      "needs_background": "light"
     },
     "output_type": "display_data"
    },
    {
     "data": {
      "image/png": "[encoded data removed]",
      "text/plain": [
       "<Figure size 432x288 with 1 Axes>"
      ]
     },
     "metadata": {
      "needs_background": "light"
     },
     "output_type": "display_data"
    },
    {
     "data": {
      "image/png": "[encoded data removed]",
      "text/plain": [
       "<Figure size 432x288 with 1 Axes>"
      ]
     },
     "metadata": {
      "needs_background": "light"
     },
     "output_type": "display_data"
    },
    {
     "data": {
      "image/png": "[encoded data removed]",
      "text/plain": [
       "<Figure size 432x288 with 1 Axes>"
      ]
     },
     "metadata": {
      "needs_background": "light"
     },
     "output_type": "display_data"
    }
   ],
   "source": [
    "# Enter your code and run the cell\n",
    "for column in columns:\n",
    "    search.fit(X_train[[column]], y_train)\n",
    "    x=np.linspace(X_test[[column]].min(), X_test[[column]].max(),num=100)\n",
    "    plt.plot(x,search.predict(x.reshape(-1,1)),label=\"prediction\")\n",
    "    plt.plot(X_test[column],y_test,'ro',label=\"y\")\n",
    "    plt.xlabel(column)\n",
    "    plt.ylabel(\"y\")\n",
    "    plt.legend()\n",
    "    plt.show()"
   ]
  },
  {
   "cell_type": "markdown",
   "metadata": {},
   "source": [
    "<details>\n",
    "    <summary>Click here for Solution</summary>\n",
    "\n",
    "```python\n",
    " \n",
    "for column in columns:\n",
    "    search.fit(X_train[[column]], y_train)\n",
    "    x=np.linspace(X_test[[column]].min(), X_test[[column]].max(),num=100)\n",
    "    plt.plot(x,search.predict(x.reshape(-1,1)),label=\"prediction\")\n",
    "    plt.plot(X_test[column],y_test,'ro',label=\"y\")\n",
    "    plt.xlabel(column)\n",
    "    plt.ylabel(\"y\")\n",
    "    plt.legend()\n",
    "    plt.show()\n",
    "```\n",
    "\n",
    "</details>\n"
   ]
  },
  {
   "cell_type": "markdown",
   "metadata": {},
   "source": [
    "## Lasso Regression\n"
   ]
  },
  {
   "cell_type": "markdown",
   "metadata": {},
   "source": [
    "In this section, let's review the Lasso (Least Absolute Shrinkage and Selection Operator) Regression. Lasso Regression makes the prior assumption that our coefficients have Laplace (double-exponential) distribution around zero. The scale parameter of the distribution is inversely proportional to the parameter alpha. The main advantage of LASSO Regression is that many coefficients are set to zero, therefore they are not required. This has many advantages, one of them is that you may not need to collect and/or store all of the features. This may save resources. For example, if the feature was some medical test, you would no longer need to perform that test. Let's see how the parameter alpha changes the model.  We minimize the MSE, but we also penalize large weights by including their sum of absolute values $||\\textbf{w}||\\_1$ , symbolically:\n"
   ]
  },
  {
   "cell_type": "markdown",
   "metadata": {},
   "source": [
    "$\\hat{\\textbf{w}}= \\underset{\\textbf{w}}{\\mathrm{argmin}} {\n",
    "||\\textbf{y}  - \\textbf{Xw} ||^2\\_2+ \\alpha  ||\\textbf{w}||\\_1 }$\n",
    "\n",
    "This regularization or penalty term makes many coefficients zero, making the model easy to understand and can also be used for feature selection. There are some drawbacks to this technique. It takes longer time to train and the solution may not be unique. Alpha controls the trade-off between MSE and penalization or regularization term and is chosen via cross-validation.  Let's see how the parameter alpha changes the model. Note, as before, our test data will be used as validation data. Let's create a Ridge Regression object, setting the regularization parameter (alpha) to 0.01.\n"
   ]
  },
  {
   "cell_type": "code",
   "execution_count": 50,
   "metadata": {},
   "outputs": [
    {
     "data": {
      "text/plain": [
       "Lasso(alpha=0.1)"
      ]
     },
     "execution_count": 50,
     "metadata": {},
     "output_type": "execute_result"
    }
   ],
   "source": [
    "la = Lasso(alpha=0.1)\n",
    "la.fit(X_train,y_train)\n",
    "la"
   ]
  },
  {
   "cell_type": "markdown",
   "metadata": {},
   "source": [
    "Let's make a prediction.\n"
   ]
  },
  {
   "cell_type": "code",
   "execution_count": 51,
   "metadata": {},
   "outputs": [
    {
     "data": {
      "text/plain": [
       "array([30207.01664593, 22253.28978157, 11234.4293658 , 11825.51411381,\n",
       "       26349.51670682,  5442.67340587,  9115.38970742,  7262.37834971,\n",
       "       10602.22642602, 10426.6507622 , 17480.62216135,  6988.60683622,\n",
       "       16570.42746876, 10462.5969077 , 41586.07832506,  5399.25186043,\n",
       "        3317.54502062, 15367.96191917, 10698.17086097, 11451.72644684,\n",
       "       10548.16668782])"
      ]
     },
     "execution_count": 51,
     "metadata": {},
     "output_type": "execute_result"
    }
   ],
   "source": [
    "predicted = la.predict(X_test)\n",
    "predicted"
   ]
  },
  {
   "cell_type": "markdown",
   "metadata": {},
   "source": [
    "Let's calculate the $R^2$ on the training and testing data and see how it performs compared to the other methods.\n"
   ]
  },
  {
   "cell_type": "code",
   "execution_count": 52,
   "metadata": {},
   "outputs": [
    {
     "name": "stdout",
     "output_type": "stream",
     "text": [
      "R^2 on training  data  0.9092101381197338\n",
      "R^2 on testing data  0.9472499250320834\n"
     ]
    }
   ],
   "source": [
    "print(\"R^2 on training  data \",lm.score(X_train, y_train))\n",
    "print(\"R^2 on testing data \",lm.score(X_test,y_test))"
   ]
  },
  {
   "cell_type": "markdown",
   "metadata": {},
   "source": [
    "If we compare the Lasso Regression to the  Ridge Regression model we see that the results on the $R^2$ are slightly worse, but most of the coefficients are zero.\n"
   ]
  },
  {
   "cell_type": "code",
   "execution_count": 53,
   "metadata": {},
   "outputs": [
    {
     "data": {
      "image/png": "[encoded data removed]",
      "text/plain": [
       "<Figure size 432x288 with 1 Axes>"
      ]
     },
     "metadata": {
      "needs_background": "light"
     },
     "output_type": "display_data"
    },
    {
     "name": "stdout",
     "output_type": "stream",
     "text": [
      "R^2 on training  data  0.8991374778636106\n",
      "R^2 on testing data  0.9446031107273959\n"
     ]
    },
    {
     "data": {
      "image/png": "[encoded data removed]",
      "text/plain": [
       "<Figure size 432x288 with 1 Axes>"
      ]
     },
     "metadata": {
      "needs_background": "light"
     },
     "output_type": "display_data"
    },
    {
     "name": "stdout",
     "output_type": "stream",
     "text": [
      "R^2 on training  data  0.9092098726971481\n",
      "R^2 on testing data  0.9453258869077992\n"
     ]
    }
   ],
   "source": [
    "plot_coef(X,rr,name=\"Ridge Regression\")\n",
    "plot_coef(X,la,name=\"Lasso Regression\")"
   ]
  },
  {
   "cell_type": "markdown",
   "metadata": {},
   "source": [
    "Similar to the Ridge Regression, if we increase the value of alpha, the coefficients will get smaller. Additionally, many coefficients become zero. Moreover, the model performance relationship becomes more complex. As a result, we use the validation data to select a value for alpha. Here, we plot the coefficients and $R^2$ of the test data on the vertical axes and alpha values on the horizontal axis.\n"
   ]
  },
  {
   "cell_type": "code",
   "execution_count": 54,
   "metadata": {},
   "outputs": [
    {
     "data": {
      "image/png": "[encoded data removed]",
      "text/plain": [
       "<Figure size 432x288 with 1 Axes>"
      ]
     },
     "metadata": {
      "needs_background": "light"
     },
     "output_type": "display_data"
    }
   ],
   "source": [
    "alphas = [0.00001,0.0001,0.001,0.01,0.1,1,10,100,1000]\n",
    "R_2=[]\n",
    "coefs = []\n",
    "for alpha in alphas:\n",
    "    la=Lasso(alpha=alpha)\n",
    "    \n",
    "    la.fit(X_train, y_train)\n",
    "    coefs.append(abs(la.coef_))\n",
    "    R_2.append(la.score(X_test,y_test))\n",
    "\n",
    "\n",
    "ax = plt.gca()\n",
    "ax.plot(alphas, coefs)\n",
    "ax.set_xscale(\"log\")\n",
    "plt.xlabel(\"alpha\")\n",
    "plt.ylabel(\"weights\")\n",
    "plt.title(\"Ridge coefficients as a function of the regularization (regularization path)\")\n",
    "plt.show()"
   ]
  },
  {
   "cell_type": "code",
   "execution_count": 55,
   "metadata": {},
   "outputs": [
    {
     "data": {
      "image/png": "[encoded data removed]",
      "text/plain": [
       "<Figure size 432x288 with 1 Axes>"
      ]
     },
     "metadata": {
      "needs_background": "light"
     },
     "output_type": "display_data"
    }
   ],
   "source": [
    "ax = plt.gca()\n",
    "ax.plot(alphas, R_2)\n",
    "ax.set_xscale(\"log\")\n",
    "plt.xlabel(\"alpha\")\n",
    "plt.ylabel(\"$R^2$\")\n",
    "plt.title(\"$R^2$ as a function of the regularization\")\n",
    "plt.show()"
   ]
  },
  {
   "cell_type": "markdown",
   "metadata": {},
   "source": [
    "## Pipeline\n"
   ]
  },
  {
   "cell_type": "markdown",
   "metadata": {},
   "source": [
    "We can also create a Pipeline object and apply a set of transforms sequentially. Then, we can apply polynomial features, perform data standardization, then apply Lasso Regression.  We also use `StandardScaler` as a step in our pipeline. Scaling your data is necessary step in LASSO Regression, as it will penalize features with a large magnitudes.\n",
    "\n",
    "We start by creating a pipeline object.\n"
   ]
  },
  {
   "cell_type": "code",
   "execution_count": 56,
   "metadata": {},
   "outputs": [],
   "source": [
    "Input=[ ('polynomial', PolynomialFeatures(include_bias=False,degree=2)),('ss',StandardScaler() ), ('model',Lasso(alpha=1, tol = 0.2))]\n",
    "pipe = Pipeline(Input)"
   ]
  },
  {
   "cell_type": "markdown",
   "metadata": {},
   "source": [
    "Then we fit the object, and make our predictions.\n"
   ]
  },
  {
   "cell_type": "code",
   "execution_count": 57,
   "metadata": {},
   "outputs": [
    {
     "data": {
      "text/plain": [
       "array([31090.35502413, 23135.62504126,  9457.4650858 , 11222.64465089,\n",
       "       28503.13820242,  6821.35081552,  7716.68381925,  7436.33736593,\n",
       "        7805.79226801, 10151.89082851, 16262.8074276 ,  8278.75257849,\n",
       "       16684.95563795, 10658.46233607, 38313.26144272,  7039.4378737 ,\n",
       "        8259.35558463, 12989.37400724,  9251.96079447,  8253.92933959,\n",
       "        9674.77573004])"
      ]
     },
     "execution_count": 57,
     "metadata": {},
     "output_type": "execute_result"
    }
   ],
   "source": [
    "pipe.fit(X_train, y_train)\n",
    "pipe.predict(X_test)"
   ]
  },
  {
   "cell_type": "markdown",
   "metadata": {},
   "source": [
    "We can calculate the $R^2$ on the training and testing data sets.\n"
   ]
  },
  {
   "cell_type": "code",
   "execution_count": 58,
   "metadata": {},
   "outputs": [
    {
     "name": "stdout",
     "output_type": "stream",
     "text": [
      "R^2 on training  data  0.941181185417151\n",
      "R^2 on testing data  0.953382982655632\n"
     ]
    }
   ],
   "source": [
    "print(\"R^2 on training  data \",pipe.score(X_train, y_train))\n",
    "print(\"R^2 on testing data \",pipe.score(X_test,y_test))"
   ]
  },
  {
   "cell_type": "markdown",
   "metadata": {},
   "source": [
    "As we see, some individual features perform similarly to using all the features (we removed the feature `three` ). Additionally, we see the smaller coefficients seem to correspond to a larger $R^{2}$, therefore  larger coefficients correspond to overfiting.\n"
   ]
  },
  {
   "cell_type": "markdown",
   "metadata": {},
   "source": [
    "## GridSearchCV\n",
    "\n",
    "To search for the best combination of hyperparameters, we can create a  `GridSearchCV()` function as a dictionary of parameter values. The parameters of pipelines can be set by using the name of the key, separated by \"\\__\", then the parameter. Here, we look for different polynomial degrees and different values of alpha.\n"
   ]
  },
  {
   "cell_type": "code",
   "execution_count": 59,
   "metadata": {},
   "outputs": [],
   "source": [
    "param_grid = {\n",
    "    \"polynomial__degree\": [ 1, 2,3,4,5],\n",
    "    \"model__alpha\":[0.0001,0.001,0.01,0.1,1,10]\n",
    "}"
   ]
  },
  {
   "cell_type": "markdown",
   "metadata": {},
   "source": [
    "To search for the best combination of hyperparameters, we create a  `GridSearchCV` object with a dictionary of parameter values.\n"
   ]
  },
  {
   "cell_type": "code",
   "execution_count": 60,
   "metadata": {},
   "outputs": [
    {
     "data": {
      "text/plain": [
       "GridSearchCV(estimator=Pipeline(steps=[('polynomial',\n",
       "                                        PolynomialFeatures(include_bias=False)),\n",
       "                                       ('ss', StandardScaler()),\n",
       "                                       ('model', Lasso(alpha=1, tol=0.2))]),\n",
       "             n_jobs=2,\n",
       "             param_grid={'model__alpha': [0.0001, 0.001, 0.01, 0.1, 1, 10],\n",
       "                         'polynomial__degree': [1, 2, 3, 4, 5]})"
      ]
     },
     "execution_count": 60,
     "metadata": {},
     "output_type": "execute_result"
    }
   ],
   "source": [
    "search = GridSearchCV(pipe, param_grid, n_jobs=2)\n",
    "search.fit(X_train, y_train)"
   ]
  },
  {
   "cell_type": "code",
   "execution_count": 62,
   "metadata": {},
   "outputs": [
    {
     "data": {
      "text/plain": [
       "{'model__alpha': 10, 'polynomial__degree': 3}"
      ]
     },
     "execution_count": 62,
     "metadata": {},
     "output_type": "execute_result"
    }
   ],
   "source": [
    "search.best_params_"
   ]
  },
  {
   "cell_type": "markdown",
   "metadata": {},
   "source": [
    "Now, we can find the best model.\n"
   ]
  },
  {
   "cell_type": "code",
   "execution_count": 63,
   "metadata": {},
   "outputs": [
    {
     "data": {
      "text/plain": [
       "Pipeline(steps=[('polynomial',\n",
       "                 PolynomialFeatures(degree=3, include_bias=False)),\n",
       "                ('ss', StandardScaler()), ('model', Lasso(alpha=10, tol=0.2))])"
      ]
     },
     "execution_count": 63,
     "metadata": {},
     "output_type": "execute_result"
    }
   ],
   "source": [
    "best=search.best_estimator_\n",
    "best"
   ]
  },
  {
   "cell_type": "markdown",
   "metadata": {},
   "source": [
    "We can calculate the $R^2$ on the test data.\n"
   ]
  },
  {
   "cell_type": "code",
   "execution_count": 64,
   "metadata": {},
   "outputs": [
    {
     "data": {
      "text/plain": [
       "0.9390483610147886"
      ]
     },
     "execution_count": 64,
     "metadata": {},
     "output_type": "execute_result"
    }
   ],
   "source": [
    "best.score(X_test,y_test)"
   ]
  },
  {
   "cell_type": "markdown",
   "metadata": {},
   "source": [
    "## Elastic Net\n",
    "\n",
    "In this section, let's review the Elastic Net Regression. It combines L1 and L2 priors as regularizes or penalties. So, we can combine the two as follows:\n"
   ]
  },
  {
   "cell_type": "markdown",
   "metadata": {},
   "source": [
    "$\\hat{\\textbf{w}}= \\underset{\\textbf{w}}{\\mathrm{argmin}} {\n",
    "||\\textbf{y}  - \\textbf{Xw} ||^2\\_2+ \\alpha  \\rho||\\textbf{w}||\\_1\n",
    "0.5 \\alpha (1 - \\rho)  ||\\textbf{w}||^2\\_2 } $\n"
   ]
  },
  {
   "cell_type": "markdown",
   "metadata": {},
   "source": [
    "Additionally to the alpha term ($\\alpha$), we have a mixing parameter, $\\rho$, such that 0 $\\le$ $\\rho$ $\\le$ 1. For $\\rho$=0, the penalty is an L2 regularization . For $\\rho=0$, it is L1 regularization; otherwise, it is a combination of L1 and L2. In *scikit-learn* the parameter is called  `l1_ratio`. Unlike the Ridge Regression, Elastic Net finds zero coefficients. In many cases Elastic Net performs better than Lasso, as it includes features that are correlated with one another. One drawback of the Elastic Net is you have two hyperparameters.  Lets create a model where `alpha=0.1`and `l1_ratio=0.5` and fit the data with this model.\n"
   ]
  },
  {
   "cell_type": "code",
   "execution_count": 65,
   "metadata": {},
   "outputs": [
    {
     "data": {
      "text/plain": [
       "ElasticNet(alpha=0.1)"
      ]
     },
     "execution_count": 65,
     "metadata": {},
     "output_type": "execute_result"
    }
   ],
   "source": [
    "enet = ElasticNet(alpha=0.1, l1_ratio=0.5)\n",
    "enet.fit(X_train,y_train)"
   ]
  },
  {
   "cell_type": "markdown",
   "metadata": {},
   "source": [
    "Let's make a prediction.\n"
   ]
  },
  {
   "cell_type": "code",
   "execution_count": 66,
   "metadata": {},
   "outputs": [
    {
     "data": {
      "text/plain": [
       "array([27876.23069332, 19692.47948228, 11278.55904242, 11378.11762817,\n",
       "       25990.32173225,  5511.46549415,  7591.3310787 ,  7796.50950874,\n",
       "        9762.62529929,  8646.72495203, 17018.24269379,  7412.95036812,\n",
       "       17031.98094445, 10732.9267982 , 37491.12185882,  5254.66797235,\n",
       "        -286.43084016, 16075.95423556, 11330.87482645, 10579.46380101,\n",
       "       11539.66267619])"
      ]
     },
     "execution_count": 66,
     "metadata": {},
     "output_type": "execute_result"
    }
   ],
   "source": [
    "predicted=enet.predict(X_test)\n",
    "predicted"
   ]
  },
  {
   "cell_type": "markdown",
   "metadata": {},
   "source": [
    "Let's calculate the $R^2$ on the test data.\n"
   ]
  },
  {
   "cell_type": "code",
   "execution_count": 67,
   "metadata": {},
   "outputs": [
    {
     "name": "stdout",
     "output_type": "stream",
     "text": [
      "R^2 on training  data  0.8726983414262406\n",
      "R^2 on testing data  0.9289334382162673\n"
     ]
    }
   ],
   "source": [
    "print(\"R^2 on training  data \", enet.score(X_train, y_train))\n",
    "print(\"R^2 on testing data \", enet.score(X_test,y_test))"
   ]
  },
  {
   "cell_type": "markdown",
   "metadata": {},
   "source": [
    "If we compare the Elastic Net to Lasso Regression and  Ridge Regression, we see the results on the $R^2$ are better than the Elastic Net and many of the coefficients are zero.\n"
   ]
  },
  {
   "cell_type": "code",
   "execution_count": 69,
   "metadata": {},
   "outputs": [
    {
     "data": {
      "image/png": "[encoded data removed]",
      "text/plain": [
       "<Figure size 432x288 with 1 Axes>"
      ]
     },
     "metadata": {
      "needs_background": "light"
     },
     "output_type": "display_data"
    },
    {
     "name": "stdout",
     "output_type": "stream",
     "text": [
      "R^2 on training  data  0.799083710857619\n",
      "R^2 on testing data  0.910818845927178\n"
     ]
    },
    {
     "data": {
      "image/png": "[encoded data removed]",
      "text/plain": [
       "<Figure size 432x288 with 1 Axes>"
      ]
     },
     "metadata": {
      "needs_background": "light"
     },
     "output_type": "display_data"
    },
    {
     "name": "stdout",
     "output_type": "stream",
     "text": [
      "R^2 on training  data  0.8726983414262406\n",
      "R^2 on testing data  0.9289334382162673\n"
     ]
    }
   ],
   "source": [
    "plot_coef(X,la,name=\"Lasso Regression\")\n",
    "plot_coef(X,enet,name=\"Elastic net \")\n",
    "\n",
    "## graph that leads to error "
   ]
  },
  {
   "cell_type": "markdown",
   "metadata": {
    "tags": []
   },
   "source": [
    "## Exercise 3\n",
    "\n",
    "Create and fit the Elastic Net model and the Ridge Regression models and plot the coefficients for both models using the `plot_coef()`function.\n"
   ]
  },
  {
   "cell_type": "code",
   "execution_count": 70,
   "metadata": {},
   "outputs": [
    {
     "data": {
      "image/png": "[encoded data removed]",
      "text/plain": [
       "<Figure size 432x288 with 1 Axes>"
      ]
     },
     "metadata": {
      "needs_background": "light"
     },
     "output_type": "display_data"
    },
    {
     "name": "stdout",
     "output_type": "stream",
     "text": [
      "R^2 on training  data  0.9091956531801182\n",
      "R^2 on testing data  0.9478784615596496\n"
     ]
    },
    {
     "data": {
      "image/png": "[encoded data removed]",
      "text/plain": [
       "<Figure size 432x288 with 1 Axes>"
      ]
     },
     "metadata": {
      "needs_background": "light"
     },
     "output_type": "display_data"
    },
    {
     "name": "stdout",
     "output_type": "stream",
     "text": [
      "R^2 on training  data  0.8941741868792897\n",
      "R^2 on testing data  0.940724027816336\n"
     ]
    }
   ],
   "source": [
    "# Enter your code and run the cell\n",
    "enet = ElasticNet(alpha=0.01, l1_ratio=0)\n",
    "enet.fit(X_train,y_train)\n",
    "rr = Ridge(alpha=0.01)\n",
    "rr.fit(X_train,y_train)\n",
    "plot_coef(X,rr,name=\"Ridge Regression\")\n",
    "\n",
    "plot_coef(X,enet,name=\"Elastic net l1_ratio=0 \")"
   ]
  },
  {
   "cell_type": "markdown",
   "metadata": {},
   "source": [
    "<details>\n",
    "    <summary>Click here for Solution</summary>\n",
    "\n",
    "```python\n",
    "enet = ElasticNet(alpha=0.01, l1_ratio=0)\n",
    "enet.fit(X_train,y_train)\n",
    "rr = Ridge(alpha=0.01)\n",
    "rr.fit(X_train,y_train)\n",
    "plot_coef(X,rr,name=\"Ridge Regression\")\n",
    "\n",
    "plot_coef(X,enet,name=\"Elastic net l1_ratio=0 \")\n",
    "```\n",
    "\n",
    "</details> \n"
   ]
  },
  {
   "cell_type": "markdown",
   "metadata": {},
   "source": [
    "## Exercise 4\n",
    "\n",
    "Create a Pipeline object, apply polynomial features (degree = 2), perform data standardization, then apply Elastic Net with `alpha=0.1` and  `l1_ratio=0.1` parameters. Fit the model using the training data, then calculate the $R^2$ on the training and testing data.\n"
   ]
  },
  {
   "cell_type": "code",
   "execution_count": 71,
   "metadata": {},
   "outputs": [
    {
     "name": "stdout",
     "output_type": "stream",
     "text": [
      "R^2 on training  data  0.9703466188354504\n",
      "R^2 on testing data  0.9474289882341259\n"
     ]
    }
   ],
   "source": [
    "# Enter your code and run the cell\n",
    "Input=[ ('polynomial', PolynomialFeatures(include_bias=False,degree=2)),('ss',StandardScaler() ), ('model',ElasticNet(alpha=0.1, l1_ratio=0.1))]\n",
    "pipe = Pipeline(Input)\n",
    "pipe.fit(X_train, y_train)\n",
    "print(\"R^2 on training  data \",pipe.score(X_train, y_train))\n",
    "print(\"R^2 on testing data \",pipe.score(X_test,y_test))"
   ]
  },
  {
   "cell_type": "markdown",
   "metadata": {},
   "source": [
    "<details>\n",
    "    <summary>Click here for Solution</summary>\n",
    "\n",
    "```python\n",
    "Input=[ ('polynomial', PolynomialFeatures(include_bias=False,degree=2)),('ss',StandardScaler() ), ('model',ElasticNet(alpha=0.1, l1_ratio=0.1))]\n",
    "pipe = Pipeline(Input)\n",
    "pipe.fit(X_train, y_train)\n",
    "print(\"R^2 on training  data \",pipe.score(X_train, y_train))\n",
    "print(\"R^2 on testing data \",pipe.score(X_test,y_test))\n",
    "```\n",
    "\n",
    "</details>\n"
   ]
  },
  {
   "cell_type": "markdown",
   "metadata": {},
   "source": [
    "## Exercise 5\n"
   ]
  },
  {
   "cell_type": "markdown",
   "metadata": {},
   "source": [
    "Search for the best combination of  hyperparameters by creating  a  `GridSearchCV` object for Elastic Net Regression. Find the best parameter values using the pipeline object, as used in the above examples. Use`param_grid`, then find thee $R^2$ on the test data using the best estimator.\n"
   ]
  },
  {
   "cell_type": "code",
   "execution_count": 72,
   "metadata": {},
   "outputs": [],
   "source": [
    "param_grid = {\n",
    "    \"polynomial__degree\": [ 1, 2,3,4,5],\n",
    "    \"model__alpha\":[0.0001,0.001,0.01,0.1,1,10],\n",
    "    \"model__l1_ratio\":[0.1,0.25,0.5,0.75,0.9]\n",
    "}\n"
   ]
  },
  {
   "cell_type": "code",
   "execution_count": 73,
   "metadata": {},
   "outputs": [
    {
     "data": {
      "text/plain": [
       "0.9800717238596847"
      ]
     },
     "execution_count": 73,
     "metadata": {},
     "output_type": "execute_result"
    }
   ],
   "source": [
    "# Enter your code and run the cell\n",
    "Input=[ ('polynomial', PolynomialFeatures(include_bias=False,degree=2)),('ss',StandardScaler() ), ('model',ElasticNet(tol = 0.2))]\n",
    "pipe = Pipeline(Input)\n",
    "search = GridSearchCV(pipe, param_grid, n_jobs=-1)\n",
    "search.fit(X_test, y_test)\n",
    "best=search.best_estimator_\n",
    "best.score(X_test,y_test)"
   ]
  },
  {
   "cell_type": "markdown",
   "metadata": {},
   "source": [
    "<details>\n",
    "    <summary>Click here for Solution</summary>\n",
    "\n",
    "```python\n",
    "Input=[ ('polynomial', PolynomialFeatures(include_bias=False,degree=2)),('ss',StandardScaler() ), ('model',ElasticNet(tol = 0.2))]\n",
    "pipe = Pipeline(Input)\n",
    "search = GridSearchCV(pipe, param_grid, n_jobs=2)\n",
    "search.fit(X_test, y_test)\n",
    "best=search.best_estimator_\n",
    "best.score(X_test,y_test)\n",
    "```\n",
    "\n",
    "</details>\n"
   ]
  },
  {
   "cell_type": "markdown",
   "metadata": {},
   "source": [
    "## Principal Component Analysis (Optional)\n"
   ]
  },
  {
   "cell_type": "markdown",
   "metadata": {},
   "source": [
    "In this example, we will explore Principal Component Analysis to reduce the dimensionality of our data.\n",
    "We will do so by creating a Pipeline object first, then applying standard scaling and performing PCA, and then applying Elastic Net Regularization with the following parametrs: `tol=0.2`, `alpha=0.1` and  `l1_ratio=0.1`.\n",
    "Finally, we will fit the model using the training data, then calculate the  $𝑅^2$  on the training and testing data sets.\n"
   ]
  },
  {
   "cell_type": "markdown",
   "metadata": {},
   "source": [
    "Before adding PCA as a prep-processing step, we have to standardize our data. Scaling the features makes them have the same standard deviation.\n"
   ]
  },
  {
   "cell_type": "code",
   "execution_count": 74,
   "metadata": {},
   "outputs": [],
   "source": [
    "scaler = StandardScaler()\n",
    "X_train[:] = scaler.fit_transform(X_train)\n",
    "X_train.columns = [f'{c} (scaled)' for c in X_train.columns]"
   ]
  },
  {
   "cell_type": "markdown",
   "metadata": {},
   "source": [
    "Now, let's perform PCA.\n"
   ]
  },
  {
   "cell_type": "code",
   "execution_count": 75,
   "metadata": {},
   "outputs": [
    {
     "data": {
      "text/plain": [
       "PCA()"
      ]
     },
     "execution_count": 75,
     "metadata": {},
     "output_type": "execute_result"
    }
   ],
   "source": [
    "pca = PCA()\n",
    "pca.fit(X_train)"
   ]
  },
  {
   "cell_type": "markdown",
   "metadata": {},
   "source": [
    "We can find the projection of the dataset onto the principal components, let's call it X_train_hat , this is our \"new\" dataset, it is the same shape as the original dataset.\n"
   ]
  },
  {
   "cell_type": "code",
   "execution_count": 76,
   "metadata": {},
   "outputs": [
    {
     "name": "stdout",
     "output_type": "stream",
     "text": [
      "(184, 35)\n"
     ]
    }
   ],
   "source": [
    "X_train_hat = pca.transform(X_train)\n",
    "print(X_train_hat.shape)"
   ]
  },
  {
   "cell_type": "markdown",
   "metadata": {},
   "source": [
    "Let's look at the new dataset as a dataframe.\n"
   ]
  },
  {
   "cell_type": "code",
   "execution_count": 77,
   "metadata": {},
   "outputs": [
    {
     "data": {
      "text/html": [
       "<div>\n",
       "<style scoped>\n",
       "    .dataframe tbody tr th:only-of-type {\n",
       "        vertical-align: middle;\n",
       "    }\n",
       "\n",
       "    .dataframe tbody tr th {\n",
       "        vertical-align: top;\n",
       "    }\n",
       "\n",
       "    .dataframe thead th {\n",
       "        text-align: right;\n",
       "    }\n",
       "</style>\n",
       "<table border=\"1\" class=\"dataframe\">\n",
       "  <thead>\n",
       "    <tr style=\"text-align: right;\">\n",
       "      <th></th>\n",
       "      <th>Projection  on Component 1</th>\n",
       "      <th>Projection  on Component 2</th>\n",
       "      <th>Projection  on Component 3</th>\n",
       "      <th>Projection  on Component 4</th>\n",
       "      <th>Projection  on Component 5</th>\n",
       "      <th>Projection  on Component 6</th>\n",
       "      <th>Projection  on Component 7</th>\n",
       "      <th>Projection  on Component 8</th>\n",
       "      <th>Projection  on Component 9</th>\n",
       "      <th>Projection  on Component 10</th>\n",
       "      <th>...</th>\n",
       "      <th>Projection  on Component 26</th>\n",
       "      <th>Projection  on Component 27</th>\n",
       "      <th>Projection  on Component 28</th>\n",
       "      <th>Projection  on Component 29</th>\n",
       "      <th>Projection  on Component 30</th>\n",
       "      <th>Projection  on Component 31</th>\n",
       "      <th>Projection  on Component 32</th>\n",
       "      <th>Projection  on Component 33</th>\n",
       "      <th>Projection  on Component 34</th>\n",
       "      <th>Projection  on Component 35</th>\n",
       "    </tr>\n",
       "  </thead>\n",
       "  <tbody>\n",
       "    <tr>\n",
       "      <th>0</th>\n",
       "      <td>3.294148</td>\n",
       "      <td>-1.989679</td>\n",
       "      <td>-2.182446</td>\n",
       "      <td>-1.156530</td>\n",
       "      <td>-0.715546</td>\n",
       "      <td>-0.605020</td>\n",
       "      <td>-1.628886</td>\n",
       "      <td>0.853635</td>\n",
       "      <td>2.355868</td>\n",
       "      <td>0.434029</td>\n",
       "      <td>...</td>\n",
       "      <td>0.116948</td>\n",
       "      <td>0.089306</td>\n",
       "      <td>1.082280e-15</td>\n",
       "      <td>-1.371077e-15</td>\n",
       "      <td>4.994604e-16</td>\n",
       "      <td>2.833736e-16</td>\n",
       "      <td>-1.100540e-15</td>\n",
       "      <td>2.710084e-16</td>\n",
       "      <td>2.155691e-16</td>\n",
       "      <td>3.046353e-16</td>\n",
       "    </tr>\n",
       "    <tr>\n",
       "      <th>1</th>\n",
       "      <td>-2.801332</td>\n",
       "      <td>-0.496152</td>\n",
       "      <td>-0.654240</td>\n",
       "      <td>0.175846</td>\n",
       "      <td>0.267657</td>\n",
       "      <td>0.914558</td>\n",
       "      <td>0.066678</td>\n",
       "      <td>1.120531</td>\n",
       "      <td>-1.804675</td>\n",
       "      <td>-2.048843</td>\n",
       "      <td>...</td>\n",
       "      <td>0.221664</td>\n",
       "      <td>-0.027223</td>\n",
       "      <td>-2.281279e-16</td>\n",
       "      <td>-5.878971e-16</td>\n",
       "      <td>9.894246e-17</td>\n",
       "      <td>1.794407e-15</td>\n",
       "      <td>1.281147e-15</td>\n",
       "      <td>-6.865855e-17</td>\n",
       "      <td>6.928480e-16</td>\n",
       "      <td>-1.237041e-16</td>\n",
       "    </tr>\n",
       "    <tr>\n",
       "      <th>2</th>\n",
       "      <td>-5.993408</td>\n",
       "      <td>-0.535847</td>\n",
       "      <td>-0.270387</td>\n",
       "      <td>-0.833262</td>\n",
       "      <td>0.898968</td>\n",
       "      <td>1.739295</td>\n",
       "      <td>-0.624702</td>\n",
       "      <td>0.171002</td>\n",
       "      <td>0.741584</td>\n",
       "      <td>-0.811344</td>\n",
       "      <td>...</td>\n",
       "      <td>0.014135</td>\n",
       "      <td>0.207760</td>\n",
       "      <td>5.042004e-16</td>\n",
       "      <td>1.074443e-15</td>\n",
       "      <td>-1.676995e-15</td>\n",
       "      <td>-5.465570e-16</td>\n",
       "      <td>2.740257e-16</td>\n",
       "      <td>-8.053904e-17</td>\n",
       "      <td>1.313971e-16</td>\n",
       "      <td>-2.388185e-16</td>\n",
       "    </tr>\n",
       "    <tr>\n",
       "      <th>3</th>\n",
       "      <td>-3.462434</td>\n",
       "      <td>0.060153</td>\n",
       "      <td>-0.841084</td>\n",
       "      <td>-0.505797</td>\n",
       "      <td>-0.771184</td>\n",
       "      <td>0.138637</td>\n",
       "      <td>-0.214593</td>\n",
       "      <td>0.253033</td>\n",
       "      <td>-0.173882</td>\n",
       "      <td>0.780597</td>\n",
       "      <td>...</td>\n",
       "      <td>0.026002</td>\n",
       "      <td>-0.146690</td>\n",
       "      <td>2.679536e-16</td>\n",
       "      <td>-5.304986e-16</td>\n",
       "      <td>-2.641109e-16</td>\n",
       "      <td>1.468591e-16</td>\n",
       "      <td>-2.038556e-16</td>\n",
       "      <td>1.377818e-16</td>\n",
       "      <td>5.466441e-18</td>\n",
       "      <td>-3.737420e-16</td>\n",
       "    </tr>\n",
       "    <tr>\n",
       "      <th>4</th>\n",
       "      <td>4.664168</td>\n",
       "      <td>-0.948145</td>\n",
       "      <td>-1.440491</td>\n",
       "      <td>-0.739345</td>\n",
       "      <td>-1.235190</td>\n",
       "      <td>-0.889695</td>\n",
       "      <td>-0.726741</td>\n",
       "      <td>-0.228066</td>\n",
       "      <td>-0.883634</td>\n",
       "      <td>-0.048221</td>\n",
       "      <td>...</td>\n",
       "      <td>-0.005600</td>\n",
       "      <td>0.124976</td>\n",
       "      <td>1.080297e-15</td>\n",
       "      <td>7.156197e-16</td>\n",
       "      <td>-4.234974e-17</td>\n",
       "      <td>-2.316841e-16</td>\n",
       "      <td>-2.553041e-16</td>\n",
       "      <td>9.678630e-17</td>\n",
       "      <td>1.751089e-17</td>\n",
       "      <td>4.940166e-17</td>\n",
       "    </tr>\n",
       "  </tbody>\n",
       "</table>\n",
       "<p>5 rows × 35 columns</p>\n",
       "</div>"
      ],
      "text/plain": [
       "   Projection  on Component 1  Projection  on Component 2  \\\n",
       "0                    3.294148                   -1.989679   \n",
       "1                   -2.801332                   -0.496152   \n",
       "2                   -5.993408                   -0.535847   \n",
       "3                   -3.462434                    0.060153   \n",
       "4                    4.664168                   -0.948145   \n",
       "\n",
       "   Projection  on Component 3  Projection  on Component 4  \\\n",
       "0                   -2.182446                   -1.156530   \n",
       "1                   -0.654240                    0.175846   \n",
       "2                   -0.270387                   -0.833262   \n",
       "3                   -0.841084                   -0.505797   \n",
       "4                   -1.440491                   -0.739345   \n",
       "\n",
       "   Projection  on Component 5  Projection  on Component 6  \\\n",
       "0                   -0.715546                   -0.605020   \n",
       "1                    0.267657                    0.914558   \n",
       "2                    0.898968                    1.739295   \n",
       "3                   -0.771184                    0.138637   \n",
       "4                   -1.235190                   -0.889695   \n",
       "\n",
       "   Projection  on Component 7  Projection  on Component 8  \\\n",
       "0                   -1.628886                    0.853635   \n",
       "1                    0.066678                    1.120531   \n",
       "2                   -0.624702                    0.171002   \n",
       "3                   -0.214593                    0.253033   \n",
       "4                   -0.726741                   -0.228066   \n",
       "\n",
       "   Projection  on Component 9  Projection  on Component 10  ...  \\\n",
       "0                    2.355868                     0.434029  ...   \n",
       "1                   -1.804675                    -2.048843  ...   \n",
       "2                    0.741584                    -0.811344  ...   \n",
       "3                   -0.173882                     0.780597  ...   \n",
       "4                   -0.883634                    -0.048221  ...   \n",
       "\n",
       "   Projection  on Component 26  Projection  on Component 27  \\\n",
       "0                     0.116948                     0.089306   \n",
       "1                     0.221664                    -0.027223   \n",
       "2                     0.014135                     0.207760   \n",
       "3                     0.026002                    -0.146690   \n",
       "4                    -0.005600                     0.124976   \n",
       "\n",
       "   Projection  on Component 28  Projection  on Component 29  \\\n",
       "0                 1.082280e-15                -1.371077e-15   \n",
       "1                -2.281279e-16                -5.878971e-16   \n",
       "2                 5.042004e-16                 1.074443e-15   \n",
       "3                 2.679536e-16                -5.304986e-16   \n",
       "4                 1.080297e-15                 7.156197e-16   \n",
       "\n",
       "   Projection  on Component 30  Projection  on Component 31  \\\n",
       "0                 4.994604e-16                 2.833736e-16   \n",
       "1                 9.894246e-17                 1.794407e-15   \n",
       "2                -1.676995e-15                -5.465570e-16   \n",
       "3                -2.641109e-16                 1.468591e-16   \n",
       "4                -4.234974e-17                -2.316841e-16   \n",
       "\n",
       "   Projection  on Component 32  Projection  on Component 33  \\\n",
       "0                -1.100540e-15                 2.710084e-16   \n",
       "1                 1.281147e-15                -6.865855e-17   \n",
       "2                 2.740257e-16                -8.053904e-17   \n",
       "3                -2.038556e-16                 1.377818e-16   \n",
       "4                -2.553041e-16                 9.678630e-17   \n",
       "\n",
       "   Projection  on Component 34  Projection  on Component 35  \n",
       "0                 2.155691e-16                 3.046353e-16  \n",
       "1                 6.928480e-16                -1.237041e-16  \n",
       "2                 1.313971e-16                -2.388185e-16  \n",
       "3                 5.466441e-18                -3.737420e-16  \n",
       "4                 1.751089e-17                 4.940166e-17  \n",
       "\n",
       "[5 rows x 35 columns]"
      ]
     },
     "execution_count": 77,
     "metadata": {},
     "output_type": "execute_result"
    }
   ],
   "source": [
    "X_train_hat_PCA = pd.DataFrame(columns=[f'Projection  on Component {i+1}' for i in range(len(X_train.columns))], data=X_train_hat)\n",
    "X_train_hat_PCA.head()"
   ]
  },
  {
   "cell_type": "markdown",
   "metadata": {},
   "source": [
    "Now, let's see how much variance can be explained using these principal components (PCs).\n"
   ]
  },
  {
   "cell_type": "code",
   "execution_count": 78,
   "metadata": {},
   "outputs": [
    {
     "data": {
      "text/plain": [
       "Text(0.5, 1.0, 'Component-wise variance and cumulative explained variance')"
      ]
     },
     "execution_count": 78,
     "metadata": {},
     "output_type": "execute_result"
    },
    {
     "data": {
      "image/png": "[encoded data removed]",
      "text/plain": [
       "<Figure size 432x288 with 1 Axes>"
      ]
     },
     "metadata": {
      "needs_background": "light"
     },
     "output_type": "display_data"
    }
   ],
   "source": [
    "plt.plot(pca.explained_variance_ratio_)\n",
    "plt.plot(np.cumsum(pca.explained_variance_ratio_))\n",
    "plt.title(\"Component-wise variance and cumulative explained variance\")"
   ]
  },
  {
   "cell_type": "markdown",
   "metadata": {},
   "source": [
    "In the graph above, the component-wise variance is depicted by the blue line, and the cumulative explained variance is explained by the orange line. We are able to explain \\~100% of the variance using just the first 20 PCs. Let's filter our dataset down to these 20 PCs.\n"
   ]
  },
  {
   "cell_type": "code",
   "execution_count": 79,
   "metadata": {},
   "outputs": [],
   "source": [
    "N = 20\n",
    "X_train_hat_PCA = X_train_hat_PCA.iloc[:, :N]"
   ]
  },
  {
   "cell_type": "markdown",
   "metadata": {},
   "source": [
    "Let's create an Elastic Net model where `tol=0.2`,  `alpha=0.1` and  `l1_ratio=0.1` and fit the data with this model.\n"
   ]
  },
  {
   "cell_type": "code",
   "execution_count": 80,
   "metadata": {},
   "outputs": [
    {
     "data": {
      "text/plain": [
       "ElasticNet(alpha=100, l1_ratio=0.75, tol=0.2)"
      ]
     },
     "execution_count": 80,
     "metadata": {},
     "output_type": "execute_result"
    }
   ],
   "source": [
    "enet = ElasticNet(tol = 0.2, alpha=100, l1_ratio=0.75)\n",
    "enet.fit(X_train_hat_PCA, y_train)"
   ]
  },
  {
   "cell_type": "markdown",
   "metadata": {
    "tags": []
   },
   "source": [
    "## Exercise 6 (Optional)\n",
    "\n",
    "In this Exercise, create a Pipeline object, apply standard scaling, perform PCA and then finally fit an Elastic Net with `tol=0.2`, `alpha=0.1` and  `l1_ratio=0.1` parameters. Calculate the scores, $R^2$, on the training and testing data sets.\n"
   ]
  },
  {
   "cell_type": "code",
   "execution_count": 81,
   "metadata": {},
   "outputs": [
    {
     "name": "stdout",
     "output_type": "stream",
     "text": [
      "R^2 on training  data  0.8829912421979917\n",
      "R^2 on testing data  -74934.5086023313\n"
     ]
    }
   ],
   "source": [
    "# Enter your code and run the cell\n",
    "Input=[ ('scaler', StandardScaler()), ('pca', PCA(n_components = N)), ('model', ElasticNet(tol =0.2, alpha=0.1, l1_ratio=0.1))]\n",
    "pipe = Pipeline(Input)\n",
    "pipe.fit(X_train, y_train)\n",
    "print(\"R^2 on training  data \", pipe.score(X_train, y_train))\n",
    "print(\"R^2 on testing data \", pipe.score(X_test,y_test))"
   ]
  },
  {
   "cell_type": "markdown",
   "metadata": {},
   "source": [
    "<details>\n",
    "    <summary>Click here for Solution</summary>\n",
    "\n",
    "```python\n",
    "\n",
    "Input=[ ('scaler', StandardScaler()), ('pca', PCA(n_components = N)), ('model', ElasticNet(tol =0.2, alpha=0.1, l1_ratio=0.1))]\n",
    "pipe = Pipeline(Input)\n",
    "pipe.fit(X_train, y_train)\n",
    "print(\"R^2 on training  data \", pipe.score(X_train, y_train))\n",
    "print(\"R^2 on testing data \", pipe.score(X_test,y_test))\n",
    "```\n",
    "\n",
    "</details>\n"
   ]
  },
  {
   "cell_type": "markdown",
   "metadata": {},
   "source": [
    "# Congratulations! - You have completed the lab\n"
   ]
  },
  {
   "cell_type": "markdown",
   "metadata": {},
   "source": [
    "## Author\n"
   ]
  },
  {
   "cell_type": "markdown",
   "metadata": {},
   "source": [
    "<a href=\"https://www.linkedin.com/in/joseph-s-50398b136/?utm_medium=Exinfluencer&utm_source=Exinfluencer&utm_content=000026UJ&utm_term=10006555&utm_id=NA-SkillsNetwork-Channel-SkillsNetworkCoursesIBMDeveloperSkillsNetworkML0101ENSkillsNetwork20718538-2021-01-01\" target=\"_blank\">Joseph Santarcangelo</a>\n"
   ]
  },
  {
   "cell_type": "markdown",
   "metadata": {},
   "source": [
    "### Other Contributors\n",
    "\n",
    "[Svitlana Kramar](https://www.linkedin.com/in/svitlana-kramar?utm_medium=Exinfluencer&utm_source=Exinfluencer&utm_content=000026UJ&utm_term=10006555&utm_id=NA-SkillsNetwork-Channel-SkillsNetworkCoursesIBMML240ENSkillsNetwork34171862-2022-01-01)\n",
    "\n",
    "[Kopal Garg](https://www.linkedin.com/in/gargkopal/?utm_medium=Exinfluencer&utm_source=Exinfluencer&utm_content=000026UJ&utm_term=10006555&utm_id=NA-SkillsNetwork-Channel-SkillsNetworkCoursesIBMML240ENSkillsNetwork34171862-2022-01-01)\n"
   ]
  },
  {
   "cell_type": "markdown",
   "metadata": {},
   "source": [
    "## Change Log\n"
   ]
  },
  {
   "cell_type": "markdown",
   "metadata": {},
   "source": [
    "| Date (YYYY-MM-DD) | Version | Changed By  | Change Description                               |\n",
    "| ----------------- | ------- | ----------- | ------------------------------------------------ |\n",
    "| 2022-05-02        | 0.1     | Svitlana K. | Reviewed and fixed minor code and grammar errors |\n",
    "| 2022-05-10        | 0.2     | Kopal G.    | Added the PCA example                            |\n"
   ]
  }
 ],
 "metadata": {
  "kernelspec": {
   "display_name": "Python 3 (ipykernel)",
   "language": "python",
   "name": "python3"
  },
  "language_info": {
   "codemirror_mode": {
    "name": "ipython",
    "version": 3
   },
   "file_extension": ".py",
   "mimetype": "text/x-python",
   "name": "python",
   "nbconvert_exporter": "python",
   "pygments_lexer": "ipython3",
   "version": "3.9.0"
  }
 },
 "nbformat": 4,
 "nbformat_minor": 4
}
