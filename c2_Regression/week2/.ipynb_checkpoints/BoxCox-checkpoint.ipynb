{
 "cells": [
  {
   "cell_type": "code",
   "execution_count": 1,
   "id": "5b8691bb",
   "metadata": {},
   "outputs": [],
   "source": [
    "import numpy as np\n",
    "from scipy import stats\n",
    "import seaborn as sns\n",
    "import matplotlib.pyplot as plt"
   ]
  },
  {
   "cell_type": "markdown",
   "id": "583d9d9b",
   "metadata": {},
   "source": [
    "### BoxCox transformation"
   ]
  },
  {
   "cell_type": "code",
   "execution_count": 2,
   "id": "e0f09518",
   "metadata": {},
   "outputs": [
    {
     "data": {
      "text/plain": [
       "array([1.62865405, 2.71095587, 0.42651555, 0.57187222, 1.2534096 ,\n",
       "       0.11853099])"
      ]
     },
     "execution_count": 2,
     "metadata": {},
     "output_type": "execute_result"
    }
   ],
   "source": [
    "# generate non-normal data (exponential)\n",
    "original_data = np.random.exponential(size = 1000)\n",
    "original_data[:6]"
   ]
  },
  {
   "cell_type": "code",
   "execution_count": 6,
   "id": "9201706f",
   "metadata": {},
   "outputs": [
    {
     "data": {
      "text/plain": [
       "array([ 0.51845151,  1.13133057, -0.76816321, -0.52187485,  0.23230739,\n",
       "       -1.6565517 ])"
      ]
     },
     "execution_count": 6,
     "metadata": {},
     "output_type": "execute_result"
    }
   ],
   "source": [
    "# transform training data & save lambda value\n",
    "transformed_data, lambda_ = stats.boxcox(original_data)\n",
    "transformed_data[:6]"
   ]
  },
  {
   "cell_type": "code",
   "execution_count": 7,
   "id": "e9ec6a99",
   "metadata": {},
   "outputs": [
    {
     "data": {
      "text/plain": [
       "0.24777633948318126"
      ]
     },
     "execution_count": 7,
     "metadata": {},
     "output_type": "execute_result"
    }
   ],
   "source": [
    "lambda_"
   ]
  },
  {
   "cell_type": "code",
   "execution_count": 8,
   "id": "b3a59c05",
   "metadata": {},
   "outputs": [
    {
     "name": "stderr",
     "output_type": "stream",
     "text": [
      "d:\\Users\\DELL PC\\AppData\\Local\\Programs\\Python\\Python39\\lib\\site-packages\\seaborn\\distributions.py:2557: FutureWarning: `distplot` is a deprecated function and will be removed in a future version. Please adapt your code to use either `displot` (a figure-level function with similar flexibility) or `kdeplot` (an axes-level function for kernel density plots).\n",
      "  warnings.warn(msg, FutureWarning)\n",
      "d:\\Users\\DELL PC\\AppData\\Local\\Programs\\Python\\Python39\\lib\\site-packages\\seaborn\\distributions.py:2557: FutureWarning: `distplot` is a deprecated function and will be removed in a future version. Please adapt your code to use either `displot` (a figure-level function with similar flexibility) or `kdeplot` (an axes-level function for kernel density plots).\n",
      "  warnings.warn(msg, FutureWarning)\n"
     ]
    },
    {
     "data": {
      "image/png": "[encoded data removed]",
      "text/plain": [
       "<Figure size 720x360 with 2 Axes>"
      ]
     },
     "metadata": {
      "needs_background": "light"
     },
     "output_type": "display_data"
    }
   ],
   "source": [
    "fig, ax = plt.subplots(1, 2)\n",
    " \n",
    "# plotting the original data(non-normal)\n",
    "sns.distplot(original_data, hist = False, kde = True,\n",
    "            kde_kws = {'shade': True, 'linewidth': 2},\n",
    "            label = \"Non-Normal\", color =\"green\", ax = ax[0])\n",
    " \n",
    "sns.distplot(transformed_data, hist = False, kde = True,\n",
    "            kde_kws = {'shade': True, 'linewidth': 2},\n",
    "            label = \"Normal\", color =\"green\", ax = ax[1])\n",
    " \n",
    "# adding legends to the subplots\n",
    "plt.legend(loc = \"upper right\")\n",
    " \n",
    "# rescaling the subplots\n",
    "fig.set_figheight(5)\n",
    "fig.set_figwidth(10)"
   ]
  },
  {
   "cell_type": "markdown",
   "id": "7177201c",
   "metadata": {},
   "source": [
    "### Inverse BoxCox"
   ]
  },
  {
   "cell_type": "code",
   "execution_count": 9,
   "id": "b2a071ae",
   "metadata": {},
   "outputs": [],
   "source": [
    "from scipy.special import inv_boxcox"
   ]
  },
  {
   "cell_type": "code",
   "execution_count": 10,
   "id": "3c8b0b2a",
   "metadata": {},
   "outputs": [
    {
     "data": {
      "text/plain": [
       "array([1.62865405, 2.71095587, 0.42651555, 0.57187222, 1.2534096 ])"
      ]
     },
     "execution_count": 10,
     "metadata": {},
     "output_type": "execute_result"
    }
   ],
   "source": [
    "inv_boxcox(transformed_data, lambda_)[:5]"
   ]
  },
  {
   "cell_type": "code",
   "execution_count": 11,
   "id": "699cba87",
   "metadata": {},
   "outputs": [
    {
     "data": {
      "text/plain": [
       "array([1.62865405, 2.71095587, 0.42651555, 0.57187222, 1.2534096 ])"
      ]
     },
     "execution_count": 11,
     "metadata": {},
     "output_type": "execute_result"
    }
   ],
   "source": [
    "original_data[:5]"
   ]
  },
  {
   "cell_type": "markdown",
   "id": "85e07d79",
   "metadata": {},
   "source": [
    "Both are same"
   ]
  },
  {
   "cell_type": "code",
   "execution_count": null,
   "id": "6fc0faef",
   "metadata": {},
   "outputs": [],
   "source": []
  }
 ],
 "metadata": {
  "kernelspec": {
   "display_name": "Python 3 (ipykernel)",
   "language": "python",
   "name": "python3"
  },
  "language_info": {
   "codemirror_mode": {
    "name": "ipython",
    "version": 3
   },
   "file_extension": ".py",
   "mimetype": "text/x-python",
   "name": "python",
   "nbconvert_exporter": "python",
   "pygments_lexer": "ipython3",
   "version": "3.9.0"
  }
 },
 "nbformat": 4,
 "nbformat_minor": 5
}
