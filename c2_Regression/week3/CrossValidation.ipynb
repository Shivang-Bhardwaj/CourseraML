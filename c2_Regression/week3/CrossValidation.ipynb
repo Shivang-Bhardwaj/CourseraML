{
 "cells": [
  {
   "cell_type": "code",
   "execution_count": 2,
   "id": "db06ae84",
   "metadata": {},
   "outputs": [],
   "source": [
    "from sklearn.model_selection import KFold\n",
    "import numpy as np"
   ]
  },
  {
   "cell_type": "markdown",
   "id": "2e735d6d",
   "metadata": {},
   "source": [
    "### K folds"
   ]
  },
  {
   "cell_type": "code",
   "execution_count": 3,
   "id": "13cb82e6",
   "metadata": {},
   "outputs": [],
   "source": [
    "X = np.random.random((25,5))\n",
    "y = np.random.randint(0,2, 25)"
   ]
  },
  {
   "cell_type": "code",
   "execution_count": 4,
   "id": "91e14eea",
   "metadata": {
    "scrolled": true
   },
   "outputs": [
    {
     "data": {
      "text/plain": [
       "array([[0.14869192, 0.36427075, 0.75154681, 0.85418076, 0.03432747],\n",
       "       [0.40102791, 0.93565146, 0.79046967, 0.04325783, 0.32366298],\n",
       "       [0.138025  , 0.61011386, 0.86977081, 0.56496874, 0.184947  ],\n",
       "       [0.59323392, 0.99120483, 0.48661067, 0.80816433, 0.32977361],\n",
       "       [0.66447462, 0.75692268, 0.35170107, 0.97821684, 0.08936426],\n",
       "       [0.11678697, 0.6142875 , 0.16662665, 0.30063873, 0.30257826],\n",
       "       [0.94712484, 0.8823624 , 0.97793184, 0.06372589, 0.44282901],\n",
       "       [0.54298167, 0.05450662, 0.84942997, 0.42792844, 0.27291275],\n",
       "       [0.5849535 , 0.44684719, 0.72246909, 0.16864769, 0.85791233],\n",
       "       [0.94565995, 0.16114398, 0.18449428, 0.54197017, 0.41357566],\n",
       "       [0.69771407, 0.52847989, 0.86402489, 0.31343222, 0.73820087],\n",
       "       [0.79431031, 0.42433555, 0.42457133, 0.71131801, 0.99021526],\n",
       "       [0.3830534 , 0.10561911, 0.43782284, 0.77413362, 0.3126585 ],\n",
       "       [0.76484157, 0.56667791, 0.89883868, 0.42869063, 0.48448471],\n",
       "       [0.13341248, 0.4513049 , 0.63547103, 0.99056682, 0.74354933],\n",
       "       [0.06770634, 0.67013235, 0.26337517, 0.45740617, 0.80447901],\n",
       "       [0.11882458, 0.9636497 , 0.82672401, 0.29261784, 0.19905556],\n",
       "       [0.8266355 , 0.33112462, 0.30767221, 0.56232586, 0.5701793 ],\n",
       "       [0.22617722, 0.02417961, 0.27721789, 0.45783454, 0.20813853],\n",
       "       [0.02667749, 0.24541057, 0.33105287, 0.5462093 , 0.30801778],\n",
       "       [0.15988924, 0.02624851, 0.82445025, 0.7803876 , 0.96655427],\n",
       "       [0.72448108, 0.56274043, 0.27171631, 0.60226782, 0.51334882],\n",
       "       [0.41726003, 0.07277155, 0.63909051, 0.13988117, 0.09903773],\n",
       "       [0.01301516, 0.54407121, 0.54624287, 0.15937646, 0.6054837 ],\n",
       "       [0.96470948, 0.94660345, 0.4893418 , 0.50397306, 0.26586533]])"
      ]
     },
     "execution_count": 4,
     "metadata": {},
     "output_type": "execute_result"
    }
   ],
   "source": [
    "X"
   ]
  },
  {
   "cell_type": "code",
   "execution_count": 5,
   "id": "05dcb3dd",
   "metadata": {},
   "outputs": [
    {
     "data": {
      "text/plain": [
       "array([0, 1, 1, 0, 1, 1, 1, 0, 1, 1, 1, 1, 0, 0, 0, 0, 1, 1, 1, 1, 0, 1,\n",
       "       1, 0, 0])"
      ]
     },
     "execution_count": 5,
     "metadata": {},
     "output_type": "execute_result"
    }
   ],
   "source": [
    "y"
   ]
  },
  {
   "cell_type": "code",
   "execution_count": 7,
   "id": "cc5137fd",
   "metadata": {},
   "outputs": [
    {
     "name": "stdout",
     "output_type": "stream",
     "text": [
      "[ 5  6  7  8  9 10 11 12 13 14 15 16 17 18 19 20 21 22 23 24] [0 1 2 3 4]\n",
      "[ 0  1  2  3  4 10 11 12 13 14 15 16 17 18 19 20 21 22 23 24] [5 6 7 8 9]\n",
      "[ 0  1  2  3  4  5  6  7  8  9 15 16 17 18 19 20 21 22 23 24] [10 11 12 13 14]\n",
      "[ 0  1  2  3  4  5  6  7  8  9 10 11 12 13 14 20 21 22 23 24] [15 16 17 18 19]\n",
      "[ 0  1  2  3  4  5  6  7  8  9 10 11 12 13 14 15 16 17 18 19] [20 21 22 23 24]\n"
     ]
    }
   ],
   "source": [
    "kf = KFold(n_splits=5)\n",
    "for train_index, test_index in kf.split(X):\n",
    "    print(train_index, test_index)"
   ]
  },
  {
   "cell_type": "markdown",
   "id": "1dc9ee31",
   "metadata": {},
   "source": [
    "### Stratified K folds\n",
    "Every fold has equal proportion(ratio) of classes present in dataset"
   ]
  },
  {
   "cell_type": "code",
   "execution_count": 10,
   "id": "5c498918",
   "metadata": {},
   "outputs": [],
   "source": [
    "from sklearn.model_selection import StratifiedKFold"
   ]
  },
  {
   "cell_type": "code",
   "execution_count": 11,
   "id": "dafcc2fe",
   "metadata": {},
   "outputs": [],
   "source": [
    "X = np.array([[1, 2], [3, 4], [1, 2], [3, 4], [5, 6], [7, 8],])\n",
    "y = np.array([0, 0, 1, 1, 1, 1])"
   ]
  },
  {
   "cell_type": "code",
   "execution_count": 16,
   "id": "867cb8f4",
   "metadata": {},
   "outputs": [
    {
     "name": "stdout",
     "output_type": "stream",
     "text": [
      "[1 4 5] [0 2 3]\n",
      "[0 2 3] [1 4 5]\n"
     ]
    }
   ],
   "source": [
    "skf = StratifiedKFold(n_splits=2)\n",
    "for  (train_index, test_index) in skf.split(X, y):\n",
    "    print(train_index, test_index)   # here every fold has class ratio as 1:2"
   ]
  },
  {
   "cell_type": "code",
   "execution_count": 17,
   "id": "cfd78e1f",
   "metadata": {},
   "outputs": [
    {
     "name": "stdout",
     "output_type": "stream",
     "text": [
      "[3 4 5] [0 1 2]\n",
      "[0 1 2] [3 4 5]\n"
     ]
    }
   ],
   "source": [
    "kf = KFold(n_splits=2)\n",
    "for train_index, test_index in kf.split(X):\n",
    "    print(train_index, test_index)   # here every fold has different class ratio"
   ]
  },
  {
   "cell_type": "code",
   "execution_count": 19,
   "id": "e8a73dc9",
   "metadata": {},
   "outputs": [],
   "source": [
    "from sklearn import linear_model\n",
    "from sklearn import datasets\n",
    "from sklearn import preprocessing\n",
    "  \n",
    "# FEATCHING FEATURES AND TARGET VARIABLES IN ARRAY FORMAT.\n",
    "cancer = datasets.load_breast_cancer()\n",
    "# Input_x_Features.\n",
    "x = cancer.data                        \n",
    " \n",
    "# Input_ y_Target_Variable.\n",
    "y = cancer.target                      \n",
    "   \n",
    "\n",
    "# Feature Scaling for input features.\n",
    "scaler = preprocessing.MinMaxScaler()\n",
    "x_scaled = scaler.fit_transform(x)\n",
    "  \n",
    "# Create  classifier object.\n",
    "lr = linear_model.LogisticRegression()\n",
    "  \n",
    "# Create StratifiedKFold object.\n",
    "skf = StratifiedKFold(n_splits=10, shuffle=True, random_state=1)\n",
    "lst_accu_stratified = []\n",
    "  \n",
    "for train_index, test_index in skf.split(x, y):\n",
    "    x_train_fold, x_test_fold = x_scaled[train_index], x_scaled[test_index]\n",
    "    y_train_fold, y_test_fold = y[train_index], y[test_index]\n",
    "    lr.fit(x_train_fold, y_train_fold)\n",
    "    lst_accu_stratified.append(lr.score(x_test_fold, y_test_fold))"
   ]
  },
  {
   "cell_type": "code",
   "execution_count": 20,
   "id": "1eb930b5",
   "metadata": {
    "scrolled": true
   },
   "outputs": [
    {
     "data": {
      "text/plain": [
       "[0.9298245614035088,\n",
       " 0.9649122807017544,\n",
       " 0.9824561403508771,\n",
       " 1.0,\n",
       " 0.9649122807017544,\n",
       " 0.9649122807017544,\n",
       " 0.9824561403508771,\n",
       " 0.9473684210526315,\n",
       " 0.9473684210526315,\n",
       " 0.9821428571428571]"
      ]
     },
     "execution_count": 20,
     "metadata": {},
     "output_type": "execute_result"
    }
   ],
   "source": [
    "lst_accu_stratified"
   ]
  },
  {
   "cell_type": "code",
   "execution_count": 21,
   "id": "8fe74e84",
   "metadata": {},
   "outputs": [
    {
     "data": {
      "text/plain": [
       "0.9666353383458647"
      ]
     },
     "execution_count": 21,
     "metadata": {},
     "output_type": "execute_result"
    }
   ],
   "source": [
    "sum(lst_accu_stratified)/len(lst_accu_stratified) # avg score"
   ]
  },
  {
   "cell_type": "markdown",
   "id": "d83b2cef",
   "metadata": {},
   "source": [
    "### cross_val_score()"
   ]
  },
  {
   "cell_type": "code",
   "execution_count": 22,
   "id": "446d48a1",
   "metadata": {},
   "outputs": [
    {
     "name": "stdout",
     "output_type": "stream",
     "text": [
      "[0.33150734 0.08022311 0.03531764]\n"
     ]
    }
   ],
   "source": [
    "from sklearn import datasets, linear_model\n",
    "from sklearn.model_selection import cross_val_score\n",
    "diabetes = datasets.load_diabetes()\n",
    "X = diabetes.data[:150]\n",
    "y = diabetes.target[:150]\n",
    "lasso = linear_model.Lasso()\n",
    "print(cross_val_score(lasso, X, y, cv=3))"
   ]
  },
  {
   "cell_type": "code",
   "execution_count": 35,
   "id": "4f438def",
   "metadata": {
    "scrolled": true
   },
   "outputs": [
    {
     "name": "stderr",
     "output_type": "stream",
     "text": [
      "d:\\Users\\DELL PC\\AppData\\Local\\Programs\\Python\\Python39\\lib\\site-packages\\sklearn\\linear_model\\_logistic.py:763: ConvergenceWarning: lbfgs failed to converge (status=1):\n",
      "STOP: TOTAL NO. of ITERATIONS REACHED LIMIT.\n",
      "\n",
      "Increase the number of iterations (max_iter) or scale the data as shown in:\n",
      "    https://scikit-learn.org/stable/modules/preprocessing.html\n",
      "Please also refer to the documentation for alternative solver options:\n",
      "    https://scikit-learn.org/stable/modules/linear_model.html#logistic-regression\n",
      "  n_iter_i = _check_optimize_result(\n",
      "d:\\Users\\DELL PC\\AppData\\Local\\Programs\\Python\\Python39\\lib\\site-packages\\sklearn\\linear_model\\_logistic.py:763: ConvergenceWarning: lbfgs failed to converge (status=1):\n",
      "STOP: TOTAL NO. of ITERATIONS REACHED LIMIT.\n",
      "\n",
      "Increase the number of iterations (max_iter) or scale the data as shown in:\n",
      "    https://scikit-learn.org/stable/modules/preprocessing.html\n",
      "Please also refer to the documentation for alternative solver options:\n",
      "    https://scikit-learn.org/stable/modules/linear_model.html#logistic-regression\n",
      "  n_iter_i = _check_optimize_result(\n",
      "d:\\Users\\DELL PC\\AppData\\Local\\Programs\\Python\\Python39\\lib\\site-packages\\sklearn\\linear_model\\_logistic.py:763: ConvergenceWarning: lbfgs failed to converge (status=1):\n",
      "STOP: TOTAL NO. of ITERATIONS REACHED LIMIT.\n",
      "\n",
      "Increase the number of iterations (max_iter) or scale the data as shown in:\n",
      "    https://scikit-learn.org/stable/modules/preprocessing.html\n",
      "Please also refer to the documentation for alternative solver options:\n",
      "    https://scikit-learn.org/stable/modules/linear_model.html#logistic-regression\n",
      "  n_iter_i = _check_optimize_result(\n",
      "d:\\Users\\DELL PC\\AppData\\Local\\Programs\\Python\\Python39\\lib\\site-packages\\sklearn\\linear_model\\_logistic.py:763: ConvergenceWarning: lbfgs failed to converge (status=1):\n",
      "STOP: TOTAL NO. of ITERATIONS REACHED LIMIT.\n",
      "\n",
      "Increase the number of iterations (max_iter) or scale the data as shown in:\n",
      "    https://scikit-learn.org/stable/modules/preprocessing.html\n",
      "Please also refer to the documentation for alternative solver options:\n",
      "    https://scikit-learn.org/stable/modules/linear_model.html#logistic-regression\n",
      "  n_iter_i = _check_optimize_result(\n",
      "d:\\Users\\DELL PC\\AppData\\Local\\Programs\\Python\\Python39\\lib\\site-packages\\sklearn\\linear_model\\_logistic.py:763: ConvergenceWarning: lbfgs failed to converge (status=1):\n",
      "STOP: TOTAL NO. of ITERATIONS REACHED LIMIT.\n",
      "\n",
      "Increase the number of iterations (max_iter) or scale the data as shown in:\n",
      "    https://scikit-learn.org/stable/modules/preprocessing.html\n",
      "Please also refer to the documentation for alternative solver options:\n",
      "    https://scikit-learn.org/stable/modules/linear_model.html#logistic-regression\n",
      "  n_iter_i = _check_optimize_result(\n"
     ]
    },
    {
     "data": {
      "text/plain": [
       "array([0.93859649, 0.93859649, 0.95614035, 0.94736842, 0.95575221])"
      ]
     },
     "execution_count": 35,
     "metadata": {},
     "output_type": "execute_result"
    }
   ],
   "source": [
    "cancer = datasets.load_breast_cancer()\n",
    "x = cancer.data\n",
    "y = cancer.target \n",
    "\n",
    "scaler = preprocessing.MinMaxScaler()\n",
    "x_scaled = scaler.fit_transform(x)\n",
    "\n",
    "lr = linear_model.LogisticRegression()\n",
    "cross_val_score(lr, x, y, cv=5)"
   ]
  },
  {
   "cell_type": "code",
   "execution_count": null,
   "id": "8c768915",
   "metadata": {},
   "outputs": [],
   "source": []
  }
 ],
 "metadata": {
  "kernelspec": {
   "display_name": "Python 3 (ipykernel)",
   "language": "python",
   "name": "python3"
  },
  "language_info": {
   "codemirror_mode": {
    "name": "ipython",
    "version": 3
   },
   "file_extension": ".py",
   "mimetype": "text/x-python",
   "name": "python",
   "nbconvert_exporter": "python",
   "pygments_lexer": "ipython3",
   "version": "3.9.0"
  }
 },
 "nbformat": 4,
 "nbformat_minor": 5
}
