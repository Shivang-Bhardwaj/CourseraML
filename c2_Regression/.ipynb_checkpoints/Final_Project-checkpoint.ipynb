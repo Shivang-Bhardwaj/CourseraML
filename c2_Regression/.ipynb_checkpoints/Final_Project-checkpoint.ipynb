{
 "cells": [
  {
   "cell_type": "code",
   "execution_count": 1,
   "id": "821c367f",
   "metadata": {},
   "outputs": [],
   "source": [
    "# Surpress warnings:\n",
    "def warn(*args, **kwargs):\n",
    "    pass\n",
    "import warnings\n",
    "warnings.warn = warn"
   ]
  },
  {
   "cell_type": "code",
   "execution_count": 2,
   "id": "0d463110",
   "metadata": {},
   "outputs": [],
   "source": [
    "import numpy as np\n",
    "import pandas as pd\n",
    "\n",
    "import matplotlib.pyplot as plt\n",
    "%matplotlib inline"
   ]
  },
  {
   "cell_type": "markdown",
   "id": "3420b840",
   "metadata": {},
   "source": [
    "### Importing data"
   ]
  },
  {
   "cell_type": "code",
   "execution_count": 3,
   "id": "862d5129",
   "metadata": {},
   "outputs": [
    {
     "data": {
      "text/html": [
       "<div>\n",
       "<style scoped>\n",
       "    .dataframe tbody tr th:only-of-type {\n",
       "        vertical-align: middle;\n",
       "    }\n",
       "\n",
       "    .dataframe tbody tr th {\n",
       "        vertical-align: top;\n",
       "    }\n",
       "\n",
       "    .dataframe thead th {\n",
       "        text-align: right;\n",
       "    }\n",
       "</style>\n",
       "<table border=\"1\" class=\"dataframe\">\n",
       "  <thead>\n",
       "    <tr style=\"text-align: right;\">\n",
       "      <th></th>\n",
       "      <th>car_ID</th>\n",
       "      <th>symboling</th>\n",
       "      <th>CarName</th>\n",
       "      <th>fueltype</th>\n",
       "      <th>aspiration</th>\n",
       "      <th>doornumber</th>\n",
       "      <th>carbody</th>\n",
       "      <th>drivewheel</th>\n",
       "      <th>enginelocation</th>\n",
       "      <th>wheelbase</th>\n",
       "      <th>...</th>\n",
       "      <th>enginesize</th>\n",
       "      <th>fuelsystem</th>\n",
       "      <th>boreratio</th>\n",
       "      <th>stroke</th>\n",
       "      <th>compressionratio</th>\n",
       "      <th>horsepower</th>\n",
       "      <th>peakrpm</th>\n",
       "      <th>citympg</th>\n",
       "      <th>highwaympg</th>\n",
       "      <th>price</th>\n",
       "    </tr>\n",
       "  </thead>\n",
       "  <tbody>\n",
       "    <tr>\n",
       "      <th>0</th>\n",
       "      <td>1</td>\n",
       "      <td>3</td>\n",
       "      <td>alfa-romero giulia</td>\n",
       "      <td>gas</td>\n",
       "      <td>std</td>\n",
       "      <td>two</td>\n",
       "      <td>convertible</td>\n",
       "      <td>rwd</td>\n",
       "      <td>front</td>\n",
       "      <td>88.6</td>\n",
       "      <td>...</td>\n",
       "      <td>130</td>\n",
       "      <td>mpfi</td>\n",
       "      <td>3.47</td>\n",
       "      <td>2.68</td>\n",
       "      <td>9.0</td>\n",
       "      <td>111</td>\n",
       "      <td>5000</td>\n",
       "      <td>21</td>\n",
       "      <td>27</td>\n",
       "      <td>13495.0</td>\n",
       "    </tr>\n",
       "    <tr>\n",
       "      <th>1</th>\n",
       "      <td>2</td>\n",
       "      <td>3</td>\n",
       "      <td>alfa-romero stelvio</td>\n",
       "      <td>gas</td>\n",
       "      <td>std</td>\n",
       "      <td>two</td>\n",
       "      <td>convertible</td>\n",
       "      <td>rwd</td>\n",
       "      <td>front</td>\n",
       "      <td>88.6</td>\n",
       "      <td>...</td>\n",
       "      <td>130</td>\n",
       "      <td>mpfi</td>\n",
       "      <td>3.47</td>\n",
       "      <td>2.68</td>\n",
       "      <td>9.0</td>\n",
       "      <td>111</td>\n",
       "      <td>5000</td>\n",
       "      <td>21</td>\n",
       "      <td>27</td>\n",
       "      <td>16500.0</td>\n",
       "    </tr>\n",
       "    <tr>\n",
       "      <th>2</th>\n",
       "      <td>3</td>\n",
       "      <td>1</td>\n",
       "      <td>alfa-romero Quadrifoglio</td>\n",
       "      <td>gas</td>\n",
       "      <td>std</td>\n",
       "      <td>two</td>\n",
       "      <td>hatchback</td>\n",
       "      <td>rwd</td>\n",
       "      <td>front</td>\n",
       "      <td>94.5</td>\n",
       "      <td>...</td>\n",
       "      <td>152</td>\n",
       "      <td>mpfi</td>\n",
       "      <td>2.68</td>\n",
       "      <td>3.47</td>\n",
       "      <td>9.0</td>\n",
       "      <td>154</td>\n",
       "      <td>5000</td>\n",
       "      <td>19</td>\n",
       "      <td>26</td>\n",
       "      <td>16500.0</td>\n",
       "    </tr>\n",
       "    <tr>\n",
       "      <th>3</th>\n",
       "      <td>4</td>\n",
       "      <td>2</td>\n",
       "      <td>audi 100 ls</td>\n",
       "      <td>gas</td>\n",
       "      <td>std</td>\n",
       "      <td>four</td>\n",
       "      <td>sedan</td>\n",
       "      <td>fwd</td>\n",
       "      <td>front</td>\n",
       "      <td>99.8</td>\n",
       "      <td>...</td>\n",
       "      <td>109</td>\n",
       "      <td>mpfi</td>\n",
       "      <td>3.19</td>\n",
       "      <td>3.40</td>\n",
       "      <td>10.0</td>\n",
       "      <td>102</td>\n",
       "      <td>5500</td>\n",
       "      <td>24</td>\n",
       "      <td>30</td>\n",
       "      <td>13950.0</td>\n",
       "    </tr>\n",
       "    <tr>\n",
       "      <th>4</th>\n",
       "      <td>5</td>\n",
       "      <td>2</td>\n",
       "      <td>audi 100ls</td>\n",
       "      <td>gas</td>\n",
       "      <td>std</td>\n",
       "      <td>four</td>\n",
       "      <td>sedan</td>\n",
       "      <td>4wd</td>\n",
       "      <td>front</td>\n",
       "      <td>99.4</td>\n",
       "      <td>...</td>\n",
       "      <td>136</td>\n",
       "      <td>mpfi</td>\n",
       "      <td>3.19</td>\n",
       "      <td>3.40</td>\n",
       "      <td>8.0</td>\n",
       "      <td>115</td>\n",
       "      <td>5500</td>\n",
       "      <td>18</td>\n",
       "      <td>22</td>\n",
       "      <td>17450.0</td>\n",
       "    </tr>\n",
       "  </tbody>\n",
       "</table>\n",
       "<p>5 rows × 26 columns</p>\n",
       "</div>"
      ],
      "text/plain": [
       "   car_ID  symboling                   CarName fueltype aspiration doornumber  \\\n",
       "0       1          3        alfa-romero giulia      gas        std        two   \n",
       "1       2          3       alfa-romero stelvio      gas        std        two   \n",
       "2       3          1  alfa-romero Quadrifoglio      gas        std        two   \n",
       "3       4          2               audi 100 ls      gas        std       four   \n",
       "4       5          2                audi 100ls      gas        std       four   \n",
       "\n",
       "       carbody drivewheel enginelocation  wheelbase  ...  enginesize  \\\n",
       "0  convertible        rwd          front       88.6  ...         130   \n",
       "1  convertible        rwd          front       88.6  ...         130   \n",
       "2    hatchback        rwd          front       94.5  ...         152   \n",
       "3        sedan        fwd          front       99.8  ...         109   \n",
       "4        sedan        4wd          front       99.4  ...         136   \n",
       "\n",
       "   fuelsystem  boreratio  stroke compressionratio horsepower  peakrpm citympg  \\\n",
       "0        mpfi       3.47    2.68              9.0        111     5000      21   \n",
       "1        mpfi       3.47    2.68              9.0        111     5000      21   \n",
       "2        mpfi       2.68    3.47              9.0        154     5000      19   \n",
       "3        mpfi       3.19    3.40             10.0        102     5500      24   \n",
       "4        mpfi       3.19    3.40              8.0        115     5500      18   \n",
       "\n",
       "   highwaympg    price  \n",
       "0          27  13495.0  \n",
       "1          27  16500.0  \n",
       "2          26  16500.0  \n",
       "3          30  13950.0  \n",
       "4          22  17450.0  \n",
       "\n",
       "[5 rows x 26 columns]"
      ]
     },
     "execution_count": 3,
     "metadata": {},
     "output_type": "execute_result"
    }
   ],
   "source": [
    "df = pd.read_csv('https://cf-courses-data.s3.us.cloud-object-storage.appdomain.cloud/IBM-ML240EN-SkillsNetwork/labs/data/CarPrice_Assignment.csv')\n",
    "df.head()"
   ]
  },
  {
   "cell_type": "markdown",
   "id": "24c5de72",
   "metadata": {},
   "source": [
    "### About data & its cleansing"
   ]
  },
  {
   "cell_type": "code",
   "execution_count": 4,
   "id": "c5c3e100",
   "metadata": {},
   "outputs": [],
   "source": [
    "df2 = df.copy()"
   ]
  },
  {
   "cell_type": "code",
   "execution_count": 5,
   "id": "fed88bf8",
   "metadata": {},
   "outputs": [
    {
     "data": {
      "text/plain": [
       "(205, 26)"
      ]
     },
     "execution_count": 5,
     "metadata": {},
     "output_type": "execute_result"
    }
   ],
   "source": [
    "df2.shape"
   ]
  },
  {
   "cell_type": "code",
   "execution_count": 6,
   "id": "12ffa734",
   "metadata": {
    "scrolled": true
   },
   "outputs": [
    {
     "name": "stdout",
     "output_type": "stream",
     "text": [
      "<class 'pandas.core.frame.DataFrame'>\n",
      "RangeIndex: 205 entries, 0 to 204\n",
      "Data columns (total 26 columns):\n",
      " #   Column            Non-Null Count  Dtype  \n",
      "---  ------            --------------  -----  \n",
      " 0   car_ID            205 non-null    int64  \n",
      " 1   symboling         205 non-null    int64  \n",
      " 2   CarName           205 non-null    object \n",
      " 3   fueltype          205 non-null    object \n",
      " 4   aspiration        205 non-null    object \n",
      " 5   doornumber        205 non-null    object \n",
      " 6   carbody           205 non-null    object \n",
      " 7   drivewheel        205 non-null    object \n",
      " 8   enginelocation    205 non-null    object \n",
      " 9   wheelbase         205 non-null    float64\n",
      " 10  carlength         205 non-null    float64\n",
      " 11  carwidth          205 non-null    float64\n",
      " 12  carheight         205 non-null    float64\n",
      " 13  curbweight        205 non-null    int64  \n",
      " 14  enginetype        205 non-null    object \n",
      " 15  cylindernumber    205 non-null    object \n",
      " 16  enginesize        205 non-null    int64  \n",
      " 17  fuelsystem        205 non-null    object \n",
      " 18  boreratio         205 non-null    float64\n",
      " 19  stroke            205 non-null    float64\n",
      " 20  compressionratio  205 non-null    float64\n",
      " 21  horsepower        205 non-null    int64  \n",
      " 22  peakrpm           205 non-null    int64  \n",
      " 23  citympg           205 non-null    int64  \n",
      " 24  highwaympg        205 non-null    int64  \n",
      " 25  price             205 non-null    float64\n",
      "dtypes: float64(8), int64(8), object(10)\n",
      "memory usage: 41.8+ KB\n"
     ]
    }
   ],
   "source": [
    "df2.info()"
   ]
  },
  {
   "cell_type": "code",
   "execution_count": 7,
   "id": "49095d2f",
   "metadata": {},
   "outputs": [
    {
     "data": {
      "text/html": [
       "<div>\n",
       "<style scoped>\n",
       "    .dataframe tbody tr th:only-of-type {\n",
       "        vertical-align: middle;\n",
       "    }\n",
       "\n",
       "    .dataframe tbody tr th {\n",
       "        vertical-align: top;\n",
       "    }\n",
       "\n",
       "    .dataframe thead th {\n",
       "        text-align: right;\n",
       "    }\n",
       "</style>\n",
       "<table border=\"1\" class=\"dataframe\">\n",
       "  <thead>\n",
       "    <tr style=\"text-align: right;\">\n",
       "      <th></th>\n",
       "      <th>count</th>\n",
       "      <th>mean</th>\n",
       "      <th>std</th>\n",
       "      <th>min</th>\n",
       "      <th>25%</th>\n",
       "      <th>50%</th>\n",
       "      <th>75%</th>\n",
       "      <th>max</th>\n",
       "    </tr>\n",
       "  </thead>\n",
       "  <tbody>\n",
       "    <tr>\n",
       "      <th>car_ID</th>\n",
       "      <td>205.0</td>\n",
       "      <td>103.000000</td>\n",
       "      <td>59.322565</td>\n",
       "      <td>1.00</td>\n",
       "      <td>52.00</td>\n",
       "      <td>103.00</td>\n",
       "      <td>154.00</td>\n",
       "      <td>205.00</td>\n",
       "    </tr>\n",
       "    <tr>\n",
       "      <th>symboling</th>\n",
       "      <td>205.0</td>\n",
       "      <td>0.834146</td>\n",
       "      <td>1.245307</td>\n",
       "      <td>-2.00</td>\n",
       "      <td>0.00</td>\n",
       "      <td>1.00</td>\n",
       "      <td>2.00</td>\n",
       "      <td>3.00</td>\n",
       "    </tr>\n",
       "    <tr>\n",
       "      <th>wheelbase</th>\n",
       "      <td>205.0</td>\n",
       "      <td>98.756585</td>\n",
       "      <td>6.021776</td>\n",
       "      <td>86.60</td>\n",
       "      <td>94.50</td>\n",
       "      <td>97.00</td>\n",
       "      <td>102.40</td>\n",
       "      <td>120.90</td>\n",
       "    </tr>\n",
       "    <tr>\n",
       "      <th>carlength</th>\n",
       "      <td>205.0</td>\n",
       "      <td>174.049268</td>\n",
       "      <td>12.337289</td>\n",
       "      <td>141.10</td>\n",
       "      <td>166.30</td>\n",
       "      <td>173.20</td>\n",
       "      <td>183.10</td>\n",
       "      <td>208.10</td>\n",
       "    </tr>\n",
       "    <tr>\n",
       "      <th>carwidth</th>\n",
       "      <td>205.0</td>\n",
       "      <td>65.907805</td>\n",
       "      <td>2.145204</td>\n",
       "      <td>60.30</td>\n",
       "      <td>64.10</td>\n",
       "      <td>65.50</td>\n",
       "      <td>66.90</td>\n",
       "      <td>72.30</td>\n",
       "    </tr>\n",
       "    <tr>\n",
       "      <th>carheight</th>\n",
       "      <td>205.0</td>\n",
       "      <td>53.724878</td>\n",
       "      <td>2.443522</td>\n",
       "      <td>47.80</td>\n",
       "      <td>52.00</td>\n",
       "      <td>54.10</td>\n",
       "      <td>55.50</td>\n",
       "      <td>59.80</td>\n",
       "    </tr>\n",
       "    <tr>\n",
       "      <th>curbweight</th>\n",
       "      <td>205.0</td>\n",
       "      <td>2555.565854</td>\n",
       "      <td>520.680204</td>\n",
       "      <td>1488.00</td>\n",
       "      <td>2145.00</td>\n",
       "      <td>2414.00</td>\n",
       "      <td>2935.00</td>\n",
       "      <td>4066.00</td>\n",
       "    </tr>\n",
       "    <tr>\n",
       "      <th>enginesize</th>\n",
       "      <td>205.0</td>\n",
       "      <td>126.907317</td>\n",
       "      <td>41.642693</td>\n",
       "      <td>61.00</td>\n",
       "      <td>97.00</td>\n",
       "      <td>120.00</td>\n",
       "      <td>141.00</td>\n",
       "      <td>326.00</td>\n",
       "    </tr>\n",
       "    <tr>\n",
       "      <th>boreratio</th>\n",
       "      <td>205.0</td>\n",
       "      <td>3.329756</td>\n",
       "      <td>0.270844</td>\n",
       "      <td>2.54</td>\n",
       "      <td>3.15</td>\n",
       "      <td>3.31</td>\n",
       "      <td>3.58</td>\n",
       "      <td>3.94</td>\n",
       "    </tr>\n",
       "    <tr>\n",
       "      <th>stroke</th>\n",
       "      <td>205.0</td>\n",
       "      <td>3.255415</td>\n",
       "      <td>0.313597</td>\n",
       "      <td>2.07</td>\n",
       "      <td>3.11</td>\n",
       "      <td>3.29</td>\n",
       "      <td>3.41</td>\n",
       "      <td>4.17</td>\n",
       "    </tr>\n",
       "    <tr>\n",
       "      <th>compressionratio</th>\n",
       "      <td>205.0</td>\n",
       "      <td>10.142537</td>\n",
       "      <td>3.972040</td>\n",
       "      <td>7.00</td>\n",
       "      <td>8.60</td>\n",
       "      <td>9.00</td>\n",
       "      <td>9.40</td>\n",
       "      <td>23.00</td>\n",
       "    </tr>\n",
       "    <tr>\n",
       "      <th>horsepower</th>\n",
       "      <td>205.0</td>\n",
       "      <td>104.117073</td>\n",
       "      <td>39.544167</td>\n",
       "      <td>48.00</td>\n",
       "      <td>70.00</td>\n",
       "      <td>95.00</td>\n",
       "      <td>116.00</td>\n",
       "      <td>288.00</td>\n",
       "    </tr>\n",
       "    <tr>\n",
       "      <th>peakrpm</th>\n",
       "      <td>205.0</td>\n",
       "      <td>5125.121951</td>\n",
       "      <td>476.985643</td>\n",
       "      <td>4150.00</td>\n",
       "      <td>4800.00</td>\n",
       "      <td>5200.00</td>\n",
       "      <td>5500.00</td>\n",
       "      <td>6600.00</td>\n",
       "    </tr>\n",
       "    <tr>\n",
       "      <th>citympg</th>\n",
       "      <td>205.0</td>\n",
       "      <td>25.219512</td>\n",
       "      <td>6.542142</td>\n",
       "      <td>13.00</td>\n",
       "      <td>19.00</td>\n",
       "      <td>24.00</td>\n",
       "      <td>30.00</td>\n",
       "      <td>49.00</td>\n",
       "    </tr>\n",
       "    <tr>\n",
       "      <th>highwaympg</th>\n",
       "      <td>205.0</td>\n",
       "      <td>30.751220</td>\n",
       "      <td>6.886443</td>\n",
       "      <td>16.00</td>\n",
       "      <td>25.00</td>\n",
       "      <td>30.00</td>\n",
       "      <td>34.00</td>\n",
       "      <td>54.00</td>\n",
       "    </tr>\n",
       "    <tr>\n",
       "      <th>price</th>\n",
       "      <td>205.0</td>\n",
       "      <td>13276.710571</td>\n",
       "      <td>7988.852332</td>\n",
       "      <td>5118.00</td>\n",
       "      <td>7788.00</td>\n",
       "      <td>10295.00</td>\n",
       "      <td>16503.00</td>\n",
       "      <td>45400.00</td>\n",
       "    </tr>\n",
       "  </tbody>\n",
       "</table>\n",
       "</div>"
      ],
      "text/plain": [
       "                  count          mean          std      min      25%  \\\n",
       "car_ID            205.0    103.000000    59.322565     1.00    52.00   \n",
       "symboling         205.0      0.834146     1.245307    -2.00     0.00   \n",
       "wheelbase         205.0     98.756585     6.021776    86.60    94.50   \n",
       "carlength         205.0    174.049268    12.337289   141.10   166.30   \n",
       "carwidth          205.0     65.907805     2.145204    60.30    64.10   \n",
       "carheight         205.0     53.724878     2.443522    47.80    52.00   \n",
       "curbweight        205.0   2555.565854   520.680204  1488.00  2145.00   \n",
       "enginesize        205.0    126.907317    41.642693    61.00    97.00   \n",
       "boreratio         205.0      3.329756     0.270844     2.54     3.15   \n",
       "stroke            205.0      3.255415     0.313597     2.07     3.11   \n",
       "compressionratio  205.0     10.142537     3.972040     7.00     8.60   \n",
       "horsepower        205.0    104.117073    39.544167    48.00    70.00   \n",
       "peakrpm           205.0   5125.121951   476.985643  4150.00  4800.00   \n",
       "citympg           205.0     25.219512     6.542142    13.00    19.00   \n",
       "highwaympg        205.0     30.751220     6.886443    16.00    25.00   \n",
       "price             205.0  13276.710571  7988.852332  5118.00  7788.00   \n",
       "\n",
       "                       50%       75%       max  \n",
       "car_ID              103.00    154.00    205.00  \n",
       "symboling             1.00      2.00      3.00  \n",
       "wheelbase            97.00    102.40    120.90  \n",
       "carlength           173.20    183.10    208.10  \n",
       "carwidth             65.50     66.90     72.30  \n",
       "carheight            54.10     55.50     59.80  \n",
       "curbweight         2414.00   2935.00   4066.00  \n",
       "enginesize          120.00    141.00    326.00  \n",
       "boreratio             3.31      3.58      3.94  \n",
       "stroke                3.29      3.41      4.17  \n",
       "compressionratio      9.00      9.40     23.00  \n",
       "horsepower           95.00    116.00    288.00  \n",
       "peakrpm            5200.00   5500.00   6600.00  \n",
       "citympg              24.00     30.00     49.00  \n",
       "highwaympg           30.00     34.00     54.00  \n",
       "price             10295.00  16503.00  45400.00  "
      ]
     },
     "execution_count": 7,
     "metadata": {},
     "output_type": "execute_result"
    }
   ],
   "source": [
    "df2.describe().T"
   ]
  },
  {
   "cell_type": "code",
   "execution_count": 8,
   "id": "c6349c60",
   "metadata": {},
   "outputs": [
    {
     "data": {
      "text/plain": [
       "True"
      ]
     },
     "execution_count": 8,
     "metadata": {},
     "output_type": "execute_result"
    }
   ],
   "source": [
    "sum(df2.duplicated(subset=['car_ID'])) == 0"
   ]
  },
  {
   "cell_type": "markdown",
   "id": "4c7155c0",
   "metadata": {},
   "source": [
    "It implies that there is no duplicated rows in our dataset"
   ]
  },
  {
   "cell_type": "code",
   "execution_count": 9,
   "id": "728287a1",
   "metadata": {
    "scrolled": true
   },
   "outputs": [
    {
     "data": {
      "text/plain": [
       "car_ID              0\n",
       "symboling           0\n",
       "CarName             0\n",
       "fueltype            0\n",
       "aspiration          0\n",
       "doornumber          0\n",
       "carbody             0\n",
       "drivewheel          0\n",
       "enginelocation      0\n",
       "wheelbase           0\n",
       "carlength           0\n",
       "carwidth            0\n",
       "carheight           0\n",
       "curbweight          0\n",
       "enginetype          0\n",
       "cylindernumber      0\n",
       "enginesize          0\n",
       "fuelsystem          0\n",
       "boreratio           0\n",
       "stroke              0\n",
       "compressionratio    0\n",
       "horsepower          0\n",
       "peakrpm             0\n",
       "citympg             0\n",
       "highwaympg          0\n",
       "price               0\n",
       "dtype: int64"
      ]
     },
     "execution_count": 9,
     "metadata": {},
     "output_type": "execute_result"
    }
   ],
   "source": [
    "df2.isnull().sum()"
   ]
  },
  {
   "cell_type": "markdown",
   "id": "a0634f78",
   "metadata": {},
   "source": [
    "It implies there is no 'null' values in our dataset"
   ]
  },
  {
   "cell_type": "markdown",
   "id": "529cf5a8",
   "metadata": {},
   "source": [
    "### Preparing data for model training"
   ]
  },
  {
   "cell_type": "code",
   "execution_count": 10,
   "id": "d9b79567",
   "metadata": {},
   "outputs": [
    {
     "data": {
      "text/plain": [
       "Index(['CarName', 'fueltype', 'aspiration', 'doornumber', 'carbody',\n",
       "       'drivewheel', 'enginelocation', 'enginetype', 'cylindernumber',\n",
       "       'fuelsystem'],\n",
       "      dtype='object')"
      ]
     },
     "execution_count": 10,
     "metadata": {},
     "output_type": "execute_result"
    }
   ],
   "source": [
    "cat_vals = df2.select_dtypes(include=['object']).columns\n",
    "cat_vals"
   ]
  },
  {
   "cell_type": "code",
   "execution_count": 11,
   "id": "a00a28b6",
   "metadata": {
    "scrolled": true
   },
   "outputs": [
    {
     "data": {
      "text/plain": [
       "array(['alfa-romero giulia', 'alfa-romero stelvio',\n",
       "       'alfa-romero Quadrifoglio', 'audi 100 ls', 'audi 100ls',\n",
       "       'audi fox', 'audi 5000', 'audi 4000', 'audi 5000s (diesel)',\n",
       "       'bmw 320i', 'bmw x1', 'bmw x3', 'bmw z4', 'bmw x4', 'bmw x5',\n",
       "       'chevrolet impala', 'chevrolet monte carlo', 'chevrolet vega 2300',\n",
       "       'dodge rampage', 'dodge challenger se', 'dodge d200',\n",
       "       'dodge monaco (sw)', 'dodge colt hardtop', 'dodge colt (sw)',\n",
       "       'dodge coronet custom', 'dodge dart custom',\n",
       "       'dodge coronet custom (sw)', 'honda civic', 'honda civic cvcc',\n",
       "       'honda accord cvcc', 'honda accord lx', 'honda civic 1500 gl',\n",
       "       'honda accord', 'honda civic 1300', 'honda prelude',\n",
       "       'honda civic (auto)', 'isuzu MU-X', 'isuzu D-Max ',\n",
       "       'isuzu D-Max V-Cross', 'jaguar xj', 'jaguar xf', 'jaguar xk',\n",
       "       'maxda rx3', 'maxda glc deluxe', 'mazda rx2 coupe', 'mazda rx-4',\n",
       "       'mazda glc deluxe', 'mazda 626', 'mazda glc', 'mazda rx-7 gs',\n",
       "       'mazda glc 4', 'mazda glc custom l', 'mazda glc custom',\n",
       "       'buick electra 225 custom', 'buick century luxus (sw)',\n",
       "       'buick century', 'buick skyhawk', 'buick opel isuzu deluxe',\n",
       "       'buick skylark', 'buick century special',\n",
       "       'buick regal sport coupe (turbo)', 'mercury cougar',\n",
       "       'mitsubishi mirage', 'mitsubishi lancer', 'mitsubishi outlander',\n",
       "       'mitsubishi g4', 'mitsubishi mirage g4', 'mitsubishi montero',\n",
       "       'mitsubishi pajero', 'Nissan versa', 'nissan gt-r', 'nissan rogue',\n",
       "       'nissan latio', 'nissan titan', 'nissan leaf', 'nissan juke',\n",
       "       'nissan note', 'nissan clipper', 'nissan nv200', 'nissan dayz',\n",
       "       'nissan fuga', 'nissan otti', 'nissan teana', 'nissan kicks',\n",
       "       'peugeot 504', 'peugeot 304', 'peugeot 504 (sw)', 'peugeot 604sl',\n",
       "       'peugeot 505s turbo diesel', 'plymouth fury iii',\n",
       "       'plymouth cricket', 'plymouth satellite custom (sw)',\n",
       "       'plymouth fury gran sedan', 'plymouth valiant', 'plymouth duster',\n",
       "       'porsche macan', 'porcshce panamera', 'porsche cayenne',\n",
       "       'porsche boxter', 'renault 12tl', 'renault 5 gtl', 'saab 99e',\n",
       "       'saab 99le', 'saab 99gle', 'subaru', 'subaru dl', 'subaru brz',\n",
       "       'subaru baja', 'subaru r1', 'subaru r2', 'subaru trezia',\n",
       "       'subaru tribeca', 'toyota corona mark ii', 'toyota corona',\n",
       "       'toyota corolla 1200', 'toyota corona hardtop',\n",
       "       'toyota corolla 1600 (sw)', 'toyota carina', 'toyota mark ii',\n",
       "       'toyota corolla', 'toyota corolla liftback',\n",
       "       'toyota celica gt liftback', 'toyota corolla tercel',\n",
       "       'toyota corona liftback', 'toyota starlet', 'toyota tercel',\n",
       "       'toyota cressida', 'toyota celica gt', 'toyouta tercel',\n",
       "       'vokswagen rabbit', 'volkswagen 1131 deluxe sedan',\n",
       "       'volkswagen model 111', 'volkswagen type 3', 'volkswagen 411 (sw)',\n",
       "       'volkswagen super beetle', 'volkswagen dasher', 'vw dasher',\n",
       "       'vw rabbit', 'volkswagen rabbit', 'volkswagen rabbit custom',\n",
       "       'volvo 145e (sw)', 'volvo 144ea', 'volvo 244dl', 'volvo 245',\n",
       "       'volvo 264gl', 'volvo diesel', 'volvo 246'], dtype=object)"
      ]
     },
     "execution_count": 11,
     "metadata": {},
     "output_type": "execute_result"
    }
   ],
   "source": [
    "df2.CarName.unique()"
   ]
  },
  {
   "cell_type": "code",
   "execution_count": 12,
   "id": "579b97ed",
   "metadata": {},
   "outputs": [
    {
     "data": {
      "text/plain": [
       "array(['alfa-romero', 'audi', 'bmw', 'chevrolet', 'dodge', 'honda',\n",
       "       'isuzu', 'jaguar', 'maxda', 'mazda', 'buick', 'mercury',\n",
       "       'mitsubishi', 'nissan', 'peugeot', 'plymouth', 'porsche',\n",
       "       'porcshce', 'renault', 'saab', 'subaru', 'toyota', 'toyouta',\n",
       "       'vokswagen', 'volkswagen', 'vw', 'volvo'], dtype=object)"
      ]
     },
     "execution_count": 12,
     "metadata": {},
     "output_type": "execute_result"
    }
   ],
   "source": [
    "df2['brand'] = df2.CarName.str.split(' ').str.get(0).str.lower()\n",
    "df2.brand.unique()"
   ]
  },
  {
   "cell_type": "code",
   "execution_count": 13,
   "id": "db04b7c0",
   "metadata": {},
   "outputs": [
    {
     "data": {
      "text/plain": [
       "array(['alfa-romero', 'audi', 'bmw', 'chevrolet', 'dodge', 'honda',\n",
       "       'isuzu', 'jaguar', 'mazda', 'buick', 'mercury', 'mitsubishi',\n",
       "       'nissan', 'peugeot', 'plymouth', 'porsche', 'renault', 'saab',\n",
       "       'subaru', 'toyota', 'volkswagen', 'volvo'], dtype=object)"
      ]
     },
     "execution_count": 13,
     "metadata": {},
     "output_type": "execute_result"
    }
   ],
   "source": [
    "df2['brand'] = df2['brand'].replace(['vw', 'vokswagen'], 'volkswagen')\n",
    "df2['brand'] = df2['brand'].replace(['maxda'], 'mazda')\n",
    "df2['brand'] = df2['brand'].replace(['porcshce'], 'porsche')\n",
    "df2['brand'] = df2['brand'].replace(['toyouta'], 'toyota')\n",
    "\n",
    "df2.brand.unique()"
   ]
  },
  {
   "cell_type": "code",
   "execution_count": 14,
   "id": "e13ca686",
   "metadata": {
    "scrolled": true
   },
   "outputs": [
    {
     "name": "stdout",
     "output_type": "stream",
     "text": [
      "<class 'pandas.core.frame.DataFrame'>\n",
      "RangeIndex: 205 entries, 0 to 204\n",
      "Data columns (total 24 columns):\n",
      " #   Column            Non-Null Count  Dtype  \n",
      "---  ------            --------------  -----  \n",
      " 0   fueltype          205 non-null    object \n",
      " 1   aspiration        205 non-null    object \n",
      " 2   doornumber        205 non-null    object \n",
      " 3   carbody           205 non-null    object \n",
      " 4   drivewheel        205 non-null    object \n",
      " 5   enginelocation    205 non-null    object \n",
      " 6   wheelbase         205 non-null    float64\n",
      " 7   carlength         205 non-null    float64\n",
      " 8   carwidth          205 non-null    float64\n",
      " 9   carheight         205 non-null    float64\n",
      " 10  curbweight        205 non-null    int64  \n",
      " 11  enginetype        205 non-null    object \n",
      " 12  cylindernumber    205 non-null    object \n",
      " 13  enginesize        205 non-null    int64  \n",
      " 14  fuelsystem        205 non-null    object \n",
      " 15  boreratio         205 non-null    float64\n",
      " 16  stroke            205 non-null    float64\n",
      " 17  compressionratio  205 non-null    float64\n",
      " 18  horsepower        205 non-null    int64  \n",
      " 19  peakrpm           205 non-null    int64  \n",
      " 20  citympg           205 non-null    int64  \n",
      " 21  highwaympg        205 non-null    int64  \n",
      " 22  price             205 non-null    float64\n",
      " 23  brand             205 non-null    object \n",
      "dtypes: float64(8), int64(6), object(10)\n",
      "memory usage: 38.6+ KB\n"
     ]
    }
   ],
   "source": [
    "df2.drop(['car_ID', 'symboling', 'CarName'],axis = 1, inplace = True)\n",
    "df2.info()"
   ]
  },
  {
   "cell_type": "code",
   "execution_count": 15,
   "id": "a425f787",
   "metadata": {},
   "outputs": [
    {
     "data": {
      "text/plain": [
       "Index(['fueltype', 'aspiration', 'doornumber', 'carbody', 'drivewheel',\n",
       "       'enginelocation', 'enginetype', 'cylindernumber', 'fuelsystem',\n",
       "       'brand'],\n",
       "      dtype='object')"
      ]
     },
     "execution_count": 15,
     "metadata": {},
     "output_type": "execute_result"
    }
   ],
   "source": [
    "cat_vals = df2.select_dtypes(include=['object']).columns\n",
    "cat_vals"
   ]
  },
  {
   "cell_type": "code",
   "execution_count": 16,
   "id": "cefe5ee8",
   "metadata": {},
   "outputs": [
    {
     "name": "stdout",
     "output_type": "stream",
     "text": [
      "Unique values of fueltype:  ['gas' 'diesel']\n",
      "Unique values of aspiration:  ['std' 'turbo']\n",
      "Unique values of doornumber:  ['two' 'four']\n",
      "Unique values of carbody:  ['convertible' 'hatchback' 'sedan' 'wagon' 'hardtop']\n",
      "Unique values of drivewheel:  ['rwd' 'fwd' '4wd']\n",
      "Unique values of enginelocation:  ['front' 'rear']\n",
      "Unique values of enginetype:  ['dohc' 'ohcv' 'ohc' 'l' 'rotor' 'ohcf' 'dohcv']\n",
      "Unique values of cylindernumber:  ['four' 'six' 'five' 'three' 'twelve' 'two' 'eight']\n",
      "Unique values of fuelsystem:  ['mpfi' '2bbl' 'mfi' '1bbl' 'spfi' '4bbl' 'idi' 'spdi']\n",
      "Unique values of brand:  ['alfa-romero' 'audi' 'bmw' 'chevrolet' 'dodge' 'honda' 'isuzu' 'jaguar'\n",
      " 'mazda' 'buick' 'mercury' 'mitsubishi' 'nissan' 'peugeot' 'plymouth'\n",
      " 'porsche' 'renault' 'saab' 'subaru' 'toyota' 'volkswagen' 'volvo']\n"
     ]
    }
   ],
   "source": [
    "for cat_val in cat_vals:\n",
    "    print(f'Unique values of {cat_val}: ',df2[cat_val].unique())"
   ]
  },
  {
   "cell_type": "code",
   "execution_count": 17,
   "id": "d8052a75",
   "metadata": {},
   "outputs": [
    {
     "data": {
      "text/plain": [
       "(24, 10)"
      ]
     },
     "execution_count": 17,
     "metadata": {},
     "output_type": "execute_result"
    }
   ],
   "source": [
    "len(df2.columns), len(cat_vals)"
   ]
  },
  {
   "cell_type": "markdown",
   "id": "afd4b421",
   "metadata": {},
   "source": [
    "Now there are 10 categorical varaibles & 14 numeric varaibles"
   ]
  },
  {
   "cell_type": "code",
   "execution_count": 18,
   "id": "119b0806",
   "metadata": {},
   "outputs": [],
   "source": [
    "df2.doornumber.replace(['two', 'four'], [2, 4], inplace=True)\n",
    "df2.cylindernumber.replace(['two', 'three', 'four', 'five', 'six', 'eight', 'twelve'], [2,3,4,5,6,8,12], inplace=True)"
   ]
  },
  {
   "cell_type": "code",
   "execution_count": 19,
   "id": "382a350a",
   "metadata": {},
   "outputs": [
    {
     "name": "stdout",
     "output_type": "stream",
     "text": [
      "int64\n",
      "int64\n"
     ]
    }
   ],
   "source": [
    "print(df2.doornumber.dtype)\n",
    "print(df2.cylindernumber.dtype)"
   ]
  },
  {
   "cell_type": "code",
   "execution_count": 20,
   "id": "d07f58f5",
   "metadata": {},
   "outputs": [
    {
     "data": {
      "text/html": [
       "<div>\n",
       "<style scoped>\n",
       "    .dataframe tbody tr th:only-of-type {\n",
       "        vertical-align: middle;\n",
       "    }\n",
       "\n",
       "    .dataframe tbody tr th {\n",
       "        vertical-align: top;\n",
       "    }\n",
       "\n",
       "    .dataframe thead th {\n",
       "        text-align: right;\n",
       "    }\n",
       "</style>\n",
       "<table border=\"1\" class=\"dataframe\">\n",
       "  <thead>\n",
       "    <tr style=\"text-align: right;\">\n",
       "      <th></th>\n",
       "      <th>doornumber</th>\n",
       "      <th>wheelbase</th>\n",
       "      <th>carlength</th>\n",
       "      <th>carwidth</th>\n",
       "      <th>carheight</th>\n",
       "      <th>curbweight</th>\n",
       "      <th>cylindernumber</th>\n",
       "      <th>enginesize</th>\n",
       "      <th>boreratio</th>\n",
       "      <th>stroke</th>\n",
       "      <th>...</th>\n",
       "      <th>brand_nissan</th>\n",
       "      <th>brand_peugeot</th>\n",
       "      <th>brand_plymouth</th>\n",
       "      <th>brand_porsche</th>\n",
       "      <th>brand_renault</th>\n",
       "      <th>brand_saab</th>\n",
       "      <th>brand_subaru</th>\n",
       "      <th>brand_toyota</th>\n",
       "      <th>brand_volkswagen</th>\n",
       "      <th>brand_volvo</th>\n",
       "    </tr>\n",
       "  </thead>\n",
       "  <tbody>\n",
       "    <tr>\n",
       "      <th>0</th>\n",
       "      <td>2</td>\n",
       "      <td>88.6</td>\n",
       "      <td>168.8</td>\n",
       "      <td>64.1</td>\n",
       "      <td>48.8</td>\n",
       "      <td>2548</td>\n",
       "      <td>4</td>\n",
       "      <td>130</td>\n",
       "      <td>3.47</td>\n",
       "      <td>2.68</td>\n",
       "      <td>...</td>\n",
       "      <td>0</td>\n",
       "      <td>0</td>\n",
       "      <td>0</td>\n",
       "      <td>0</td>\n",
       "      <td>0</td>\n",
       "      <td>0</td>\n",
       "      <td>0</td>\n",
       "      <td>0</td>\n",
       "      <td>0</td>\n",
       "      <td>0</td>\n",
       "    </tr>\n",
       "    <tr>\n",
       "      <th>1</th>\n",
       "      <td>2</td>\n",
       "      <td>88.6</td>\n",
       "      <td>168.8</td>\n",
       "      <td>64.1</td>\n",
       "      <td>48.8</td>\n",
       "      <td>2548</td>\n",
       "      <td>4</td>\n",
       "      <td>130</td>\n",
       "      <td>3.47</td>\n",
       "      <td>2.68</td>\n",
       "      <td>...</td>\n",
       "      <td>0</td>\n",
       "      <td>0</td>\n",
       "      <td>0</td>\n",
       "      <td>0</td>\n",
       "      <td>0</td>\n",
       "      <td>0</td>\n",
       "      <td>0</td>\n",
       "      <td>0</td>\n",
       "      <td>0</td>\n",
       "      <td>0</td>\n",
       "    </tr>\n",
       "    <tr>\n",
       "      <th>2</th>\n",
       "      <td>2</td>\n",
       "      <td>94.5</td>\n",
       "      <td>171.2</td>\n",
       "      <td>65.5</td>\n",
       "      <td>52.4</td>\n",
       "      <td>2823</td>\n",
       "      <td>6</td>\n",
       "      <td>152</td>\n",
       "      <td>2.68</td>\n",
       "      <td>3.47</td>\n",
       "      <td>...</td>\n",
       "      <td>0</td>\n",
       "      <td>0</td>\n",
       "      <td>0</td>\n",
       "      <td>0</td>\n",
       "      <td>0</td>\n",
       "      <td>0</td>\n",
       "      <td>0</td>\n",
       "      <td>0</td>\n",
       "      <td>0</td>\n",
       "      <td>0</td>\n",
       "    </tr>\n",
       "    <tr>\n",
       "      <th>3</th>\n",
       "      <td>4</td>\n",
       "      <td>99.8</td>\n",
       "      <td>176.6</td>\n",
       "      <td>66.2</td>\n",
       "      <td>54.3</td>\n",
       "      <td>2337</td>\n",
       "      <td>4</td>\n",
       "      <td>109</td>\n",
       "      <td>3.19</td>\n",
       "      <td>3.40</td>\n",
       "      <td>...</td>\n",
       "      <td>0</td>\n",
       "      <td>0</td>\n",
       "      <td>0</td>\n",
       "      <td>0</td>\n",
       "      <td>0</td>\n",
       "      <td>0</td>\n",
       "      <td>0</td>\n",
       "      <td>0</td>\n",
       "      <td>0</td>\n",
       "      <td>0</td>\n",
       "    </tr>\n",
       "    <tr>\n",
       "      <th>4</th>\n",
       "      <td>4</td>\n",
       "      <td>99.4</td>\n",
       "      <td>176.6</td>\n",
       "      <td>66.4</td>\n",
       "      <td>54.3</td>\n",
       "      <td>2824</td>\n",
       "      <td>5</td>\n",
       "      <td>136</td>\n",
       "      <td>3.19</td>\n",
       "      <td>3.40</td>\n",
       "      <td>...</td>\n",
       "      <td>0</td>\n",
       "      <td>0</td>\n",
       "      <td>0</td>\n",
       "      <td>0</td>\n",
       "      <td>0</td>\n",
       "      <td>0</td>\n",
       "      <td>0</td>\n",
       "      <td>0</td>\n",
       "      <td>0</td>\n",
       "      <td>0</td>\n",
       "    </tr>\n",
       "  </tbody>\n",
       "</table>\n",
       "<p>5 rows × 59 columns</p>\n",
       "</div>"
      ],
      "text/plain": [
       "   doornumber  wheelbase  carlength  carwidth  carheight  curbweight  \\\n",
       "0           2       88.6      168.8      64.1       48.8        2548   \n",
       "1           2       88.6      168.8      64.1       48.8        2548   \n",
       "2           2       94.5      171.2      65.5       52.4        2823   \n",
       "3           4       99.8      176.6      66.2       54.3        2337   \n",
       "4           4       99.4      176.6      66.4       54.3        2824   \n",
       "\n",
       "   cylindernumber  enginesize  boreratio  stroke  ...  brand_nissan  \\\n",
       "0               4         130       3.47    2.68  ...             0   \n",
       "1               4         130       3.47    2.68  ...             0   \n",
       "2               6         152       2.68    3.47  ...             0   \n",
       "3               4         109       3.19    3.40  ...             0   \n",
       "4               5         136       3.19    3.40  ...             0   \n",
       "\n",
       "   brand_peugeot  brand_plymouth  brand_porsche  brand_renault  brand_saab  \\\n",
       "0              0               0              0              0           0   \n",
       "1              0               0              0              0           0   \n",
       "2              0               0              0              0           0   \n",
       "3              0               0              0              0           0   \n",
       "4              0               0              0              0           0   \n",
       "\n",
       "   brand_subaru  brand_toyota  brand_volkswagen  brand_volvo  \n",
       "0             0             0                 0            0  \n",
       "1             0             0                 0            0  \n",
       "2             0             0                 0            0  \n",
       "3             0             0                 0            0  \n",
       "4             0             0                 0            0  \n",
       "\n",
       "[5 rows x 59 columns]"
      ]
     },
     "execution_count": 20,
     "metadata": {},
     "output_type": "execute_result"
    }
   ],
   "source": [
    "df3 = pd.get_dummies(df2, drop_first=True)\n",
    "df3.head()"
   ]
  },
  {
   "cell_type": "code",
   "execution_count": 21,
   "id": "a70a820d",
   "metadata": {
    "scrolled": true
   },
   "outputs": [
    {
     "name": "stdout",
     "output_type": "stream",
     "text": [
      "<class 'pandas.core.frame.DataFrame'>\n",
      "RangeIndex: 205 entries, 0 to 204\n",
      "Data columns (total 59 columns):\n",
      " #   Column               Non-Null Count  Dtype  \n",
      "---  ------               --------------  -----  \n",
      " 0   doornumber           205 non-null    int64  \n",
      " 1   wheelbase            205 non-null    float64\n",
      " 2   carlength            205 non-null    float64\n",
      " 3   carwidth             205 non-null    float64\n",
      " 4   carheight            205 non-null    float64\n",
      " 5   curbweight           205 non-null    int64  \n",
      " 6   cylindernumber       205 non-null    int64  \n",
      " 7   enginesize           205 non-null    int64  \n",
      " 8   boreratio            205 non-null    float64\n",
      " 9   stroke               205 non-null    float64\n",
      " 10  compressionratio     205 non-null    float64\n",
      " 11  horsepower           205 non-null    int64  \n",
      " 12  peakrpm              205 non-null    int64  \n",
      " 13  citympg              205 non-null    int64  \n",
      " 14  highwaympg           205 non-null    int64  \n",
      " 15  price                205 non-null    float64\n",
      " 16  fueltype_gas         205 non-null    uint8  \n",
      " 17  aspiration_turbo     205 non-null    uint8  \n",
      " 18  carbody_hardtop      205 non-null    uint8  \n",
      " 19  carbody_hatchback    205 non-null    uint8  \n",
      " 20  carbody_sedan        205 non-null    uint8  \n",
      " 21  carbody_wagon        205 non-null    uint8  \n",
      " 22  drivewheel_fwd       205 non-null    uint8  \n",
      " 23  drivewheel_rwd       205 non-null    uint8  \n",
      " 24  enginelocation_rear  205 non-null    uint8  \n",
      " 25  enginetype_dohcv     205 non-null    uint8  \n",
      " 26  enginetype_l         205 non-null    uint8  \n",
      " 27  enginetype_ohc       205 non-null    uint8  \n",
      " 28  enginetype_ohcf      205 non-null    uint8  \n",
      " 29  enginetype_ohcv      205 non-null    uint8  \n",
      " 30  enginetype_rotor     205 non-null    uint8  \n",
      " 31  fuelsystem_2bbl      205 non-null    uint8  \n",
      " 32  fuelsystem_4bbl      205 non-null    uint8  \n",
      " 33  fuelsystem_idi       205 non-null    uint8  \n",
      " 34  fuelsystem_mfi       205 non-null    uint8  \n",
      " 35  fuelsystem_mpfi      205 non-null    uint8  \n",
      " 36  fuelsystem_spdi      205 non-null    uint8  \n",
      " 37  fuelsystem_spfi      205 non-null    uint8  \n",
      " 38  brand_audi           205 non-null    uint8  \n",
      " 39  brand_bmw            205 non-null    uint8  \n",
      " 40  brand_buick          205 non-null    uint8  \n",
      " 41  brand_chevrolet      205 non-null    uint8  \n",
      " 42  brand_dodge          205 non-null    uint8  \n",
      " 43  brand_honda          205 non-null    uint8  \n",
      " 44  brand_isuzu          205 non-null    uint8  \n",
      " 45  brand_jaguar         205 non-null    uint8  \n",
      " 46  brand_mazda          205 non-null    uint8  \n",
      " 47  brand_mercury        205 non-null    uint8  \n",
      " 48  brand_mitsubishi     205 non-null    uint8  \n",
      " 49  brand_nissan         205 non-null    uint8  \n",
      " 50  brand_peugeot        205 non-null    uint8  \n",
      " 51  brand_plymouth       205 non-null    uint8  \n",
      " 52  brand_porsche        205 non-null    uint8  \n",
      " 53  brand_renault        205 non-null    uint8  \n",
      " 54  brand_saab           205 non-null    uint8  \n",
      " 55  brand_subaru         205 non-null    uint8  \n",
      " 56  brand_toyota         205 non-null    uint8  \n",
      " 57  brand_volkswagen     205 non-null    uint8  \n",
      " 58  brand_volvo          205 non-null    uint8  \n",
      "dtypes: float64(8), int64(8), uint8(43)\n",
      "memory usage: 34.4 KB\n"
     ]
    }
   ],
   "source": [
    "df3.info()"
   ]
  },
  {
   "cell_type": "markdown",
   "id": "e6896909",
   "metadata": {},
   "source": [
    "Whole dataset is converted into numeric type"
   ]
  },
  {
   "cell_type": "code",
   "execution_count": 22,
   "id": "8d84263b",
   "metadata": {},
   "outputs": [
    {
     "data": {
      "text/plain": [
       "(205, 59)"
      ]
     },
     "execution_count": 22,
     "metadata": {},
     "output_type": "execute_result"
    }
   ],
   "source": [
    "df3.shape"
   ]
  },
  {
   "cell_type": "markdown",
   "id": "59d409f2",
   "metadata": {},
   "source": [
    "Now the data is fully prepared for use in model training"
   ]
  },
  {
   "cell_type": "markdown",
   "id": "997929cc",
   "metadata": {},
   "source": [
    "#### Main Objectives:\n",
    "1. To find best model for prediction\n",
    "2. How to see important features for outcome varaible 'y'\n",
    "3. How to solve the 'overfitting' problem"
   ]
  },
  {
   "cell_type": "markdown",
   "id": "d4f0fd02",
   "metadata": {},
   "source": [
    "### Linear Regression"
   ]
  },
  {
   "cell_type": "code",
   "execution_count": 23,
   "id": "b51e5019",
   "metadata": {},
   "outputs": [],
   "source": [
    "from sklearn.model_selection import train_test_split\n",
    "from sklearn.metrics import mean_squared_error, r2_score"
   ]
  },
  {
   "cell_type": "code",
   "execution_count": 24,
   "id": "4bf66e8a",
   "metadata": {},
   "outputs": [],
   "source": [
    "X = df3.drop('price', axis=1)\n",
    "y = df3.price.copy()"
   ]
  },
  {
   "cell_type": "code",
   "execution_count": 25,
   "id": "d5da2e54",
   "metadata": {},
   "outputs": [
    {
     "data": {
      "text/plain": [
       "((143, 58), (62, 58))"
      ]
     },
     "execution_count": 25,
     "metadata": {},
     "output_type": "execute_result"
    }
   ],
   "source": [
    "X_train, X_test, y_train, y_test = train_test_split(X, y, test_size=.3, random_state=58)\n",
    "X_train.shape, X_test.shape"
   ]
  },
  {
   "cell_type": "markdown",
   "id": "5559ed89",
   "metadata": {},
   "source": [
    "1. Now we will train our model without scaling our dataset"
   ]
  },
  {
   "cell_type": "code",
   "execution_count": 26,
   "id": "6fc1d166",
   "metadata": {},
   "outputs": [
    {
     "name": "stdout",
     "output_type": "stream",
     "text": [
      "R2 score: 0.8768917629882423\n",
      "RMSE:  2439.971501328129\n"
     ]
    }
   ],
   "source": [
    "from sklearn.linear_model import LinearRegression\n",
    "lr = LinearRegression()\n",
    "lr = lr.fit(X_train, y_train)\n",
    "r2 = r2_score(y_test, lr.predict(X_test))\n",
    "rmse = np.sqrt(mean_squared_error(y_test, lr.predict(X_test)))\n",
    "print('R2 score:', r2)\n",
    "print('RMSE: ', rmse)"
   ]
  },
  {
   "cell_type": "markdown",
   "id": "76a7904d",
   "metadata": {},
   "source": [
    "2. Now we will train our model after scaling the dataset"
   ]
  },
  {
   "cell_type": "code",
   "execution_count": 27,
   "id": "5cfb172b",
   "metadata": {},
   "outputs": [
    {
     "name": "stdout",
     "output_type": "stream",
     "text": [
      "R2 score: 0.8768917629882377\n",
      "RMSE:  2439.9715013281752\n"
     ]
    }
   ],
   "source": [
    "\n",
    "from sklearn.preprocessing import StandardScaler\n",
    "ss = StandardScaler()\n",
    "ss = ss.fit(X_train)\n",
    "X_train_sc = ss.transform(X_train)\n",
    "X_test_sc = ss.transform(X_test)\n",
    "\n",
    "lr = LinearRegression()\n",
    "lr = lr.fit(X_train_sc, y_train)\n",
    "r2 = r2_score(y_test, lr.predict(X_test_sc))\n",
    "rmse = np.sqrt(mean_squared_error(y_test, lr.predict(X_test_sc)))\n",
    "print('R2 score:', r2)\n",
    "print('RMSE: ', rmse)"
   ]
  },
  {
   "cell_type": "markdown",
   "id": "ee4218c8",
   "metadata": {},
   "source": [
    "##### Conclusion:\n",
    "This shows that scaling has no effect on Simple Linear Regression model"
   ]
  },
  {
   "cell_type": "code",
   "execution_count": 28,
   "id": "4ac0ef7c",
   "metadata": {},
   "outputs": [
    {
     "data": {
      "text/plain": [
       "Text(0, 0.5, 'columns')"
      ]
     },
     "execution_count": 28,
     "metadata": {},
     "output_type": "execute_result"
    },
    {
     "data": {
      "image/png": "[encoded data removed]",
      "text/plain": [
       "<Figure size 1152x864 with 1 Axes>"
      ]
     },
     "metadata": {
      "needs_background": "light"
     },
     "output_type": "display_data"
    }
   ],
   "source": [
    "plt.figure(figsize = (16, 12))\n",
    "plt.barh(X_train.columns, abs(lr.coef_))\n",
    "plt.xlabel('Feature importance')\n",
    "plt.ylabel(\"columns\")"
   ]
  },
  {
   "cell_type": "code",
   "execution_count": 29,
   "id": "cb1117ea",
   "metadata": {},
   "outputs": [
    {
     "name": "stdout",
     "output_type": "stream",
     "text": [
      "First 10 Important features for outcome variable 'y':\n"
     ]
    },
    {
     "data": {
      "text/plain": [
       "0           enginesize\n",
       "1            boreratio\n",
       "2       cylindernumber\n",
       "3     compressionratio\n",
       "4    carbody_hatchback\n",
       "5            brand_bmw\n",
       "6        carbody_sedan\n",
       "7             carwidth\n",
       "8        brand_peugeot\n",
       "9           curbweight\n",
       "Name: 1, dtype: object"
      ]
     },
     "execution_count": 29,
     "metadata": {},
     "output_type": "execute_result"
    }
   ],
   "source": [
    "print(\"First 10 Important features for outcome variable 'y':\")\n",
    "pd.DataFrame(sorted(zip(abs(lr.coef_), X_train.columns), reverse=True))[1][:10]"
   ]
  },
  {
   "cell_type": "markdown",
   "id": "d9e410bb",
   "metadata": {},
   "source": [
    "The above graph shows few important features for outcome varaible 'Price'"
   ]
  },
  {
   "cell_type": "markdown",
   "id": "23e62dc2",
   "metadata": {},
   "source": [
    "### Use of Regularization techniques(L2, L1) for reducing the overfitting "
   ]
  },
  {
   "cell_type": "code",
   "execution_count": 30,
   "id": "1e7a95aa",
   "metadata": {},
   "outputs": [],
   "source": [
    "from sklearn.linear_model import Ridge, Lasso, ElasticNet"
   ]
  },
  {
   "cell_type": "markdown",
   "id": "fb12f9dc",
   "metadata": {},
   "source": [
    "#### L2 Regularization"
   ]
  },
  {
   "cell_type": "code",
   "execution_count": 31,
   "id": "833318c5",
   "metadata": {},
   "outputs": [],
   "source": [
    "alphas = [ 0.001, 0.05, 0.5, 1.0, 1.2, 1.5, 2.0]\n",
    "r2 = []\n",
    "for alpha in alphas:\n",
    "    rd = Ridge(alpha=alpha)\n",
    "    rd = rd.fit(X_train_sc, y_train)\n",
    "    r2.append(r2_score(y_test, rd.predict(X_test_sc)))"
   ]
  },
  {
   "cell_type": "code",
   "execution_count": 32,
   "id": "5fbb613b",
   "metadata": {},
   "outputs": [
    {
     "data": {
      "text/plain": [
       "[0.8769691819630565,\n",
       " 0.878059921875552,\n",
       " 0.8495383224560512,\n",
       " 0.8347083145948049,\n",
       " 0.8320088942713157,\n",
       " 0.8296665218869865,\n",
       " 0.8282775205044303]"
      ]
     },
     "execution_count": 32,
     "metadata": {},
     "output_type": "execute_result"
    }
   ],
   "source": [
    "r2"
   ]
  },
  {
   "cell_type": "code",
   "execution_count": 33,
   "id": "1ff0b506",
   "metadata": {},
   "outputs": [
    {
     "data": {
      "image/png": "[encoded data removed]",
      "text/plain": [
       "<Figure size 432x288 with 1 Axes>"
      ]
     },
     "metadata": {
      "needs_background": "light"
     },
     "output_type": "display_data"
    }
   ],
   "source": [
    "ax = plt.axes()\n",
    "ax.plot(alphas, r2, marker = 'o')\n",
    "ax.set(xlabel = 'alpha',\n",
    "      ylabel='R2 score',\n",
    "      title='r2 score vs alpha',\n",
    "      )\n",
    "plt.show()"
   ]
  },
  {
   "cell_type": "markdown",
   "id": "90fe1f29",
   "metadata": {},
   "source": [
    "Here best 'alpha' value for our model is 0.05. Now, let's build our Ridge model with a=0.05"
   ]
  },
  {
   "cell_type": "code",
   "execution_count": 34,
   "id": "43729a1f",
   "metadata": {},
   "outputs": [
    {
     "name": "stdout",
     "output_type": "stream",
     "text": [
      "RMSE:  2428.3676143342996\n",
      "R2 score:  0.878059921875552\n"
     ]
    }
   ],
   "source": [
    "rd = Ridge(alpha = 0.05)\n",
    "rd = rd.fit(X_train_sc, y_train)\n",
    "\n",
    "rmse = np.sqrt(mean_squared_error(y_test, rd.predict(X_test_sc)))\n",
    "rd_r2_score = r2_score(y_test, rd.predict(X_test_sc))\n",
    "\n",
    "print('RMSE: ', rmse)\n",
    "print('R2 score: ', rd_r2_score)"
   ]
  },
  {
   "cell_type": "markdown",
   "id": "262f9e8b",
   "metadata": {},
   "source": [
    "#### L1 Regularization"
   ]
  },
  {
   "cell_type": "code",
   "execution_count": 35,
   "id": "b06a22b1",
   "metadata": {},
   "outputs": [],
   "source": [
    "alphas = [ 0.5, 1.0, 1.2, 1.5, 2.0, 10]\n",
    "r2 = []\n",
    "for alpha in alphas:\n",
    "    ls = Lasso(alpha=alpha)\n",
    "    ls = ls.fit(X_train_sc, y_train)\n",
    "    r2.append(r2_score(y_test, ls.predict(X_test_sc)))"
   ]
  },
  {
   "cell_type": "code",
   "execution_count": 36,
   "id": "61ba0b73",
   "metadata": {},
   "outputs": [
    {
     "data": {
      "text/plain": [
       "[0.8828494604956083,\n",
       " 0.8820852163184568,\n",
       " 0.8816594916511636,\n",
       " 0.8813114768047153,\n",
       " 0.8806715020067505,\n",
       " 0.8540109601099153]"
      ]
     },
     "execution_count": 36,
     "metadata": {},
     "output_type": "execute_result"
    }
   ],
   "source": [
    "r2"
   ]
  },
  {
   "cell_type": "code",
   "execution_count": 37,
   "id": "082b179f",
   "metadata": {},
   "outputs": [
    {
     "data": {
      "image/png": "[encoded data removed]",
      "text/plain": [
       "<Figure size 432x288 with 1 Axes>"
      ]
     },
     "metadata": {
      "needs_background": "light"
     },
     "output_type": "display_data"
    }
   ],
   "source": [
    "ax = plt.axes()\n",
    "ax.plot(alphas, r2, marker = 'o')\n",
    "ax.set(xlabel = 'alpha',\n",
    "      ylabel='R2 score',\n",
    "      title='r2 score vs alpha',\n",
    "      )\n",
    "plt.tick_params()\n",
    "plt.show()"
   ]
  },
  {
   "cell_type": "markdown",
   "id": "f7d21e20",
   "metadata": {},
   "source": [
    "here best 'alpha' value for our model is '0.5'"
   ]
  },
  {
   "cell_type": "code",
   "execution_count": 38,
   "id": "362a6ef1",
   "metadata": {},
   "outputs": [
    {
     "name": "stdout",
     "output_type": "stream",
     "text": [
      "RMSE:  2395.7724192352575\n",
      "R2 score:  0.8813114768047153\n"
     ]
    }
   ],
   "source": [
    "ls = Lasso(alpha = 1.5)\n",
    "ls = ls.fit(X_train_sc, y_train)\n",
    "\n",
    "rmse = np.sqrt(mean_squared_error(y_test, ls.predict(X_test_sc)))\n",
    "ls_r2_score = r2_score(y_test, ls.predict(X_test_sc))\n",
    "\n",
    "print('RMSE: ', rmse)\n",
    "print('R2 score: ', ls_r2_score)"
   ]
  },
  {
   "cell_type": "code",
   "execution_count": 39,
   "id": "fc47fd9a",
   "metadata": {},
   "outputs": [
    {
     "data": {
      "text/plain": [
       "3"
      ]
     },
     "execution_count": 39,
     "metadata": {},
     "output_type": "execute_result"
    }
   ],
   "source": [
    "sum(abs(ls.coef_) == 0)"
   ]
  },
  {
   "cell_type": "code",
   "execution_count": 40,
   "id": "005d3293",
   "metadata": {},
   "outputs": [
    {
     "data": {
      "text/plain": [
       "array([-2.91777426e+00,  1.16711740e+03, -8.40937491e+02,  1.56784795e+03,\n",
       "       -6.07531232e+02,  1.34558027e+03, -1.92389195e+03,  7.92568193e+03,\n",
       "       -2.24082679e+03, -1.05118647e+03, -1.82305636e+03, -9.53683039e+01,\n",
       "        1.00952252e+03,  3.57227393e+02,  3.91762352e+02, -8.15810300e+02,\n",
       "        9.45405011e+02, -5.71135481e+02, -1.92379731e+03, -1.65527001e+03,\n",
       "       -8.33260788e+02, -2.23436643e+02,  1.82283879e+01,  7.74138122e+02,\n",
       "        2.49485280e+02,  1.27147109e+03,  4.72949874e+02,  2.58332804e+02,\n",
       "       -4.20661597e+02,  5.05617336e+02,  5.50186677e+02,  5.05617336e+02,\n",
       "        8.15810300e+02, -6.65736994e+01,  1.31026204e+02,  2.92595036e+01,\n",
       "        1.22409741e+02,  1.59426971e+02,  1.62164917e+03,  6.26949277e+02,\n",
       "       -3.69711280e+02, -6.72499941e+02, -5.05574654e+02, -1.58314150e+02,\n",
       "       -2.73513859e+02, -2.25820182e+02, -4.63391568e+01, -9.58584701e+02,\n",
       "       -4.04670011e+02, -1.53367872e+03, -6.96254649e+02,  1.01150453e+03,\n",
       "       -1.40026618e+02,  5.83871329e+02, -1.08899661e+02, -3.39568360e+02,\n",
       "        5.50300193e+00,  1.63402912e+02])"
      ]
     },
     "execution_count": 40,
     "metadata": {},
     "output_type": "execute_result"
    }
   ],
   "source": [
    "rd.coef_"
   ]
  },
  {
   "cell_type": "code",
   "execution_count": 41,
   "id": "4c398298",
   "metadata": {},
   "outputs": [
    {
     "data": {
      "text/plain": [
       "0"
      ]
     },
     "execution_count": 41,
     "metadata": {},
     "output_type": "execute_result"
    }
   ],
   "source": [
    "sum(abs(rd.coef_) == 0)"
   ]
  },
  {
   "cell_type": "markdown",
   "id": "82a05485",
   "metadata": {},
   "source": [
    "##### Conclusion\n",
    "This shows that L1 regularization does make some coefficients = 0. So, Lasso helps in feature selection"
   ]
  },
  {
   "cell_type": "markdown",
   "id": "aa52c79b",
   "metadata": {},
   "source": [
    "While in Case of Ridge Regression, coefficients tends to move towards 0."
   ]
  },
  {
   "cell_type": "markdown",
   "id": "76598ade",
   "metadata": {},
   "source": [
    "### What to choose :    Ridge Reg. or Lasso Reg.\n",
    "Why to choose when we can use Elastic net Regression. It combines the penalities of both lasso and ridge in its Cost Function"
   ]
  },
  {
   "cell_type": "code",
   "execution_count": 42,
   "id": "9122e360",
   "metadata": {},
   "outputs": [],
   "source": [
    "from sklearn.model_selection import GridSearchCV"
   ]
  },
  {
   "cell_type": "code",
   "execution_count": 43,
   "id": "ab6feaaf",
   "metadata": {},
   "outputs": [],
   "source": [
    "param_grid = {\n",
    "    'alpha': [0.05, 0.5, 1.0, 1.5, 2],\n",
    "    'l1_ratio': [ 0.1, 0.5, 1.0, 1.5]\n",
    "}"
   ]
  },
  {
   "cell_type": "code",
   "execution_count": 44,
   "id": "ad26b45a",
   "metadata": {},
   "outputs": [
    {
     "data": {
      "text/plain": [
       "GridSearchCV(estimator=ElasticNet(),\n",
       "             param_grid={'alpha': [0.05, 0.5, 1.0, 1.5, 2],\n",
       "                         'l1_ratio': [0.1, 0.5, 1.0, 1.5]})"
      ]
     },
     "execution_count": 44,
     "metadata": {},
     "output_type": "execute_result"
    }
   ],
   "source": [
    "en = ElasticNet()\n",
    "gscv = GridSearchCV(en, param_grid=param_grid)\n",
    "gscv.fit(X_train_sc, y_train)"
   ]
  },
  {
   "cell_type": "code",
   "execution_count": 45,
   "id": "bb483397",
   "metadata": {},
   "outputs": [
    {
     "data": {
      "text/html": [
       "<div>\n",
       "<style scoped>\n",
       "    .dataframe tbody tr th:only-of-type {\n",
       "        vertical-align: middle;\n",
       "    }\n",
       "\n",
       "    .dataframe tbody tr th {\n",
       "        vertical-align: top;\n",
       "    }\n",
       "\n",
       "    .dataframe thead th {\n",
       "        text-align: right;\n",
       "    }\n",
       "</style>\n",
       "<table border=\"1\" class=\"dataframe\">\n",
       "  <thead>\n",
       "    <tr style=\"text-align: right;\">\n",
       "      <th></th>\n",
       "      <th>mean_fit_time</th>\n",
       "      <th>std_fit_time</th>\n",
       "      <th>mean_score_time</th>\n",
       "      <th>std_score_time</th>\n",
       "      <th>param_alpha</th>\n",
       "      <th>param_l1_ratio</th>\n",
       "      <th>params</th>\n",
       "      <th>split0_test_score</th>\n",
       "      <th>split1_test_score</th>\n",
       "      <th>split2_test_score</th>\n",
       "      <th>split3_test_score</th>\n",
       "      <th>split4_test_score</th>\n",
       "      <th>mean_test_score</th>\n",
       "      <th>std_test_score</th>\n",
       "      <th>rank_test_score</th>\n",
       "    </tr>\n",
       "  </thead>\n",
       "  <tbody>\n",
       "    <tr>\n",
       "      <th>0</th>\n",
       "      <td>0.005592</td>\n",
       "      <td>0.001495</td>\n",
       "      <td>0.000849</td>\n",
       "      <td>0.000436</td>\n",
       "      <td>0.05</td>\n",
       "      <td>0.1</td>\n",
       "      <td>{'alpha': 0.05, 'l1_ratio': 0.1}</td>\n",
       "      <td>0.904353</td>\n",
       "      <td>0.935844</td>\n",
       "      <td>0.862491</td>\n",
       "      <td>0.886385</td>\n",
       "      <td>0.942125</td>\n",
       "      <td>0.906239</td>\n",
       "      <td>0.029919</td>\n",
       "      <td>1</td>\n",
       "    </tr>\n",
       "    <tr>\n",
       "      <th>1</th>\n",
       "      <td>0.006878</td>\n",
       "      <td>0.000472</td>\n",
       "      <td>0.000726</td>\n",
       "      <td>0.000389</td>\n",
       "      <td>0.05</td>\n",
       "      <td>0.5</td>\n",
       "      <td>{'alpha': 0.05, 'l1_ratio': 0.5}</td>\n",
       "      <td>0.901736</td>\n",
       "      <td>0.936824</td>\n",
       "      <td>0.863354</td>\n",
       "      <td>0.885381</td>\n",
       "      <td>0.925978</td>\n",
       "      <td>0.902654</td>\n",
       "      <td>0.026665</td>\n",
       "      <td>2</td>\n",
       "    </tr>\n",
       "    <tr>\n",
       "      <th>2</th>\n",
       "      <td>0.014753</td>\n",
       "      <td>0.000413</td>\n",
       "      <td>0.000805</td>\n",
       "      <td>0.000403</td>\n",
       "      <td>0.05</td>\n",
       "      <td>1.0</td>\n",
       "      <td>{'alpha': 0.05, 'l1_ratio': 1.0}</td>\n",
       "      <td>0.883624</td>\n",
       "      <td>0.878846</td>\n",
       "      <td>0.859875</td>\n",
       "      <td>0.898299</td>\n",
       "      <td>0.892045</td>\n",
       "      <td>0.882538</td>\n",
       "      <td>0.013170</td>\n",
       "      <td>10</td>\n",
       "    </tr>\n",
       "    <tr>\n",
       "      <th>3</th>\n",
       "      <td>0.000598</td>\n",
       "      <td>0.000488</td>\n",
       "      <td>0.000000</td>\n",
       "      <td>0.000000</td>\n",
       "      <td>0.05</td>\n",
       "      <td>1.5</td>\n",
       "      <td>{'alpha': 0.05, 'l1_ratio': 1.5}</td>\n",
       "      <td>NaN</td>\n",
       "      <td>NaN</td>\n",
       "      <td>NaN</td>\n",
       "      <td>NaN</td>\n",
       "      <td>NaN</td>\n",
       "      <td>NaN</td>\n",
       "      <td>NaN</td>\n",
       "      <td>16</td>\n",
       "    </tr>\n",
       "    <tr>\n",
       "      <th>4</th>\n",
       "      <td>0.002789</td>\n",
       "      <td>0.000396</td>\n",
       "      <td>0.000598</td>\n",
       "      <td>0.000488</td>\n",
       "      <td>0.5</td>\n",
       "      <td>0.1</td>\n",
       "      <td>{'alpha': 0.5, 'l1_ratio': 0.1}</td>\n",
       "      <td>0.883655</td>\n",
       "      <td>0.927675</td>\n",
       "      <td>0.826683</td>\n",
       "      <td>0.886558</td>\n",
       "      <td>0.932422</td>\n",
       "      <td>0.891399</td>\n",
       "      <td>0.038133</td>\n",
       "      <td>7</td>\n",
       "    </tr>\n",
       "  </tbody>\n",
       "</table>\n",
       "</div>"
      ],
      "text/plain": [
       "   mean_fit_time  std_fit_time  mean_score_time  std_score_time param_alpha  \\\n",
       "0       0.005592      0.001495         0.000849        0.000436        0.05   \n",
       "1       0.006878      0.000472         0.000726        0.000389        0.05   \n",
       "2       0.014753      0.000413         0.000805        0.000403        0.05   \n",
       "3       0.000598      0.000488         0.000000        0.000000        0.05   \n",
       "4       0.002789      0.000396         0.000598        0.000488         0.5   \n",
       "\n",
       "  param_l1_ratio                            params  split0_test_score  \\\n",
       "0            0.1  {'alpha': 0.05, 'l1_ratio': 0.1}           0.904353   \n",
       "1            0.5  {'alpha': 0.05, 'l1_ratio': 0.5}           0.901736   \n",
       "2            1.0  {'alpha': 0.05, 'l1_ratio': 1.0}           0.883624   \n",
       "3            1.5  {'alpha': 0.05, 'l1_ratio': 1.5}                NaN   \n",
       "4            0.1   {'alpha': 0.5, 'l1_ratio': 0.1}           0.883655   \n",
       "\n",
       "   split1_test_score  split2_test_score  split3_test_score  split4_test_score  \\\n",
       "0           0.935844           0.862491           0.886385           0.942125   \n",
       "1           0.936824           0.863354           0.885381           0.925978   \n",
       "2           0.878846           0.859875           0.898299           0.892045   \n",
       "3                NaN                NaN                NaN                NaN   \n",
       "4           0.927675           0.826683           0.886558           0.932422   \n",
       "\n",
       "   mean_test_score  std_test_score  rank_test_score  \n",
       "0         0.906239        0.029919                1  \n",
       "1         0.902654        0.026665                2  \n",
       "2         0.882538        0.013170               10  \n",
       "3              NaN             NaN               16  \n",
       "4         0.891399        0.038133                7  "
      ]
     },
     "execution_count": 45,
     "metadata": {},
     "output_type": "execute_result"
    }
   ],
   "source": [
    "pd.DataFrame(gscv.cv_results_).head()"
   ]
  },
  {
   "cell_type": "code",
   "execution_count": 46,
   "id": "15044c12",
   "metadata": {},
   "outputs": [
    {
     "data": {
      "text/plain": [
       "{'alpha': 0.05, 'l1_ratio': 0.1}"
      ]
     },
     "execution_count": 46,
     "metadata": {},
     "output_type": "execute_result"
    }
   ],
   "source": [
    "gscv.best_params_"
   ]
  },
  {
   "cell_type": "code",
   "execution_count": 47,
   "id": "658ba053",
   "metadata": {},
   "outputs": [
    {
     "name": "stdout",
     "output_type": "stream",
     "text": [
      "RMSE:  2801.6485167523433\n",
      "R2 score:  0.8376901398895529\n"
     ]
    }
   ],
   "source": [
    "best = gscv.best_estimator_\n",
    "rmse = np.sqrt(mean_squared_error(y_test, best.predict(X_test_sc)))\n",
    "en_r2_score = r2_score(y_test,best.predict(X_test_sc) )\n",
    "print('RMSE: ', rmse)\n",
    "print('R2 score: ', en_r2_score)"
   ]
  },
  {
   "cell_type": "markdown",
   "id": "29fa28e3",
   "metadata": {},
   "source": [
    "### Polynomial Regression"
   ]
  },
  {
   "cell_type": "code",
   "execution_count": 48,
   "id": "8ca9dd5e",
   "metadata": {},
   "outputs": [],
   "source": [
    "from sklearn.preprocessing import PolynomialFeatures\n",
    "polyFeat = PolynomialFeatures(degree=2)\n",
    "\n",
    "polyFeat.fit(X_train_sc)\n",
    "X_train_transformed = polyFeat.transform(X_train)\n",
    "X_test_transformed = polyFeat.transform(X_test)"
   ]
  },
  {
   "cell_type": "code",
   "execution_count": 49,
   "id": "27bb703a",
   "metadata": {},
   "outputs": [],
   "source": [
    "ss = StandardScaler()\n",
    "ss = ss.fit(X_train_transformed)\n",
    "X_train_sc2 = ss.transform(X_train_transformed)\n",
    "X_test_sc2 = ss.transform(X_test_transformed)"
   ]
  },
  {
   "cell_type": "code",
   "execution_count": 50,
   "id": "27e73a56",
   "metadata": {},
   "outputs": [
    {
     "name": "stdout",
     "output_type": "stream",
     "text": [
      "RMSE:  2890346174284564.5\n",
      "R2 Score:  -1.7274970968563524e+23\n"
     ]
    }
   ],
   "source": [
    "lr2 = LinearRegression()\n",
    "lr2 = lr2.fit(X_train_sc2, y_train)\n",
    "\n",
    "rmse = np.sqrt(mean_squared_error(y_test, lr2.predict(X_test_sc2)))\n",
    "poly_r2_score = r2_score(y_test, lr2.predict(X_test_sc2))\n",
    "print('RMSE: ', rmse)\n",
    "print('R2 Score: ', poly_r2_score)"
   ]
  },
  {
   "cell_type": "markdown",
   "id": "8b62055a",
   "metadata": {},
   "source": [
    "Negative 'R2 Score' clearly shows that our model is showing 'overfitting' problem. It can be easily solved by 'Regularization' techniques. So, let's try it"
   ]
  },
  {
   "cell_type": "code",
   "execution_count": 51,
   "id": "65f3a691",
   "metadata": {},
   "outputs": [
    {
     "name": "stdout",
     "output_type": "stream",
     "text": [
      "RMSE:  2065.242978525603\n",
      "R2 score:  0.9118017612058952\n"
     ]
    }
   ],
   "source": [
    "ls2 = Lasso(alpha = 1.2)    # L1 Regularization\n",
    "ls2 = ls2.fit(X_train_sc2, y_train)\n",
    "\n",
    "rmse = np.sqrt(mean_squared_error(y_test, ls2.predict(X_test_sc2)))\n",
    "ls2_r2_score = r2_score(y_test, ls2.predict(X_test_sc2))\n",
    "\n",
    "print('RMSE: ', rmse)\n",
    "print('R2 score: ', ls2_r2_score)"
   ]
  },
  {
   "cell_type": "markdown",
   "id": "94a8b81b",
   "metadata": {},
   "source": [
    "##### Conclusion:\n",
    "Polynomial Regression increases the number of features which can create more complex model. Hence can cause 'overfitting' problems & high varaince. But thanks to our L2 and L1 Regularization techniques which create the optimal complex model hence preventing overfitting "
   ]
  },
  {
   "cell_type": "markdown",
   "id": "16ff801f",
   "metadata": {},
   "source": [
    "So I think \"Applying Regularization on Polynomial regression\" can give the best results and accuracy scores on our dataset."
   ]
  },
  {
   "cell_type": "markdown",
   "id": "f19410e2",
   "metadata": {},
   "source": [
    "### Insights and Key Findings"
   ]
  },
  {
   "cell_type": "markdown",
   "id": "aeb185df",
   "metadata": {},
   "source": [
    "1. Scaling has no effect on Simple Linear Regression. But It matters for Regularization techniques(L1 and L2)\n",
    "2. The magnitude of coefficients decide the importance of a particular feature which is useful in feature selection\n",
    "3. Ridge and Lasso Reg. both penalize the coefficients preventing overfitting.\n",
    "4. Ridge can scale down the coefficients close to zero. \n",
    "5. Lasso can make some coefficients = 0 which is helpful in feature selection.\n",
    "6. When to choose between Ridge & Lasso, One can choose ElasticNet Regression.\n",
    "7. Using Polynomial Regression can make complex model causing 'overfitting' and 'high variance'"
   ]
  },
  {
   "cell_type": "markdown",
   "id": "d57d77e0",
   "metadata": {},
   "source": [
    "### Combining processing steps using Pipeline"
   ]
  },
  {
   "cell_type": "code",
   "execution_count": 52,
   "id": "8b17a823",
   "metadata": {},
   "outputs": [],
   "source": [
    "from sklearn.pipeline import Pipeline\n",
    "pipe = Pipeline([('polyFeat', PolynomialFeatures(degree = 2)),\n",
    "          ('Scaling', StandardScaler()),\n",
    "          ('Ridge', Ridge(alpha=2.5))])"
   ]
  },
  {
   "cell_type": "code",
   "execution_count": 53,
   "id": "ae90a2b0",
   "metadata": {},
   "outputs": [
    {
     "name": "stdout",
     "output_type": "stream",
     "text": [
      "RMSE:  2275.2249350812035\n",
      "R2 score:  0.8929550258430393\n"
     ]
    }
   ],
   "source": [
    "pipe = pipe.fit(X_train, y_train)\n",
    "\n",
    "rmse = np.sqrt(mean_squared_error(y_test, pipe.predict(X_test)))\n",
    "r2Score = r2_score(y_test, pipe.predict(X_test))\n",
    "\n",
    "print(\"RMSE: \", rmse)\n",
    "print(\"R2 score: \", r2Score)"
   ]
  },
  {
   "cell_type": "code",
   "execution_count": null,
   "id": "fce620fd",
   "metadata": {},
   "outputs": [],
   "source": []
  }
 ],
 "metadata": {
  "kernelspec": {
   "display_name": "Python 3 (ipykernel)",
   "language": "python",
   "name": "python3"
  },
  "language_info": {
   "codemirror_mode": {
    "name": "ipython",
    "version": 3
   },
   "file_extension": ".py",
   "mimetype": "text/x-python",
   "name": "python",
   "nbconvert_exporter": "python",
   "pygments_lexer": "ipython3",
   "version": "3.9.0"
  }
 },
 "nbformat": 4,
 "nbformat_minor": 5
}
